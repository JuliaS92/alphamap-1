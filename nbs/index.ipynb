{
 "cells": [
  {
   "cell_type": "markdown",
   "metadata": {},
   "source": [
    "# AlphaMap\n",
    "\n",
    "> A python-based library that enables the exploration of proteomic datasets on the peptide level. "
   ]
  },
  {
   "cell_type": "markdown",
   "metadata": {},
   "source": [
    "## Installation instructions"
   ]
  },
  {
   "cell_type": "markdown",
   "metadata": {},
   "source": [
    "We recommend the Anaconda or Miniconda Python distribution, which comes with a powerful package manager. \n",
    "\n",
    "It is recommended to install AlphaMap in its own environment.\n",
    "\n",
    "1. Open the console and create a new conda environment: conda create --name alphamap python=3\n",
    "2. Activate the environment: conda activate alphamap\n",
    "3. Redirect to the folder of choice and clone the repository: git clone git@github.com:MannLabs/pepmap.git\n",
    "4. Navigate to the alphamap folder and install the package with pip install . (default users) or with pip install -e . to enable developers mode.\n",
    "5. If AlphaMap is installed correctly, you should be able to import alphamap as a package within the environment; see below.\n",
    "\n",
    "If you would like to use AlphaMap in a jupyter notebook environment, additionally install nb_conda: conda install nb_conda."
   ]
  },
  {
   "cell_type": "markdown",
   "metadata": {},
   "source": [
    "## How to use"
   ]
  },
  {
   "cell_type": "code",
   "execution_count": null,
   "metadata": {},
   "outputs": [],
   "source": [
    "#hide\n",
    "import sys\n",
    "sys.path.append('../')"
   ]
  },
  {
   "cell_type": "markdown",
   "metadata": {},
   "source": [
    "### Load fasta "
   ]
  },
  {
   "cell_type": "code",
   "execution_count": null,
   "metadata": {},
   "outputs": [],
   "source": [
    "#from pyteomics import fasta\n",
    "#full_human_fasta = fasta.IndexedUniProt('../data/human.fasta')"
   ]
  },
  {
   "cell_type": "markdown",
   "metadata": {},
   "source": [
    "### Import data MS data"
   ]
  },
  {
   "cell_type": "code",
   "execution_count": null,
   "metadata": {},
   "outputs": [],
   "source": [
    "# from pepmap.importing import import_data"
   ]
  },
  {
   "cell_type": "markdown",
   "metadata": {},
   "source": [
    "Import the entire dataset"
   ]
  },
  {
   "cell_type": "code",
   "execution_count": null,
   "metadata": {},
   "outputs": [],
   "source": [
    "# data_all = import_data('testdata/test_spectronaut_input.csv')"
   ]
  },
  {
   "cell_type": "markdown",
   "metadata": {},
   "source": [
    "Import a single raw file"
   ]
  },
  {
   "cell_type": "code",
   "execution_count": null,
   "metadata": {},
   "outputs": [],
   "source": [
    "# data_raw_01 = import_data('testdata/test_spectronaut_input.csv', sample=\"raw_01\")"
   ]
  },
  {
   "cell_type": "markdown",
   "metadata": {},
   "source": [
    "Import a selection of multiple raw files"
   ]
  },
  {
   "cell_type": "code",
   "execution_count": null,
   "metadata": {},
   "outputs": [],
   "source": [
    "# data_raw_01_raw_02 = import_data('testdata/test_spectronaut_input.csv', sample=[\"raw_01\", \"raw_02\"])"
   ]
  },
  {
   "cell_type": "markdown",
   "metadata": {},
   "source": [
    "### Data preprocessing"
   ]
  },
  {
   "cell_type": "code",
   "execution_count": null,
   "metadata": {},
   "outputs": [],
   "source": [
    "# from pepmap.preprocessing import format_input_data"
   ]
  },
  {
   "cell_type": "code",
   "execution_count": null,
   "metadata": {},
   "outputs": [],
   "source": [
    "# formatted_proteome_data = format_input_data(df = data_all, fasta = full_human_fasta)"
   ]
  },
  {
   "cell_type": "markdown",
   "metadata": {},
   "source": [
    "### Data visualization"
   ]
  },
  {
   "cell_type": "code",
   "execution_count": null,
   "metadata": {},
   "outputs": [],
   "source": [
    "#plot_peptide_traces(formatted_proteome_data,\n",
    "#                    name = 'proteome',\n",
    "#                    protein = \"P37802\",\n",
    "#                    fasta = full_human_fasta,\n",
    "#                    uniprot=uniprot_annotation,\n",
    "#                    selected_features=all_annotatins,\n",
    "#                    uniprot_feature_dict=uniprot_feature_dict, \n",
    "#                    uniprot_color_dict=uniprot_color_dict)"
   ]
  },
  {
   "cell_type": "code",
   "execution_count": null,
   "metadata": {},
   "outputs": [],
   "source": []
  },
  {
   "cell_type": "code",
   "execution_count": null,
   "metadata": {},
   "outputs": [
    {
     "name": "stdout",
     "output_type": "stream",
     "text": [
      "Converted Importing.ipynb.\n",
      "Converted Preprocessing.ipynb.\n",
      "Converted SequencePlot.ipynb.\n",
      "Converted Uniprot_integration.ipynb.\n",
      "Converted index.ipynb.\n"
     ]
    }
   ],
   "source": [
    "#hide\n",
    "from nbdev.export import *\n",
    "notebook2script()"
   ]
  },
  {
   "cell_type": "code",
   "execution_count": null,
   "metadata": {},
   "outputs": [],
   "source": []
  }
 ],
 "metadata": {
  "kernelspec": {
   "display_name": "Python [conda env:alphamap]",
   "language": "python",
   "name": "conda-env-alphamap-py"
  }
 },
 "nbformat": 4,
 "nbformat_minor": 2
}
