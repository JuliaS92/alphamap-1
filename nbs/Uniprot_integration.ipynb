{
 "cells": [
  {
   "cell_type": "code",
   "execution_count": null,
   "metadata": {},
   "outputs": [],
   "source": [
    "# default_exp uniprot_integration"
   ]
  },
  {
   "cell_type": "code",
   "execution_count": 1,
   "metadata": {},
   "outputs": [],
   "source": [
    "#export\n",
    "import pandas as pd\n",
    "import numpy as np"
   ]
  },
  {
   "cell_type": "markdown",
   "metadata": {},
   "source": [
    "# Integration of Uniprot Data\n",
    "\n",
    "This notebook allows to download Uniprot data and save them in a csv format.  \n",
    "\n",
    "The preprocessed downloaded data will include information about:  \n",
    "- __the preprocessing events__ known for proteins, such as signal peptide, transit peptide, propeptide, chain, peptide;\n",
    "- information on all available in Uniprot __post translational modificatios__, like modified residues (Phosphorylation, Methylation, Acetylation, etc.), Lipidation, Glycosylation, etc.;\n",
    "- information on __sequence similarities__ with other proteins and __the domain(s)__ present in a protein, such as domain, repear, region, motif, etc.;\n",
    "- information on __the secondary and tertiary structure__ of proteins, such as turn, beta strand, helix."
   ]
  },
  {
   "cell_type": "markdown",
   "metadata": {},
   "source": [
    "### Specify a path to the downloaded from Uniprot DB flat txt file\n",
    "\n",
    "1. Go to the Uniprot website(https://www.uniprot.org/uniprot/), select a needed organism in the \"Popular organisms\" section and click on it.\n",
    "2. Click the \"Download\" button and select \"Text\" format.\n",
    "3. Select the \"Compressed\" radio button and click \"Go\".\n",
    "4. Unzip the downloaded file and specify a path to this file."
   ]
  },
  {
   "cell_type": "code",
   "execution_count": 2,
   "metadata": {},
   "outputs": [],
   "source": [
    "path_downloaded_uniprot = '../testdata/uniprot-filtered-organism__Homo+sapiens+(Human)+[9606]_.txt'"
   ]
  },
  {
   "cell_type": "markdown",
   "metadata": {},
   "source": [
    "### Define helper functions to preprocess Uniprot data"
   ]
  },
  {
   "cell_type": "code",
   "execution_count": 4,
   "metadata": {},
   "outputs": [],
   "source": [
    "#export\n",
    "def extract_note(string, splitted=False):\n",
    "    \"\"\"\n",
    "    Function to extract information about note of the protein from Uniprot using regular expression\n",
    "    \"\"\"\n",
    "    if not splitted:\n",
    "        regex = r\"\\/note=\\\"(?P<note>.+?)\\\"\"\n",
    "    else:\n",
    "        regex = r\"\\/note=\\\"(?P<note>.*)\"\n",
    "    result = re.findall(regex, string)\n",
    "    return result\n",
    "\n",
    "def extract_note_end(string, has_mark=True):\n",
    "    if has_mark:\n",
    "        regex = r\"FT\\s+(?P<note>.*)\\\"\"\n",
    "    else:\n",
    "        regex = r\"FT\\s+(?P<note>.*)\"\n",
    "    result = re.findall(regex, string)\n",
    "    return result"
   ]
  },
  {
   "cell_type": "code",
   "execution_count": 6,
   "metadata": {},
   "outputs": [],
   "source": [
    "#export\n",
    "def resolve_unclear_position(value):\n",
    "    \"\"\"\n",
    "    Replace unclear position of the start/end of the modification defined as '?' with -1 and if it's defined as '?N' \n",
    "    or \">N\" - by removing the '?'/'>'/'<' signs\n",
    "    \"\"\"\n",
    "    # if it's \"1..?\" or \"?..345\" for start or end -> remove -1 that we can filter later\n",
    "    # if it's \"31..?327\" or \"?31..327\" -> remove the question mark\n",
    "    # if it's \"<1..106\" or \"22..>115\" -> remove the \"<\" or \">\" signs\n",
    "    if value == '?':\n",
    "        return -1\n",
    "    value = value.replace('?', '').replace('>', '').replace('<', '')\n",
    "    return int(value)"
   ]
  },
  {
   "cell_type": "code",
   "execution_count": 5,
   "metadata": {},
   "outputs": [],
   "source": [
    "#export\n",
    "def extract_positions(posit_string):\n",
    "    \"\"\"\n",
    "    Extract isoform_id(str) and start/end positions(int, int/float) of any feature key from the string \n",
    "    \"\"\"\n",
    "    isoform = ''\n",
    "    start = end = np.nan\n",
    "    if '..' in posit_string:\n",
    "        start, end = posit_string.split('..')\n",
    "    if ':' in posit_string:\n",
    "        if isinstance(start, str):\n",
    "            isoform, start = start.split(':')\n",
    "        else:\n",
    "            isoform, start = posit_string.split(':')\n",
    "    # in the case when we have only one numeric value as a posit_string\n",
    "    if isinstance(start, float):\n",
    "        start = posit_string\n",
    "    # change the type of start and end into int/float(np.nan)\n",
    "    if isinstance(start, str):\n",
    "        start = resolve_unclear_position(start)\n",
    "    if isinstance(end, str):\n",
    "        end = resolve_unclear_position(end)\n",
    "    return isoform, start, end"
   ]
  },
  {
   "cell_type": "code",
   "execution_count": null,
   "metadata": {},
   "outputs": [],
   "source": []
  },
  {
   "cell_type": "code",
   "execution_count": null,
   "metadata": {},
   "outputs": [],
   "source": []
  },
  {
   "cell_type": "code",
   "execution_count": null,
   "metadata": {},
   "outputs": [],
   "source": []
  },
  {
   "cell_type": "markdown",
   "metadata": {},
   "source": [
    "# Export notebook to script"
   ]
  },
  {
   "cell_type": "code",
   "execution_count": null,
   "metadata": {},
   "outputs": [],
   "source": [
    "#hide\n",
    "from nbdev.showdoc import *"
   ]
  },
  {
   "cell_type": "code",
   "execution_count": null,
   "metadata": {},
   "outputs": [],
   "source": [
    "#hide\n",
    "from nbdev.export import *\n",
    "notebook2script()"
   ]
  }
 ],
 "metadata": {
  "kernelspec": {
   "display_name": "Python 3",
   "language": "python",
   "name": "python3"
  },
  "language_info": {
   "codemirror_mode": {
    "name": "ipython",
    "version": 3
   },
   "file_extension": ".py",
   "mimetype": "text/x-python",
   "name": "python",
   "nbconvert_exporter": "python",
   "pygments_lexer": "ipython3",
   "version": "3.7.6"
  }
 },
 "nbformat": 4,
 "nbformat_minor": 4
}
