{
 "cells": [
  {
   "cell_type": "code",
   "execution_count": 1,
   "metadata": {},
   "outputs": [],
   "source": [
    "# default_exp sequenceplot"
   ]
  },
  {
   "cell_type": "code",
   "execution_count": 2,
   "metadata": {},
   "outputs": [],
   "source": [
    "#hide\n",
    "import sys\n",
    "sys.path.append('../')\n",
    "from pepmap.uniprot_integration import uniprot_feature_dict"
   ]
  },
  {
   "cell_type": "markdown",
   "metadata": {},
   "source": [
    "### Format uniprot annotation"
   ]
  },
  {
   "cell_type": "code",
   "execution_count": 3,
   "metadata": {},
   "outputs": [],
   "source": [
    "#export\n",
    "import pandas as pd\n",
    "\n",
    "def format_uniprot_annotation(uniprot_ann):\n",
    "    \"\"\"\n",
    "    Function to format uniprot annotation for plotting\n",
    "    \"\"\"\n",
    "    uniprot = uniprot_ann.copy(deep=True)\n",
    "    uniprot.loc[uniprot.feature == \"HELIX\", \"note\"] = \"Helix\"\n",
    "    uniprot.loc[uniprot.feature == \"STRAND\", \"note\"] = \"Beta strand\"\n",
    "    uniprot.loc[uniprot.feature == \"TURN\", \"note\"] = \"Turn\"\n",
    "    uniprot.loc[uniprot.feature.isin([\"HELIX\",\"STRAND\",\"TURN\"]), \"feature\"] = \"STRUCTURE\"\n",
    "    return uniprot\n"
   ]
  },
  {
   "cell_type": "code",
   "execution_count": 4,
   "metadata": {},
   "outputs": [],
   "source": [
    "#hide\n",
    "def test_format_uniprot_annotation():\n",
    "    in_df = pd.read_csv('../testdata/test_uniprot_df.csv')\n",
    "    out_df = pd.read_csv('../testdata/test_uniprot_df_formatted.csv')\n",
    "    in_df_formatted = format_uniprot_annotation(in_df)\n",
    "    pd.testing.assert_frame_equal(in_df_formatted, out_df)\n",
    "    \n",
    "test_format_uniprot_annotation()\n"
   ]
  },
  {
   "cell_type": "markdown",
   "metadata": {},
   "source": [
    "## Generate input data for testing"
   ]
  },
  {
   "cell_type": "code",
   "execution_count": 5,
   "metadata": {},
   "outputs": [],
   "source": [
    "#hide\n",
    "import pandas as pd\n",
    "from pyteomics import fasta\n",
    "\n",
    "test_formatted_proteome_data = pd.DataFrame(data={'unique_protein_id': [\"A0A024R161\", \"A0A087WT10\", \"A0A087WTH1\", \n",
    "                                                                             \"A0A024R161\", \"A0A087WT10\", \n",
    "                                                                             \"A0A087WTH5\"], \n",
    "                                                       'modified_sequence': [\"PEPT[Phospho (STY)]IDER\", \"PEPT[Phospho (STY)]IDER\", \"PEPT[Phospho (STY)]IDER\",\n",
    "                                                                             \"SEQ[GlyGly (K)]UENCE[GlyGly (K)]R\", \"SEQ[GlyGly (K)]UENCE[GlyGly (K)]R\", \n",
    "                                                                             \"VIEWER\"],\n",
    "                                                       'naked_sequence': [\"PEPTIDER\", \"PEPTIDER\", \"PEPTIDER\", \n",
    "                                                                          \"SEQUENCER\", \"SEQUENCER\", \n",
    "                                                                          \"VIEWER\"],\n",
    "                                                  'all_protein_ids': [\"A0A024R161;A0A087WT10;A0A087WTH1\", \"A0A024R161;A0A087WT10;A0A087WTH1\", \"A0A024R161;A0A087WT10;A0A087WTH1\", \n",
    "                                                                             \"A0A024R161;A0A087WT10\", \"A0A024R161;A0A087WT10\", \n",
    "                                                                             \"A0A087WTH5\"],\n",
    "                                                       'start':[3,28,107,95,150,1],\n",
    "                                                       'end':[10,35,114,103,158,6], \n",
    "                                           'PTMsites':[[3],[3],[3],[2,7],[2,7],[]],\n",
    "                                           'PTMtypes':[[\"[Phospho (STY)]\"],[\"[Phospho (STY)]\"],[\"[Phospho (STY)]\"],[\"[GlyGly (K)]\",\"[GlyGly (K)]\"],[\"[GlyGly (K)]\",\"[GlyGly (K)]\"],[]]})\n",
    "\n",
    "test_fasta = fasta.IndexedUniProt(\"../testdata/test.fasta\")"
   ]
  },
  {
   "cell_type": "code",
   "execution_count": 6,
   "metadata": {},
   "outputs": [],
   "source": [
    "# export \n",
    "ptm_shape_dict = {'[Phospho (STY)]': 0, \n",
    "                '[GlyGly (K)]':2,\n",
    "                '[Carbamidomethyl (C)]':3,\n",
    "                '[Oxidation (M)]':4,\n",
    "                '[Acetyl (Protein N-term)]':5}"
   ]
  },
  {
   "cell_type": "code",
   "execution_count": 7,
   "metadata": {},
   "outputs": [],
   "source": [
    "#export \n",
    "import numpy as np\n",
    "import pandas as pd\n",
    "from pyteomics import fasta\n",
    "\n",
    "def get_plot_data(protein,df,fasta):\n",
    "    protein_sequence = fasta[protein].sequence\n",
    "    df_prot = df[df.unique_protein_id==protein]\n",
    "    \n",
    "    if df_prot.shape[0] == 0:\n",
    "        df_plot = None\n",
    "    else:\n",
    "        df_peps = [np.arange(row['start'], row['end']+1) for _, row in df_prot.iterrows()]\n",
    "        df_peps  = pd.DataFrame.from_records(data=df_peps)\n",
    "        df_peps['modified_sequence'] = df_prot['modified_sequence'].values\n",
    "        df_peps['all_protein_ids'] = df_prot['all_protein_ids'].values\n",
    "        df_peps = df_peps.melt(id_vars=['modified_sequence','all_protein_ids'])\n",
    "        df_peps = df_peps[['modified_sequence','all_protein_ids','value']].dropna()\n",
    "        df_peps = df_peps.rename(columns={\"value\": \"seq_position\"})\n",
    "        df_peps['marker_symbol'] = 1\n",
    "        df_peps['marker_size'] = 8\n",
    "        df_peps['PTM'] = np.NaN\n",
    "        df_peps['PTMtype'] = np.NaN\n",
    "        df_peps['PTMshape'] = np.NaN\n",
    "        unique_pep = df_peps.modified_sequence.unique()\n",
    "        for uid in unique_pep:\n",
    "            df_peps_uid = df_peps[df_peps.modified_sequence==uid]\n",
    "            start_uid = np.min(df_peps_uid.seq_position)\n",
    "            end_uid = np.max(df_peps_uid.seq_position)\n",
    "            df_peps['marker_symbol'] = np.where(df_peps.seq_position == start_uid, 7, df_peps.marker_symbol)\n",
    "            df_peps['marker_symbol'] = np.where(df_peps.seq_position == end_uid, 8, df_peps.marker_symbol)\n",
    "            df_peps['marker_size'] = np.where(df_peps.seq_position == start_uid, 6, df_peps.marker_size)\n",
    "            df_peps['marker_size'] = np.where(df_peps.seq_position == end_uid, 6, df_peps.marker_size)\n",
    "\n",
    "            df_PTMs_uid = df_prot[df_prot.modified_sequence==uid]\n",
    "            PTMsites = df_PTMs_uid.PTMsites.tolist()[0] + start_uid\n",
    "            PTMtypes = df_PTMs_uid.PTMtypes.tolist()[0]\n",
    "\n",
    "            for i in range(0,len(PTMsites)):\n",
    "                df_peps['PTM'] = np.where(df_peps[\"seq_position\"]==PTMsites[i], 1, df_peps.PTM)\n",
    "                df_peps['PTMtype'] = np.where(df_peps[\"seq_position\"]==PTMsites[i], PTMtypes[i], df_peps.PTMtype)\n",
    "\n",
    "            df_seq = pd.DataFrame({'seq_position':np.arange(0,len(protein_sequence))})\n",
    "\n",
    "            df_plot = pd.merge(df_seq, df_peps, how='left', on='seq_position')\n",
    "            df_plot['height']=0\n",
    "            df_plot['color']=\"grey\"\n",
    "\n",
    "            unique_mods = df_plot['PTMtype'].dropna().unique()\n",
    "            if len(unique_mods) > 0:\n",
    "                for mod in df_plot['PTMtype'].dropna().unique():\n",
    "                    if mod != 'nan':\n",
    "                        df_plot.loc[df_plot.PTMtype == mod, 'PTMshape'] = ptm_shape_dict[mod]\n",
    "\n",
    "    return(df_plot)"
   ]
  },
  {
   "cell_type": "markdown",
   "metadata": {},
   "source": [
    "@ need to write tests for get_plot_data"
   ]
  },
  {
   "cell_type": "code",
   "execution_count": 8,
   "metadata": {},
   "outputs": [],
   "source": [
    "#export \n",
    "import plotly.graph_objects as go\n",
    "\n",
    "def plot_single_peptide_traces(df_plot,protein,fasta):\n",
    "    protein_sequence = fasta[protein].sequence\n",
    "    \n",
    "    ## Peptide backbone\n",
    "    df_plot_pep = df_plot.dropna(subset=['modified_sequence'])\n",
    "    plot1 = go.Scatter(x=df_plot_pep.seq_position,\n",
    "                       y=df_plot.height,\n",
    "                       xaxis='x1',\n",
    "                       mode='markers',\n",
    "                       marker_size=df_plot_pep.marker_size,\n",
    "                       marker_symbol=df_plot_pep.marker_symbol,\n",
    "                       marker_line_color=df_plot_pep.color,\n",
    "                       marker_color=df_plot_pep.color,\n",
    "                       marker_opacity=1,\n",
    "                       meta=df_plot_pep.modified_sequence,\n",
    "                       text=df_plot_pep.all_protein_ids,\n",
    "                       hovertemplate ='Peptide: %{meta}<br>' + \n",
    "                       'Protein IDs: %{text}',\n",
    "                       name='',\n",
    "                       showlegend=False)\n",
    "\n",
    "    ## PTM dots\n",
    "    df_plot_ptm = df_plot.dropna(subset=['PTM'])\n",
    "    #print(df_plot_ptm)\n",
    "    plot2 = go.Scatter(x=df_plot_ptm.seq_position,\n",
    "                       y=df_plot_ptm.height+0.3,\n",
    "                       xaxis='x1',\n",
    "                       mode='markers',\n",
    "                       marker_size=8,\n",
    "                       marker_symbol=df_plot_ptm.PTMshape,\n",
    "                       marker_line_color=df_plot_ptm.color,\n",
    "                       marker_color=df_plot_ptm.color,\n",
    "                       marker_opacity=1,\n",
    "                       hovertext=df_plot_ptm.PTMtype,\n",
    "                       hoverinfo='text',\n",
    "                       name='',\n",
    "                       showlegend=False)\n",
    "\n",
    "    layout = go.Layout(\n",
    "            yaxis=dict(\n",
    "                title = \"\",\n",
    "                ticks = None,\n",
    "                showticklabels=False,\n",
    "                range=[-1, 2]\n",
    "                ),\n",
    "            xaxis=dict(\n",
    "                title= 'protein sequence',\n",
    "                tickmode = 'array',\n",
    "                range=[-10, len(protein_sequence)+10],\n",
    "                tickvals = np.arange(0,len(protein_sequence)),\n",
    "                ticktext = list(protein_sequence),\n",
    "                tickangle=0\n",
    "            ),\n",
    "        #showlegend=False, \n",
    "        #height=400, width=1000,\n",
    "        plot_bgcolor='rgba(0,0,0,0)',\n",
    "        title=f\"Sequence plot for {protein}:\"\n",
    "        )\n",
    "\n",
    "    fig = go.Figure(data=[plot1,plot2], layout=layout)\n",
    "\n",
    "    for i in range(0, df_plot_ptm.shape[0]):\n",
    "            fig.add_shape(\n",
    "                    dict(\n",
    "                        type=\"line\",\n",
    "                        x0=df_plot_ptm.seq_position.values[i],\n",
    "                        y0=df_plot_ptm.height.values[i],\n",
    "                        x1=df_plot_ptm.seq_position.values[i],\n",
    "                        y1=df_plot_ptm.height.values[i]+0.3,\n",
    "                        line=dict(\n",
    "                            color=df_plot_ptm.color.values[i],\n",
    "                            width=1\n",
    "                        )\n",
    "                    )\n",
    "            )\n",
    "    \n",
    "    return fig"
   ]
  },
  {
   "cell_type": "code",
   "execution_count": 9,
   "metadata": {},
   "outputs": [],
   "source": [
    "# help(go.Scatter)"
   ]
  },
  {
   "cell_type": "code",
   "execution_count": 10,
   "metadata": {},
   "outputs": [],
   "source": [
    "#export\n",
    "custom_color_palettes = {\n",
    "    'col_greens':[\"#004b23\",\"#006400\",\"#007200\",\"#008000\",\"#38b000\",\"#70e000\",\"#9ef01a\",\"#ccff33\"],\n",
    "    'col_ornages':[\"#ff4800\",\"#ff5400\",\"#ff6000\",\"#ff6d00\",\"#ff7900\",\"#ff8500\",\"#ff9100\",\"#ff9e00\",\"#ffaa00\",\"#ffb600\"],\n",
    "    'col_purples':[\"#31116a\",\"#531cb3\",\"#8240c9\",\"#944bbb\",\"#aa7bc3\",\"#8b4b95\",\"#cc92c2\",\"#b45581\",\"#dba8ac\"],\n",
    "    'col_turquises':[\"#092327\",\"#0b5351\",\"#00a9a5\",\"#4e8098\",\"#90c2e7\"],\n",
    "    'col_darkpinks':[\"#42033d\",\"#6f0c59\",\"#901468\",\"#7c238c\",\"#924ea6\",\"#9c5eae\"],\n",
    "    'col_browns':[\"#5a2a27\",\"#5c4742\",\"#8d5b4c\",\"#a5978b\",\"#c4bbaf\"]  \n",
    "}\n"
   ]
  },
  {
   "cell_type": "code",
   "execution_count": 11,
   "metadata": {},
   "outputs": [],
   "source": [
    "#export\n",
    "uniprot_color_dict = {'CHAIN': custom_color_palettes['col_greens'][0],\n",
    "                      'INIT_MET': custom_color_palettes['col_greens'][1],\n",
    "                      'PEPTIDE': custom_color_palettes['col_greens'][2],\n",
    "                      'PROPEP': custom_color_palettes['col_greens'][3],\n",
    "                      'SIGNAL': custom_color_palettes['col_greens'][4],\n",
    "                      'TRANSIT': custom_color_palettes['col_greens'][5],\n",
    "                      'CROSSLNK': custom_color_palettes['col_ornages'][2],\n",
    "                      'DISULFID': custom_color_palettes['col_ornages'][3],\n",
    "                      'CARBOHYD': custom_color_palettes['col_ornages'][4],\n",
    "                      'LIPID': custom_color_palettes['col_ornages'][5],\n",
    "                      'MOD_RES': custom_color_palettes['col_ornages'][6],\n",
    "                      'COILED': custom_color_palettes['col_purples'][0],\n",
    "                      'COMPBIAS': custom_color_palettes['col_purples'][1],\n",
    "                      'DOMAIN': custom_color_palettes['col_purples'][2],\n",
    "                      'MOTIF': custom_color_palettes['col_purples'][3],\n",
    "                      'REGION': custom_color_palettes['col_purples'][4],\n",
    "                      'REPEAT': custom_color_palettes['col_purples'][5],\n",
    "                      'ZN_FING': custom_color_palettes['col_purples'][6],\n",
    "                      'INTRAMEM': custom_color_palettes['col_turquises'][0],\n",
    "                      'TOPO_DOM': custom_color_palettes['col_turquises'][1],\n",
    "                      'TRANSMEM': custom_color_palettes['col_turquises'][2],\n",
    "                      'STRUCTURE': 'black',\n",
    "                      'BINDING': custom_color_palettes['col_darkpinks'][0],\n",
    "                      'CA_BIND': custom_color_palettes['col_darkpinks'][1],\n",
    "                      'DNA_BIND': custom_color_palettes['col_darkpinks'][2],\n",
    "                      'METAL': custom_color_palettes['col_darkpinks'][3],\n",
    "                      'NP_BIND': custom_color_palettes['col_darkpinks'][4],\n",
    "                      'SITE': custom_color_palettes['col_darkpinks'][5],\n",
    "                      'NON_STD': custom_color_palettes['col_browns'][0],\n",
    "                      'NON_CONS': custom_color_palettes['col_browns'][1],\n",
    "                      'NON_TER': custom_color_palettes['col_browns'][2],\n",
    "                      'VARIANT': custom_color_palettes['col_browns'][3],\n",
    "                      'CONFLICT': custom_color_palettes['col_browns'][4],\n",
    "                      'VAR_SEQ': '#FFD151',\n",
    "                      'UNSURE': 'grey',\n",
    "                      'MUTAGEN': 'black',\n",
    "                      # extra structures\n",
    "                      'Helix': '#008BF8',\n",
    "                      'Turn': '#DC0073',\n",
    "                      'Beta strand': '#04E762',\n",
    "                     }"
   ]
  },
  {
   "cell_type": "code",
   "execution_count": 20,
   "metadata": {},
   "outputs": [],
   "source": [
    "#export \n",
    "\n",
    "import plotly.graph_objects as go\n",
    "\n",
    "def plot_peptide_traces(df,name,protein,fasta,uniprot,selected_features,\n",
    "                        uniprot_feature_dict,uniprot_color_dict):\n",
    "    \n",
    "    # colors for experimental data traces\n",
    "    colors = [\"#023e8a\",\"#0096c7\",\"#90e0ef\",\"#7fd14d\",\"#26a96c\"]\n",
    "    \n",
    "    # generation of a reverse uniprot_feature_dict\n",
    "    uniprot_feature_dict_rev = {v: k for k, v in uniprot_feature_dict.items()}\n",
    "    #uniprot_feature_dict_rev[\"STRUCTURE\"] = \"Secondary structure\"\n",
    "    \n",
    "    # subsetting of the uniprot annotation to the selected features\n",
    "    uniprot_annotation_p = uniprot[uniprot.protein_id==protein]\n",
    "    # formatting of uniprot annotations\n",
    "    uniprot_annotation_p_f = format_uniprot_annotation(uniprot_annotation_p)\n",
    "    # subset for selected features\n",
    "    uniprot_annotation_p_f_f = uniprot_annotation_p_f[uniprot_annotation_p_f.feature.isin(selected_features)]\n",
    "    \n",
    "    \n",
    "    if isinstance(df, pd.DataFrame):\n",
    "        df_plot = get_plot_data(protein=protein,\n",
    "                              df = df,\n",
    "                              fasta = fasta)\n",
    "        \n",
    "        df_plot.color = colors[0]\n",
    "        \n",
    "        observed_mods = list(set(df_plot.PTMtype))\n",
    "        ptm_shape_dict_sub = {key: ptm_shape_dict[key] for key in observed_mods if key in ptm_shape_dict}\n",
    "        \n",
    "        fig = plot_single_peptide_traces(df_plot,protein=protein,fasta = fasta)\n",
    "        fig.update_layout(yaxis=dict(showticklabels=True,\n",
    "                                     tickmode = 'array',\n",
    "                                     tickvals = [0],\n",
    "                                     ticktext = [name]))\n",
    "        \n",
    "        y_max = 1\n",
    "        \n",
    "    elif isinstance(df, list):\n",
    "        \n",
    "        df_plot = [get_plot_data(protein=protein,\n",
    "                               df = d,\n",
    "                               fasta = fasta) for d in df]\n",
    "        \n",
    "        # Subset data and annotations for the samples where the selected protein was detected\n",
    "        valid_idx = []\n",
    "        for i in range(len(df_plot)):\n",
    "            if df_plot[i] is not None:\n",
    "                valid_idx.append(i)\n",
    "        df_plot = [df_plot[i] for i in valid_idx]\n",
    "        name = [name[i] for i in valid_idx]\n",
    "        colors = [colors[i] for i in valid_idx]\n",
    "        #observed_mods = set([df_plot[i].PTMtype for i in valid_idx])\n",
    "        observed_mods = []\n",
    "        for i in range(len(df_plot)):\n",
    "            observed_mods.extend(list(set(df_plot[i].PTMtype)))\n",
    "        observed_mods = list(set(observed_mods))\n",
    "        ptm_shape_dict_sub = {key: ptm_shape_dict[key] for key in observed_mods if key in ptm_shape_dict}\n",
    "                \n",
    "        for i in range(len(df_plot)):\n",
    "            df_plot[i].color = colors[i]\n",
    "            df_plot[i].height = 1+i\n",
    "            \n",
    "        plot_list = [plot_single_peptide_traces(df,protein=protein,fasta = fasta) for df in df_plot]\n",
    "        new_data = [p.data for p in plot_list]\n",
    "        new_data = sum(new_data, ())\n",
    "        new_layout = plot_list[0].layout \n",
    "        shapes = [p.layout.shapes for p in plot_list]\n",
    "        shapes = sum(shapes, ())\n",
    "        new_layout.shapes = new_layout.shapes + tuple(shapes)\n",
    "        fig = go.Figure(data=new_data, layout=new_layout)\n",
    "        fig.update_layout(yaxis=dict(range=[0,len(df_plot)+1],\n",
    "                                     showticklabels=True,\n",
    "                                     tickmode = 'array',\n",
    "                                     tickvals = np.arange(0, len(df_plot))+1,\n",
    "                                     ticktext = np.array(name)))\n",
    "        \n",
    "        y_max = len(df_plot)+1\n",
    "\n",
    "    \n",
    "    ptm_shape_dict_sub = dict(sorted(ptm_shape_dict_sub.items()))\n",
    "    for i in range(len(ptm_shape_dict_sub)):\n",
    "        fig.add_trace(go.Scatter(y=[None], \n",
    "                                 mode='markers',\n",
    "                                 marker=dict(symbol=list(ptm_shape_dict_sub.values())[i], \n",
    "                                             color='black'),\n",
    "                                 name=list(ptm_shape_dict_sub.keys())[i],\n",
    "                                 showlegend=True))\n",
    "    \n",
    "    all_uniprot_features = list(uniprot_color_dict.keys())\n",
    "    available_features = list(set(uniprot_annotation_p_f_f.feature))\n",
    "    unique_features = [x for x in all_uniprot_features if x in available_features]\n",
    "    if len(unique_features) > 0:\n",
    "        for j in range(0,len(unique_features)):\n",
    "            domain = unique_features[j]\n",
    "            domain_info_sub = uniprot_annotation_p_f_f[uniprot_annotation_p_f_f.feature==domain].reset_index(drop=True)\n",
    "            for i in range(0, domain_info_sub.shape[0]):\n",
    "                start = int(domain_info_sub.start[i])\n",
    "                end = domain_info_sub.end[i]\n",
    "                if np.isnan(domain_info_sub.end[i]):\n",
    "                    end=start+1\n",
    "                else:\n",
    "                    end=int(end)        \n",
    "                \n",
    "                if domain_info_sub.feature[i] == \"STRUCTURE\":\n",
    "                    marker_col = uniprot_color_dict[domain_info_sub.note[i]]\n",
    "                else:\n",
    "                    marker_col = uniprot_color_dict[domain_info_sub.feature[i]]\n",
    "                \n",
    "                fig.add_trace(go.Bar(x=list(range(start-1,end-1)), \n",
    "                                     y=list(np.repeat(0.2,end-start)),\n",
    "                                     base=list(np.repeat(y_max+j,end-start)-0.1),\n",
    "                                     marker_color=marker_col,\n",
    "                                     opacity=0.8,\n",
    "                                     showlegend=False,\n",
    "                                     name='',\n",
    "                                     hovertext=domain_info_sub.note[i],\n",
    "                                     hoverinfo='text'\n",
    "                                    ))\n",
    "        fig.update_layout(barmode='stack', bargap=0, hovermode='x unified',hoverdistance=1)\n",
    "                \n",
    "\n",
    "    mapped_feature_names = [uniprot_feature_dict_rev.get(key) for key in unique_features]\n",
    "    if isinstance(df, pd.DataFrame):\n",
    "        fig.update_yaxes(showticklabels=True,\n",
    "                         tickvals= np.arange(0, 1+len(unique_features)),\n",
    "                         ticktext=np.append(np.array(name),np.array(mapped_feature_names)),\n",
    "                         automargin=True,\n",
    "                         range=[-1, 1+len(unique_features)+1])\n",
    "    elif isinstance(df, list):\n",
    "        fig.update_yaxes(showticklabels=True,\n",
    "                         tickvals= 1 + np.arange(0, len(df_plot)+len(unique_features)),\n",
    "                         ticktext=np.append(np.array(name),np.array(mapped_feature_names)),\n",
    "                         automargin=True,\n",
    "                         range=[0, len(df_plot)+len(unique_features)+1])\n",
    "    \n",
    "    config = {'toImageButtonOptions': {'format': 'svg', # one of png, svg, jpeg, webp\n",
    "                                       'filename': 'custom_image',\n",
    "                                       'height': 500,\n",
    "                                       'width': 1500,\n",
    "                                       'scale': 1 # Multiply title/legend/axis/canvas sizes by this factor\n",
    "                                      }\n",
    "             }\n",
    "    \n",
    "    return fig.show(config=config)"
   ]
  },
  {
   "cell_type": "code",
   "execution_count": 21,
   "metadata": {},
   "outputs": [],
   "source": [
    "#hide\n",
    "uniprot_annotation = pd.read_csv('../testdata/test_preprocessed_uniprot.csv')\n",
    "# generate mock annotations\n",
    "add_mock_annotation = pd.DataFrame(columns=uniprot_annotation.columns)\n",
    "add_mock_annotation.loc[0] = ['A0A087WTH1','HELIX',float('NaN'),10,20,'NaN']\n",
    "add_mock_annotation.loc[1] = ['A0A087WTH1','TURN',float('NaN'),25,35,'NaN']\n",
    "add_mock_annotation.loc[2] = ['A0A087WTH1','STRAND',float('NaN'),40,50,'NaN']\n",
    "# append mock annotations\n",
    "uniprot_annotation = uniprot_annotation.append(add_mock_annotation)"
   ]
  },
  {
   "cell_type": "code",
   "execution_count": 22,
   "metadata": {},
   "outputs": [],
   "source": [
    "all_annotatins = list(uniprot_annotation.feature.unique())\n",
    "all_annotatins.append('STRUCTURE')"
   ]
  },
  {
   "cell_type": "code",
   "execution_count": 23,
   "metadata": {},
   "outputs": [
    {
     "data": {
      "application/vnd.plotly.v1+json": {
       "config": {
        "plotlyServerURL": "https://plot.ly",
        "toImageButtonOptions": {
         "filename": "custom_image",
         "format": "svg",
         "height": 500,
         "scale": 1,
         "width": 1500
        }
       },
       "data": [
        {
         "hovertemplate": "Peptide: %{meta}<br>Protein IDs: %{text}",
         "marker": {
          "color": [
           "#023e8a",
           "#023e8a",
           "#023e8a",
           "#023e8a",
           "#023e8a",
           "#023e8a",
           "#023e8a",
           "#023e8a"
          ],
          "line": {
           "color": [
            "#023e8a",
            "#023e8a",
            "#023e8a",
            "#023e8a",
            "#023e8a",
            "#023e8a",
            "#023e8a",
            "#023e8a"
           ]
          },
          "opacity": 1,
          "size": [
           6,
           8,
           8,
           8,
           8,
           8,
           8,
           6
          ],
          "symbol": [
           7,
           1,
           1,
           1,
           1,
           1,
           1,
           8
          ]
         },
         "meta": [
          "PEPT[Phospho (STY)]IDER",
          "PEPT[Phospho (STY)]IDER",
          "PEPT[Phospho (STY)]IDER",
          "PEPT[Phospho (STY)]IDER",
          "PEPT[Phospho (STY)]IDER",
          "PEPT[Phospho (STY)]IDER",
          "PEPT[Phospho (STY)]IDER",
          "PEPT[Phospho (STY)]IDER"
         ],
         "mode": "markers",
         "name": "",
         "showlegend": false,
         "text": [
          "A0A024R161;A0A087WT10;A0A087WTH1",
          "A0A024R161;A0A087WT10;A0A087WTH1",
          "A0A024R161;A0A087WT10;A0A087WTH1",
          "A0A024R161;A0A087WT10;A0A087WTH1",
          "A0A024R161;A0A087WT10;A0A087WTH1",
          "A0A024R161;A0A087WT10;A0A087WTH1",
          "A0A024R161;A0A087WT10;A0A087WTH1",
          "A0A024R161;A0A087WT10;A0A087WTH1"
         ],
         "type": "scatter",
         "x": [
          107,
          108,
          109,
          110,
          111,
          112,
          113,
          114
         ],
         "xaxis": "x",
         "y": [
          0,
          0,
          0,
          0,
          0,
          0,
          0,
          0,
          0,
          0,
          0,
          0,
          0,
          0,
          0,
          0,
          0,
          0,
          0,
          0,
          0,
          0,
          0,
          0,
          0,
          0,
          0,
          0,
          0,
          0,
          0,
          0,
          0,
          0,
          0,
          0,
          0,
          0,
          0,
          0,
          0,
          0,
          0,
          0,
          0,
          0,
          0,
          0,
          0,
          0,
          0,
          0,
          0,
          0,
          0,
          0,
          0,
          0,
          0,
          0,
          0,
          0,
          0,
          0,
          0,
          0,
          0,
          0,
          0,
          0,
          0,
          0,
          0,
          0,
          0,
          0,
          0,
          0,
          0,
          0,
          0,
          0,
          0,
          0,
          0,
          0,
          0,
          0,
          0,
          0,
          0,
          0,
          0,
          0,
          0,
          0,
          0,
          0,
          0,
          0,
          0,
          0,
          0,
          0,
          0,
          0,
          0,
          0,
          0,
          0,
          0,
          0,
          0,
          0,
          0,
          0
         ]
        },
        {
         "hoverinfo": "text",
         "hovertext": [
          "[Phospho (STY)]"
         ],
         "marker": {
          "color": [
           "#023e8a"
          ],
          "line": {
           "color": [
            "#023e8a"
           ]
          },
          "opacity": 1,
          "size": 8,
          "symbol": [
           0
          ]
         },
         "mode": "markers",
         "name": "",
         "showlegend": false,
         "type": "scatter",
         "x": [
          110
         ],
         "xaxis": "x",
         "y": [
          0.3
         ]
        },
        {
         "marker": {
          "color": "black",
          "symbol": 0
         },
         "mode": "markers",
         "name": "[Phospho (STY)]",
         "showlegend": true,
         "type": "scatter",
         "y": [
          null
         ]
        },
        {
         "base": [
          0.9,
          0.9,
          0.9,
          0.9,
          0.9,
          0.9,
          0.9,
          0.9,
          0.9,
          0.9,
          0.9,
          0.9,
          0.9,
          0.9,
          0.9,
          0.9,
          0.9,
          0.9,
          0.9,
          0.9,
          0.9,
          0.9,
          0.9,
          0.9,
          0.9,
          0.9,
          0.9,
          0.9,
          0.9,
          0.9,
          0.9,
          0.9,
          0.9,
          0.9,
          0.9,
          0.9,
          0.9,
          0.9,
          0.9,
          0.9,
          0.9,
          0.9,
          0.9,
          0.9,
          0.9,
          0.9,
          0.9,
          0.9,
          0.9,
          0.9,
          0.9,
          0.9,
          0.9,
          0.9,
          0.9,
          0.9,
          0.9,
          0.9,
          0.9,
          0.9,
          0.9,
          0.9,
          0.9,
          0.9,
          0.9,
          0.9,
          0.9,
          0.9,
          0.9,
          0.9,
          0.9,
          0.9,
          0.9,
          0.9,
          0.9,
          0.9,
          0.9,
          0.9,
          0.9,
          0.9,
          0.9,
          0.9,
          0.9,
          0.9,
          0.9,
          0.9,
          0.9,
          0.9,
          0.9,
          0.9,
          0.9,
          0.9,
          0.9,
          0.9,
          0.9,
          0.9,
          0.9,
          0.9,
          0.9,
          0.9,
          0.9,
          0.9,
          0.9,
          0.9,
          0.9,
          0.9,
          0.9
         ],
         "hoverinfo": "text",
         "hovertext": "Transmembrane protein 265",
         "marker": {
          "color": "#004b23"
         },
         "name": "",
         "opacity": 0.8,
         "showlegend": false,
         "type": "bar",
         "x": [
          0,
          1,
          2,
          3,
          4,
          5,
          6,
          7,
          8,
          9,
          10,
          11,
          12,
          13,
          14,
          15,
          16,
          17,
          18,
          19,
          20,
          21,
          22,
          23,
          24,
          25,
          26,
          27,
          28,
          29,
          30,
          31,
          32,
          33,
          34,
          35,
          36,
          37,
          38,
          39,
          40,
          41,
          42,
          43,
          44,
          45,
          46,
          47,
          48,
          49,
          50,
          51,
          52,
          53,
          54,
          55,
          56,
          57,
          58,
          59,
          60,
          61,
          62,
          63,
          64,
          65,
          66,
          67,
          68,
          69,
          70,
          71,
          72,
          73,
          74,
          75,
          76,
          77,
          78,
          79,
          80,
          81,
          82,
          83,
          84,
          85,
          86,
          87,
          88,
          89,
          90,
          91,
          92,
          93,
          94,
          95,
          96,
          97,
          98,
          99,
          100,
          101,
          102,
          103,
          104,
          105,
          106
         ],
         "y": [
          0.2,
          0.2,
          0.2,
          0.2,
          0.2,
          0.2,
          0.2,
          0.2,
          0.2,
          0.2,
          0.2,
          0.2,
          0.2,
          0.2,
          0.2,
          0.2,
          0.2,
          0.2,
          0.2,
          0.2,
          0.2,
          0.2,
          0.2,
          0.2,
          0.2,
          0.2,
          0.2,
          0.2,
          0.2,
          0.2,
          0.2,
          0.2,
          0.2,
          0.2,
          0.2,
          0.2,
          0.2,
          0.2,
          0.2,
          0.2,
          0.2,
          0.2,
          0.2,
          0.2,
          0.2,
          0.2,
          0.2,
          0.2,
          0.2,
          0.2,
          0.2,
          0.2,
          0.2,
          0.2,
          0.2,
          0.2,
          0.2,
          0.2,
          0.2,
          0.2,
          0.2,
          0.2,
          0.2,
          0.2,
          0.2,
          0.2,
          0.2,
          0.2,
          0.2,
          0.2,
          0.2,
          0.2,
          0.2,
          0.2,
          0.2,
          0.2,
          0.2,
          0.2,
          0.2,
          0.2,
          0.2,
          0.2,
          0.2,
          0.2,
          0.2,
          0.2,
          0.2,
          0.2,
          0.2,
          0.2,
          0.2,
          0.2,
          0.2,
          0.2,
          0.2,
          0.2,
          0.2,
          0.2,
          0.2,
          0.2,
          0.2,
          0.2,
          0.2,
          0.2,
          0.2,
          0.2,
          0.2
         ]
        },
        {
         "base": [
          1.9,
          1.9,
          1.9,
          1.9,
          1.9,
          1.9,
          1.9,
          1.9,
          1.9,
          1.9,
          1.9,
          1.9,
          1.9,
          1.9,
          1.9,
          1.9,
          1.9,
          1.9,
          1.9,
          1.9
         ],
         "hoverinfo": "text",
         "hovertext": "Helical; Name=1",
         "marker": {
          "color": "#00a9a5"
         },
         "name": "",
         "opacity": 0.8,
         "showlegend": false,
         "type": "bar",
         "x": [
          33,
          34,
          35,
          36,
          37,
          38,
          39,
          40,
          41,
          42,
          43,
          44,
          45,
          46,
          47,
          48,
          49,
          50,
          51,
          52
         ],
         "y": [
          0.2,
          0.2,
          0.2,
          0.2,
          0.2,
          0.2,
          0.2,
          0.2,
          0.2,
          0.2,
          0.2,
          0.2,
          0.2,
          0.2,
          0.2,
          0.2,
          0.2,
          0.2,
          0.2,
          0.2
         ]
        },
        {
         "base": [
          1.9,
          1.9,
          1.9,
          1.9,
          1.9,
          1.9,
          1.9,
          1.9,
          1.9,
          1.9,
          1.9,
          1.9,
          1.9,
          1.9,
          1.9,
          1.9,
          1.9,
          1.9,
          1.9,
          1.9
         ],
         "hoverinfo": "text",
         "hovertext": "Helical; Name=2",
         "marker": {
          "color": "#00a9a5"
         },
         "name": "",
         "opacity": 0.8,
         "showlegend": false,
         "type": "bar",
         "x": [
          77,
          78,
          79,
          80,
          81,
          82,
          83,
          84,
          85,
          86,
          87,
          88,
          89,
          90,
          91,
          92,
          93,
          94,
          95,
          96
         ],
         "y": [
          0.2,
          0.2,
          0.2,
          0.2,
          0.2,
          0.2,
          0.2,
          0.2,
          0.2,
          0.2,
          0.2,
          0.2,
          0.2,
          0.2,
          0.2,
          0.2,
          0.2,
          0.2,
          0.2,
          0.2
         ]
        },
        {
         "base": [
          2.9,
          2.9,
          2.9,
          2.9,
          2.9,
          2.9,
          2.9,
          2.9,
          2.9,
          2.9
         ],
         "hoverinfo": "text",
         "hovertext": "Helix",
         "marker": {
          "color": "#008BF8"
         },
         "name": "",
         "opacity": 0.8,
         "showlegend": false,
         "type": "bar",
         "x": [
          9,
          10,
          11,
          12,
          13,
          14,
          15,
          16,
          17,
          18
         ],
         "y": [
          0.2,
          0.2,
          0.2,
          0.2,
          0.2,
          0.2,
          0.2,
          0.2,
          0.2,
          0.2
         ]
        },
        {
         "base": [
          2.9,
          2.9,
          2.9,
          2.9,
          2.9,
          2.9,
          2.9,
          2.9,
          2.9,
          2.9
         ],
         "hoverinfo": "text",
         "hovertext": "Turn",
         "marker": {
          "color": "#DC0073"
         },
         "name": "",
         "opacity": 0.8,
         "showlegend": false,
         "type": "bar",
         "x": [
          24,
          25,
          26,
          27,
          28,
          29,
          30,
          31,
          32,
          33
         ],
         "y": [
          0.2,
          0.2,
          0.2,
          0.2,
          0.2,
          0.2,
          0.2,
          0.2,
          0.2,
          0.2
         ]
        },
        {
         "base": [
          2.9,
          2.9,
          2.9,
          2.9,
          2.9,
          2.9,
          2.9,
          2.9,
          2.9,
          2.9
         ],
         "hoverinfo": "text",
         "hovertext": "Beta strand",
         "marker": {
          "color": "#04E762"
         },
         "name": "",
         "opacity": 0.8,
         "showlegend": false,
         "type": "bar",
         "x": [
          39,
          40,
          41,
          42,
          43,
          44,
          45,
          46,
          47,
          48
         ],
         "y": [
          0.2,
          0.2,
          0.2,
          0.2,
          0.2,
          0.2,
          0.2,
          0.2,
          0.2,
          0.2
         ]
        }
       ],
       "layout": {
        "bargap": 0,
        "barmode": "stack",
        "hoverdistance": 1,
        "hovermode": "x unified",
        "plot_bgcolor": "rgba(0,0,0,0)",
        "shapes": [
         {
          "line": {
           "color": "#023e8a",
           "width": 1
          },
          "type": "line",
          "x0": 110,
          "x1": 110,
          "y0": 0,
          "y1": 0.3
         }
        ],
        "template": {
         "data": {
          "bar": [
           {
            "error_x": {
             "color": "#2a3f5f"
            },
            "error_y": {
             "color": "#2a3f5f"
            },
            "marker": {
             "line": {
              "color": "#E5ECF6",
              "width": 0.5
             }
            },
            "type": "bar"
           }
          ],
          "barpolar": [
           {
            "marker": {
             "line": {
              "color": "#E5ECF6",
              "width": 0.5
             }
            },
            "type": "barpolar"
           }
          ],
          "carpet": [
           {
            "aaxis": {
             "endlinecolor": "#2a3f5f",
             "gridcolor": "white",
             "linecolor": "white",
             "minorgridcolor": "white",
             "startlinecolor": "#2a3f5f"
            },
            "baxis": {
             "endlinecolor": "#2a3f5f",
             "gridcolor": "white",
             "linecolor": "white",
             "minorgridcolor": "white",
             "startlinecolor": "#2a3f5f"
            },
            "type": "carpet"
           }
          ],
          "choropleth": [
           {
            "colorbar": {
             "outlinewidth": 0,
             "ticks": ""
            },
            "type": "choropleth"
           }
          ],
          "contour": [
           {
            "colorbar": {
             "outlinewidth": 0,
             "ticks": ""
            },
            "colorscale": [
             [
              0,
              "#0d0887"
             ],
             [
              0.1111111111111111,
              "#46039f"
             ],
             [
              0.2222222222222222,
              "#7201a8"
             ],
             [
              0.3333333333333333,
              "#9c179e"
             ],
             [
              0.4444444444444444,
              "#bd3786"
             ],
             [
              0.5555555555555556,
              "#d8576b"
             ],
             [
              0.6666666666666666,
              "#ed7953"
             ],
             [
              0.7777777777777778,
              "#fb9f3a"
             ],
             [
              0.8888888888888888,
              "#fdca26"
             ],
             [
              1,
              "#f0f921"
             ]
            ],
            "type": "contour"
           }
          ],
          "contourcarpet": [
           {
            "colorbar": {
             "outlinewidth": 0,
             "ticks": ""
            },
            "type": "contourcarpet"
           }
          ],
          "heatmap": [
           {
            "colorbar": {
             "outlinewidth": 0,
             "ticks": ""
            },
            "colorscale": [
             [
              0,
              "#0d0887"
             ],
             [
              0.1111111111111111,
              "#46039f"
             ],
             [
              0.2222222222222222,
              "#7201a8"
             ],
             [
              0.3333333333333333,
              "#9c179e"
             ],
             [
              0.4444444444444444,
              "#bd3786"
             ],
             [
              0.5555555555555556,
              "#d8576b"
             ],
             [
              0.6666666666666666,
              "#ed7953"
             ],
             [
              0.7777777777777778,
              "#fb9f3a"
             ],
             [
              0.8888888888888888,
              "#fdca26"
             ],
             [
              1,
              "#f0f921"
             ]
            ],
            "type": "heatmap"
           }
          ],
          "heatmapgl": [
           {
            "colorbar": {
             "outlinewidth": 0,
             "ticks": ""
            },
            "colorscale": [
             [
              0,
              "#0d0887"
             ],
             [
              0.1111111111111111,
              "#46039f"
             ],
             [
              0.2222222222222222,
              "#7201a8"
             ],
             [
              0.3333333333333333,
              "#9c179e"
             ],
             [
              0.4444444444444444,
              "#bd3786"
             ],
             [
              0.5555555555555556,
              "#d8576b"
             ],
             [
              0.6666666666666666,
              "#ed7953"
             ],
             [
              0.7777777777777778,
              "#fb9f3a"
             ],
             [
              0.8888888888888888,
              "#fdca26"
             ],
             [
              1,
              "#f0f921"
             ]
            ],
            "type": "heatmapgl"
           }
          ],
          "histogram": [
           {
            "marker": {
             "colorbar": {
              "outlinewidth": 0,
              "ticks": ""
             }
            },
            "type": "histogram"
           }
          ],
          "histogram2d": [
           {
            "colorbar": {
             "outlinewidth": 0,
             "ticks": ""
            },
            "colorscale": [
             [
              0,
              "#0d0887"
             ],
             [
              0.1111111111111111,
              "#46039f"
             ],
             [
              0.2222222222222222,
              "#7201a8"
             ],
             [
              0.3333333333333333,
              "#9c179e"
             ],
             [
              0.4444444444444444,
              "#bd3786"
             ],
             [
              0.5555555555555556,
              "#d8576b"
             ],
             [
              0.6666666666666666,
              "#ed7953"
             ],
             [
              0.7777777777777778,
              "#fb9f3a"
             ],
             [
              0.8888888888888888,
              "#fdca26"
             ],
             [
              1,
              "#f0f921"
             ]
            ],
            "type": "histogram2d"
           }
          ],
          "histogram2dcontour": [
           {
            "colorbar": {
             "outlinewidth": 0,
             "ticks": ""
            },
            "colorscale": [
             [
              0,
              "#0d0887"
             ],
             [
              0.1111111111111111,
              "#46039f"
             ],
             [
              0.2222222222222222,
              "#7201a8"
             ],
             [
              0.3333333333333333,
              "#9c179e"
             ],
             [
              0.4444444444444444,
              "#bd3786"
             ],
             [
              0.5555555555555556,
              "#d8576b"
             ],
             [
              0.6666666666666666,
              "#ed7953"
             ],
             [
              0.7777777777777778,
              "#fb9f3a"
             ],
             [
              0.8888888888888888,
              "#fdca26"
             ],
             [
              1,
              "#f0f921"
             ]
            ],
            "type": "histogram2dcontour"
           }
          ],
          "mesh3d": [
           {
            "colorbar": {
             "outlinewidth": 0,
             "ticks": ""
            },
            "type": "mesh3d"
           }
          ],
          "parcoords": [
           {
            "line": {
             "colorbar": {
              "outlinewidth": 0,
              "ticks": ""
             }
            },
            "type": "parcoords"
           }
          ],
          "pie": [
           {
            "automargin": true,
            "type": "pie"
           }
          ],
          "scatter": [
           {
            "marker": {
             "colorbar": {
              "outlinewidth": 0,
              "ticks": ""
             }
            },
            "type": "scatter"
           }
          ],
          "scatter3d": [
           {
            "line": {
             "colorbar": {
              "outlinewidth": 0,
              "ticks": ""
             }
            },
            "marker": {
             "colorbar": {
              "outlinewidth": 0,
              "ticks": ""
             }
            },
            "type": "scatter3d"
           }
          ],
          "scattercarpet": [
           {
            "marker": {
             "colorbar": {
              "outlinewidth": 0,
              "ticks": ""
             }
            },
            "type": "scattercarpet"
           }
          ],
          "scattergeo": [
           {
            "marker": {
             "colorbar": {
              "outlinewidth": 0,
              "ticks": ""
             }
            },
            "type": "scattergeo"
           }
          ],
          "scattergl": [
           {
            "marker": {
             "colorbar": {
              "outlinewidth": 0,
              "ticks": ""
             }
            },
            "type": "scattergl"
           }
          ],
          "scattermapbox": [
           {
            "marker": {
             "colorbar": {
              "outlinewidth": 0,
              "ticks": ""
             }
            },
            "type": "scattermapbox"
           }
          ],
          "scatterpolar": [
           {
            "marker": {
             "colorbar": {
              "outlinewidth": 0,
              "ticks": ""
             }
            },
            "type": "scatterpolar"
           }
          ],
          "scatterpolargl": [
           {
            "marker": {
             "colorbar": {
              "outlinewidth": 0,
              "ticks": ""
             }
            },
            "type": "scatterpolargl"
           }
          ],
          "scatterternary": [
           {
            "marker": {
             "colorbar": {
              "outlinewidth": 0,
              "ticks": ""
             }
            },
            "type": "scatterternary"
           }
          ],
          "surface": [
           {
            "colorbar": {
             "outlinewidth": 0,
             "ticks": ""
            },
            "colorscale": [
             [
              0,
              "#0d0887"
             ],
             [
              0.1111111111111111,
              "#46039f"
             ],
             [
              0.2222222222222222,
              "#7201a8"
             ],
             [
              0.3333333333333333,
              "#9c179e"
             ],
             [
              0.4444444444444444,
              "#bd3786"
             ],
             [
              0.5555555555555556,
              "#d8576b"
             ],
             [
              0.6666666666666666,
              "#ed7953"
             ],
             [
              0.7777777777777778,
              "#fb9f3a"
             ],
             [
              0.8888888888888888,
              "#fdca26"
             ],
             [
              1,
              "#f0f921"
             ]
            ],
            "type": "surface"
           }
          ],
          "table": [
           {
            "cells": {
             "fill": {
              "color": "#EBF0F8"
             },
             "line": {
              "color": "white"
             }
            },
            "header": {
             "fill": {
              "color": "#C8D4E3"
             },
             "line": {
              "color": "white"
             }
            },
            "type": "table"
           }
          ]
         },
         "layout": {
          "annotationdefaults": {
           "arrowcolor": "#2a3f5f",
           "arrowhead": 0,
           "arrowwidth": 1
          },
          "coloraxis": {
           "colorbar": {
            "outlinewidth": 0,
            "ticks": ""
           }
          },
          "colorscale": {
           "diverging": [
            [
             0,
             "#8e0152"
            ],
            [
             0.1,
             "#c51b7d"
            ],
            [
             0.2,
             "#de77ae"
            ],
            [
             0.3,
             "#f1b6da"
            ],
            [
             0.4,
             "#fde0ef"
            ],
            [
             0.5,
             "#f7f7f7"
            ],
            [
             0.6,
             "#e6f5d0"
            ],
            [
             0.7,
             "#b8e186"
            ],
            [
             0.8,
             "#7fbc41"
            ],
            [
             0.9,
             "#4d9221"
            ],
            [
             1,
             "#276419"
            ]
           ],
           "sequential": [
            [
             0,
             "#0d0887"
            ],
            [
             0.1111111111111111,
             "#46039f"
            ],
            [
             0.2222222222222222,
             "#7201a8"
            ],
            [
             0.3333333333333333,
             "#9c179e"
            ],
            [
             0.4444444444444444,
             "#bd3786"
            ],
            [
             0.5555555555555556,
             "#d8576b"
            ],
            [
             0.6666666666666666,
             "#ed7953"
            ],
            [
             0.7777777777777778,
             "#fb9f3a"
            ],
            [
             0.8888888888888888,
             "#fdca26"
            ],
            [
             1,
             "#f0f921"
            ]
           ],
           "sequentialminus": [
            [
             0,
             "#0d0887"
            ],
            [
             0.1111111111111111,
             "#46039f"
            ],
            [
             0.2222222222222222,
             "#7201a8"
            ],
            [
             0.3333333333333333,
             "#9c179e"
            ],
            [
             0.4444444444444444,
             "#bd3786"
            ],
            [
             0.5555555555555556,
             "#d8576b"
            ],
            [
             0.6666666666666666,
             "#ed7953"
            ],
            [
             0.7777777777777778,
             "#fb9f3a"
            ],
            [
             0.8888888888888888,
             "#fdca26"
            ],
            [
             1,
             "#f0f921"
            ]
           ]
          },
          "colorway": [
           "#636efa",
           "#EF553B",
           "#00cc96",
           "#ab63fa",
           "#FFA15A",
           "#19d3f3",
           "#FF6692",
           "#B6E880",
           "#FF97FF",
           "#FECB52"
          ],
          "font": {
           "color": "#2a3f5f"
          },
          "geo": {
           "bgcolor": "white",
           "lakecolor": "white",
           "landcolor": "#E5ECF6",
           "showlakes": true,
           "showland": true,
           "subunitcolor": "white"
          },
          "hoverlabel": {
           "align": "left"
          },
          "hovermode": "closest",
          "mapbox": {
           "style": "light"
          },
          "paper_bgcolor": "white",
          "plot_bgcolor": "#E5ECF6",
          "polar": {
           "angularaxis": {
            "gridcolor": "white",
            "linecolor": "white",
            "ticks": ""
           },
           "bgcolor": "#E5ECF6",
           "radialaxis": {
            "gridcolor": "white",
            "linecolor": "white",
            "ticks": ""
           }
          },
          "scene": {
           "xaxis": {
            "backgroundcolor": "#E5ECF6",
            "gridcolor": "white",
            "gridwidth": 2,
            "linecolor": "white",
            "showbackground": true,
            "ticks": "",
            "zerolinecolor": "white"
           },
           "yaxis": {
            "backgroundcolor": "#E5ECF6",
            "gridcolor": "white",
            "gridwidth": 2,
            "linecolor": "white",
            "showbackground": true,
            "ticks": "",
            "zerolinecolor": "white"
           },
           "zaxis": {
            "backgroundcolor": "#E5ECF6",
            "gridcolor": "white",
            "gridwidth": 2,
            "linecolor": "white",
            "showbackground": true,
            "ticks": "",
            "zerolinecolor": "white"
           }
          },
          "shapedefaults": {
           "line": {
            "color": "#2a3f5f"
           }
          },
          "ternary": {
           "aaxis": {
            "gridcolor": "white",
            "linecolor": "white",
            "ticks": ""
           },
           "baxis": {
            "gridcolor": "white",
            "linecolor": "white",
            "ticks": ""
           },
           "bgcolor": "#E5ECF6",
           "caxis": {
            "gridcolor": "white",
            "linecolor": "white",
            "ticks": ""
           }
          },
          "title": {
           "x": 0.05
          },
          "xaxis": {
           "automargin": true,
           "gridcolor": "white",
           "linecolor": "white",
           "ticks": "",
           "title": {
            "standoff": 15
           },
           "zerolinecolor": "white",
           "zerolinewidth": 2
          },
          "yaxis": {
           "automargin": true,
           "gridcolor": "white",
           "linecolor": "white",
           "ticks": "",
           "title": {
            "standoff": 15
           },
           "zerolinecolor": "white",
           "zerolinewidth": 2
          }
         }
        },
        "title": {
         "text": "Sequence plot for A0A087WTH1:"
        },
        "xaxis": {
         "range": [
          -10,
          126
         ],
         "tickangle": 0,
         "tickmode": "array",
         "ticktext": [
          "M",
          "E",
          "D",
          "E",
          "E",
          "K",
          "A",
          "V",
          "E",
          "I",
          "L",
          "G",
          "N",
          "T",
          "E",
          "A",
          "A",
          "H",
          "P",
          "P",
          "S",
          "P",
          "I",
          "R",
          "C",
          "C",
          "W",
          "L",
          "R",
          "L",
          "R",
          "C",
          "L",
          "A",
          "A",
          "T",
          "S",
          "I",
          "I",
          "C",
          "G",
          "C",
          "S",
          "C",
          "L",
          "G",
          "V",
          "M",
          "A",
          "L",
          "V",
          "F",
          "A",
          "I",
          "K",
          "A",
          "E",
          "E",
          "R",
          "H",
          "K",
          "A",
          "G",
          "R",
          "S",
          "E",
          "E",
          "A",
          "V",
          "R",
          "W",
          "G",
          "A",
          "R",
          "A",
          "R",
          "K",
          "L",
          "I",
          "L",
          "A",
          "S",
          "F",
          "A",
          "V",
          "W",
          "L",
          "A",
          "V",
          "L",
          "I",
          "L",
          "G",
          "P",
          "L",
          "L",
          "L",
          "W",
          "L",
          "L",
          "S",
          "Y",
          "A",
          "I",
          "A",
          "Q",
          "A",
          "P",
          "E",
          "P",
          "T",
          "I",
          "D",
          "E",
          "R",
          "E"
         ],
         "tickvals": [
          0,
          1,
          2,
          3,
          4,
          5,
          6,
          7,
          8,
          9,
          10,
          11,
          12,
          13,
          14,
          15,
          16,
          17,
          18,
          19,
          20,
          21,
          22,
          23,
          24,
          25,
          26,
          27,
          28,
          29,
          30,
          31,
          32,
          33,
          34,
          35,
          36,
          37,
          38,
          39,
          40,
          41,
          42,
          43,
          44,
          45,
          46,
          47,
          48,
          49,
          50,
          51,
          52,
          53,
          54,
          55,
          56,
          57,
          58,
          59,
          60,
          61,
          62,
          63,
          64,
          65,
          66,
          67,
          68,
          69,
          70,
          71,
          72,
          73,
          74,
          75,
          76,
          77,
          78,
          79,
          80,
          81,
          82,
          83,
          84,
          85,
          86,
          87,
          88,
          89,
          90,
          91,
          92,
          93,
          94,
          95,
          96,
          97,
          98,
          99,
          100,
          101,
          102,
          103,
          104,
          105,
          106,
          107,
          108,
          109,
          110,
          111,
          112,
          113,
          114,
          115
         ],
         "title": {
          "text": "protein sequence"
         }
        },
        "yaxis": {
         "automargin": true,
         "range": [
          -1,
          5
         ],
         "showticklabels": true,
         "tickmode": "array",
         "ticktext": [
          "proteome",
          "Chain",
          "Transmembrane",
          "Secondary structure"
         ],
         "tickvals": [
          0,
          1,
          2,
          3
         ],
         "title": {
          "text": ""
         }
        }
       }
      },
      "text/html": [
       "<div>                            <div id=\"7dee5f79-edd7-4d68-9270-d9d939fa09f8\" class=\"plotly-graph-div\" style=\"height:525px; width:100%;\"></div>            <script type=\"text/javascript\">                require([\"plotly\"], function(Plotly) {                    window.PLOTLYENV=window.PLOTLYENV || {};                                    if (document.getElementById(\"7dee5f79-edd7-4d68-9270-d9d939fa09f8\")) {                    Plotly.newPlot(                        \"7dee5f79-edd7-4d68-9270-d9d939fa09f8\",                        [{\"hovertemplate\": \"Peptide: %{meta}<br>Protein IDs: %{text}\", \"marker\": {\"color\": [\"#023e8a\", \"#023e8a\", \"#023e8a\", \"#023e8a\", \"#023e8a\", \"#023e8a\", \"#023e8a\", \"#023e8a\"], \"line\": {\"color\": [\"#023e8a\", \"#023e8a\", \"#023e8a\", \"#023e8a\", \"#023e8a\", \"#023e8a\", \"#023e8a\", \"#023e8a\"]}, \"opacity\": 1, \"size\": [6.0, 8.0, 8.0, 8.0, 8.0, 8.0, 8.0, 6.0], \"symbol\": [7.0, 1.0, 1.0, 1.0, 1.0, 1.0, 1.0, 8.0]}, \"meta\": [\"PEPT[Phospho (STY)]IDER\", \"PEPT[Phospho (STY)]IDER\", \"PEPT[Phospho (STY)]IDER\", \"PEPT[Phospho (STY)]IDER\", \"PEPT[Phospho (STY)]IDER\", \"PEPT[Phospho (STY)]IDER\", \"PEPT[Phospho (STY)]IDER\", \"PEPT[Phospho (STY)]IDER\"], \"mode\": \"markers\", \"name\": \"\", \"showlegend\": false, \"text\": [\"A0A024R161;A0A087WT10;A0A087WTH1\", \"A0A024R161;A0A087WT10;A0A087WTH1\", \"A0A024R161;A0A087WT10;A0A087WTH1\", \"A0A024R161;A0A087WT10;A0A087WTH1\", \"A0A024R161;A0A087WT10;A0A087WTH1\", \"A0A024R161;A0A087WT10;A0A087WTH1\", \"A0A024R161;A0A087WT10;A0A087WTH1\", \"A0A024R161;A0A087WT10;A0A087WTH1\"], \"type\": \"scatter\", \"x\": [107, 108, 109, 110, 111, 112, 113, 114], \"xaxis\": \"x\", \"y\": [0, 0, 0, 0, 0, 0, 0, 0, 0, 0, 0, 0, 0, 0, 0, 0, 0, 0, 0, 0, 0, 0, 0, 0, 0, 0, 0, 0, 0, 0, 0, 0, 0, 0, 0, 0, 0, 0, 0, 0, 0, 0, 0, 0, 0, 0, 0, 0, 0, 0, 0, 0, 0, 0, 0, 0, 0, 0, 0, 0, 0, 0, 0, 0, 0, 0, 0, 0, 0, 0, 0, 0, 0, 0, 0, 0, 0, 0, 0, 0, 0, 0, 0, 0, 0, 0, 0, 0, 0, 0, 0, 0, 0, 0, 0, 0, 0, 0, 0, 0, 0, 0, 0, 0, 0, 0, 0, 0, 0, 0, 0, 0, 0, 0, 0, 0]}, {\"hoverinfo\": \"text\", \"hovertext\": [\"[Phospho (STY)]\"], \"marker\": {\"color\": [\"#023e8a\"], \"line\": {\"color\": [\"#023e8a\"]}, \"opacity\": 1, \"size\": 8, \"symbol\": [0.0]}, \"mode\": \"markers\", \"name\": \"\", \"showlegend\": false, \"type\": \"scatter\", \"x\": [110], \"xaxis\": \"x\", \"y\": [0.3]}, {\"marker\": {\"color\": \"black\", \"symbol\": 0}, \"mode\": \"markers\", \"name\": \"[Phospho (STY)]\", \"showlegend\": true, \"type\": \"scatter\", \"y\": [null]}, {\"base\": [0.9, 0.9, 0.9, 0.9, 0.9, 0.9, 0.9, 0.9, 0.9, 0.9, 0.9, 0.9, 0.9, 0.9, 0.9, 0.9, 0.9, 0.9, 0.9, 0.9, 0.9, 0.9, 0.9, 0.9, 0.9, 0.9, 0.9, 0.9, 0.9, 0.9, 0.9, 0.9, 0.9, 0.9, 0.9, 0.9, 0.9, 0.9, 0.9, 0.9, 0.9, 0.9, 0.9, 0.9, 0.9, 0.9, 0.9, 0.9, 0.9, 0.9, 0.9, 0.9, 0.9, 0.9, 0.9, 0.9, 0.9, 0.9, 0.9, 0.9, 0.9, 0.9, 0.9, 0.9, 0.9, 0.9, 0.9, 0.9, 0.9, 0.9, 0.9, 0.9, 0.9, 0.9, 0.9, 0.9, 0.9, 0.9, 0.9, 0.9, 0.9, 0.9, 0.9, 0.9, 0.9, 0.9, 0.9, 0.9, 0.9, 0.9, 0.9, 0.9, 0.9, 0.9, 0.9, 0.9, 0.9, 0.9, 0.9, 0.9, 0.9, 0.9, 0.9, 0.9, 0.9, 0.9, 0.9], \"hoverinfo\": \"text\", \"hovertext\": \"Transmembrane protein 265\", \"marker\": {\"color\": \"#004b23\"}, \"name\": \"\", \"opacity\": 0.8, \"showlegend\": false, \"type\": \"bar\", \"x\": [0, 1, 2, 3, 4, 5, 6, 7, 8, 9, 10, 11, 12, 13, 14, 15, 16, 17, 18, 19, 20, 21, 22, 23, 24, 25, 26, 27, 28, 29, 30, 31, 32, 33, 34, 35, 36, 37, 38, 39, 40, 41, 42, 43, 44, 45, 46, 47, 48, 49, 50, 51, 52, 53, 54, 55, 56, 57, 58, 59, 60, 61, 62, 63, 64, 65, 66, 67, 68, 69, 70, 71, 72, 73, 74, 75, 76, 77, 78, 79, 80, 81, 82, 83, 84, 85, 86, 87, 88, 89, 90, 91, 92, 93, 94, 95, 96, 97, 98, 99, 100, 101, 102, 103, 104, 105, 106], \"y\": [0.2, 0.2, 0.2, 0.2, 0.2, 0.2, 0.2, 0.2, 0.2, 0.2, 0.2, 0.2, 0.2, 0.2, 0.2, 0.2, 0.2, 0.2, 0.2, 0.2, 0.2, 0.2, 0.2, 0.2, 0.2, 0.2, 0.2, 0.2, 0.2, 0.2, 0.2, 0.2, 0.2, 0.2, 0.2, 0.2, 0.2, 0.2, 0.2, 0.2, 0.2, 0.2, 0.2, 0.2, 0.2, 0.2, 0.2, 0.2, 0.2, 0.2, 0.2, 0.2, 0.2, 0.2, 0.2, 0.2, 0.2, 0.2, 0.2, 0.2, 0.2, 0.2, 0.2, 0.2, 0.2, 0.2, 0.2, 0.2, 0.2, 0.2, 0.2, 0.2, 0.2, 0.2, 0.2, 0.2, 0.2, 0.2, 0.2, 0.2, 0.2, 0.2, 0.2, 0.2, 0.2, 0.2, 0.2, 0.2, 0.2, 0.2, 0.2, 0.2, 0.2, 0.2, 0.2, 0.2, 0.2, 0.2, 0.2, 0.2, 0.2, 0.2, 0.2, 0.2, 0.2, 0.2, 0.2]}, {\"base\": [1.9, 1.9, 1.9, 1.9, 1.9, 1.9, 1.9, 1.9, 1.9, 1.9, 1.9, 1.9, 1.9, 1.9, 1.9, 1.9, 1.9, 1.9, 1.9, 1.9], \"hoverinfo\": \"text\", \"hovertext\": \"Helical; Name=1\", \"marker\": {\"color\": \"#00a9a5\"}, \"name\": \"\", \"opacity\": 0.8, \"showlegend\": false, \"type\": \"bar\", \"x\": [33, 34, 35, 36, 37, 38, 39, 40, 41, 42, 43, 44, 45, 46, 47, 48, 49, 50, 51, 52], \"y\": [0.2, 0.2, 0.2, 0.2, 0.2, 0.2, 0.2, 0.2, 0.2, 0.2, 0.2, 0.2, 0.2, 0.2, 0.2, 0.2, 0.2, 0.2, 0.2, 0.2]}, {\"base\": [1.9, 1.9, 1.9, 1.9, 1.9, 1.9, 1.9, 1.9, 1.9, 1.9, 1.9, 1.9, 1.9, 1.9, 1.9, 1.9, 1.9, 1.9, 1.9, 1.9], \"hoverinfo\": \"text\", \"hovertext\": \"Helical; Name=2\", \"marker\": {\"color\": \"#00a9a5\"}, \"name\": \"\", \"opacity\": 0.8, \"showlegend\": false, \"type\": \"bar\", \"x\": [77, 78, 79, 80, 81, 82, 83, 84, 85, 86, 87, 88, 89, 90, 91, 92, 93, 94, 95, 96], \"y\": [0.2, 0.2, 0.2, 0.2, 0.2, 0.2, 0.2, 0.2, 0.2, 0.2, 0.2, 0.2, 0.2, 0.2, 0.2, 0.2, 0.2, 0.2, 0.2, 0.2]}, {\"base\": [2.9, 2.9, 2.9, 2.9, 2.9, 2.9, 2.9, 2.9, 2.9, 2.9], \"hoverinfo\": \"text\", \"hovertext\": \"Helix\", \"marker\": {\"color\": \"#008BF8\"}, \"name\": \"\", \"opacity\": 0.8, \"showlegend\": false, \"type\": \"bar\", \"x\": [9, 10, 11, 12, 13, 14, 15, 16, 17, 18], \"y\": [0.2, 0.2, 0.2, 0.2, 0.2, 0.2, 0.2, 0.2, 0.2, 0.2]}, {\"base\": [2.9, 2.9, 2.9, 2.9, 2.9, 2.9, 2.9, 2.9, 2.9, 2.9], \"hoverinfo\": \"text\", \"hovertext\": \"Turn\", \"marker\": {\"color\": \"#DC0073\"}, \"name\": \"\", \"opacity\": 0.8, \"showlegend\": false, \"type\": \"bar\", \"x\": [24, 25, 26, 27, 28, 29, 30, 31, 32, 33], \"y\": [0.2, 0.2, 0.2, 0.2, 0.2, 0.2, 0.2, 0.2, 0.2, 0.2]}, {\"base\": [2.9, 2.9, 2.9, 2.9, 2.9, 2.9, 2.9, 2.9, 2.9, 2.9], \"hoverinfo\": \"text\", \"hovertext\": \"Beta strand\", \"marker\": {\"color\": \"#04E762\"}, \"name\": \"\", \"opacity\": 0.8, \"showlegend\": false, \"type\": \"bar\", \"x\": [39, 40, 41, 42, 43, 44, 45, 46, 47, 48], \"y\": [0.2, 0.2, 0.2, 0.2, 0.2, 0.2, 0.2, 0.2, 0.2, 0.2]}],                        {\"bargap\": 0, \"barmode\": \"stack\", \"hoverdistance\": 1, \"hovermode\": \"x unified\", \"plot_bgcolor\": \"rgba(0,0,0,0)\", \"shapes\": [{\"line\": {\"color\": \"#023e8a\", \"width\": 1}, \"type\": \"line\", \"x0\": 110, \"x1\": 110, \"y0\": 0, \"y1\": 0.3}], \"template\": {\"data\": {\"bar\": [{\"error_x\": {\"color\": \"#2a3f5f\"}, \"error_y\": {\"color\": \"#2a3f5f\"}, \"marker\": {\"line\": {\"color\": \"#E5ECF6\", \"width\": 0.5}}, \"type\": \"bar\"}], \"barpolar\": [{\"marker\": {\"line\": {\"color\": \"#E5ECF6\", \"width\": 0.5}}, \"type\": \"barpolar\"}], \"carpet\": [{\"aaxis\": {\"endlinecolor\": \"#2a3f5f\", \"gridcolor\": \"white\", \"linecolor\": \"white\", \"minorgridcolor\": \"white\", \"startlinecolor\": \"#2a3f5f\"}, \"baxis\": {\"endlinecolor\": \"#2a3f5f\", \"gridcolor\": \"white\", \"linecolor\": \"white\", \"minorgridcolor\": \"white\", \"startlinecolor\": \"#2a3f5f\"}, \"type\": \"carpet\"}], \"choropleth\": [{\"colorbar\": {\"outlinewidth\": 0, \"ticks\": \"\"}, \"type\": \"choropleth\"}], \"contour\": [{\"colorbar\": {\"outlinewidth\": 0, \"ticks\": \"\"}, \"colorscale\": [[0.0, \"#0d0887\"], [0.1111111111111111, \"#46039f\"], [0.2222222222222222, \"#7201a8\"], [0.3333333333333333, \"#9c179e\"], [0.4444444444444444, \"#bd3786\"], [0.5555555555555556, \"#d8576b\"], [0.6666666666666666, \"#ed7953\"], [0.7777777777777778, \"#fb9f3a\"], [0.8888888888888888, \"#fdca26\"], [1.0, \"#f0f921\"]], \"type\": \"contour\"}], \"contourcarpet\": [{\"colorbar\": {\"outlinewidth\": 0, \"ticks\": \"\"}, \"type\": \"contourcarpet\"}], \"heatmap\": [{\"colorbar\": {\"outlinewidth\": 0, \"ticks\": \"\"}, \"colorscale\": [[0.0, \"#0d0887\"], [0.1111111111111111, \"#46039f\"], [0.2222222222222222, \"#7201a8\"], [0.3333333333333333, \"#9c179e\"], [0.4444444444444444, \"#bd3786\"], [0.5555555555555556, \"#d8576b\"], [0.6666666666666666, \"#ed7953\"], [0.7777777777777778, \"#fb9f3a\"], [0.8888888888888888, \"#fdca26\"], [1.0, \"#f0f921\"]], \"type\": \"heatmap\"}], \"heatmapgl\": [{\"colorbar\": {\"outlinewidth\": 0, \"ticks\": \"\"}, \"colorscale\": [[0.0, \"#0d0887\"], [0.1111111111111111, \"#46039f\"], [0.2222222222222222, \"#7201a8\"], [0.3333333333333333, \"#9c179e\"], [0.4444444444444444, \"#bd3786\"], [0.5555555555555556, \"#d8576b\"], [0.6666666666666666, \"#ed7953\"], [0.7777777777777778, \"#fb9f3a\"], [0.8888888888888888, \"#fdca26\"], [1.0, \"#f0f921\"]], \"type\": \"heatmapgl\"}], \"histogram\": [{\"marker\": {\"colorbar\": {\"outlinewidth\": 0, \"ticks\": \"\"}}, \"type\": \"histogram\"}], \"histogram2d\": [{\"colorbar\": {\"outlinewidth\": 0, \"ticks\": \"\"}, \"colorscale\": [[0.0, \"#0d0887\"], [0.1111111111111111, \"#46039f\"], [0.2222222222222222, \"#7201a8\"], [0.3333333333333333, \"#9c179e\"], [0.4444444444444444, \"#bd3786\"], [0.5555555555555556, \"#d8576b\"], [0.6666666666666666, \"#ed7953\"], [0.7777777777777778, \"#fb9f3a\"], [0.8888888888888888, \"#fdca26\"], [1.0, \"#f0f921\"]], \"type\": \"histogram2d\"}], \"histogram2dcontour\": [{\"colorbar\": {\"outlinewidth\": 0, \"ticks\": \"\"}, \"colorscale\": [[0.0, \"#0d0887\"], [0.1111111111111111, \"#46039f\"], [0.2222222222222222, \"#7201a8\"], [0.3333333333333333, \"#9c179e\"], [0.4444444444444444, \"#bd3786\"], [0.5555555555555556, \"#d8576b\"], [0.6666666666666666, \"#ed7953\"], [0.7777777777777778, \"#fb9f3a\"], [0.8888888888888888, \"#fdca26\"], [1.0, \"#f0f921\"]], \"type\": \"histogram2dcontour\"}], \"mesh3d\": [{\"colorbar\": {\"outlinewidth\": 0, \"ticks\": \"\"}, \"type\": \"mesh3d\"}], \"parcoords\": [{\"line\": {\"colorbar\": {\"outlinewidth\": 0, \"ticks\": \"\"}}, \"type\": \"parcoords\"}], \"pie\": [{\"automargin\": true, \"type\": \"pie\"}], \"scatter\": [{\"marker\": {\"colorbar\": {\"outlinewidth\": 0, \"ticks\": \"\"}}, \"type\": \"scatter\"}], \"scatter3d\": [{\"line\": {\"colorbar\": {\"outlinewidth\": 0, \"ticks\": \"\"}}, \"marker\": {\"colorbar\": {\"outlinewidth\": 0, \"ticks\": \"\"}}, \"type\": \"scatter3d\"}], \"scattercarpet\": [{\"marker\": {\"colorbar\": {\"outlinewidth\": 0, \"ticks\": \"\"}}, \"type\": \"scattercarpet\"}], \"scattergeo\": [{\"marker\": {\"colorbar\": {\"outlinewidth\": 0, \"ticks\": \"\"}}, \"type\": \"scattergeo\"}], \"scattergl\": [{\"marker\": {\"colorbar\": {\"outlinewidth\": 0, \"ticks\": \"\"}}, \"type\": \"scattergl\"}], \"scattermapbox\": [{\"marker\": {\"colorbar\": {\"outlinewidth\": 0, \"ticks\": \"\"}}, \"type\": \"scattermapbox\"}], \"scatterpolar\": [{\"marker\": {\"colorbar\": {\"outlinewidth\": 0, \"ticks\": \"\"}}, \"type\": \"scatterpolar\"}], \"scatterpolargl\": [{\"marker\": {\"colorbar\": {\"outlinewidth\": 0, \"ticks\": \"\"}}, \"type\": \"scatterpolargl\"}], \"scatterternary\": [{\"marker\": {\"colorbar\": {\"outlinewidth\": 0, \"ticks\": \"\"}}, \"type\": \"scatterternary\"}], \"surface\": [{\"colorbar\": {\"outlinewidth\": 0, \"ticks\": \"\"}, \"colorscale\": [[0.0, \"#0d0887\"], [0.1111111111111111, \"#46039f\"], [0.2222222222222222, \"#7201a8\"], [0.3333333333333333, \"#9c179e\"], [0.4444444444444444, \"#bd3786\"], [0.5555555555555556, \"#d8576b\"], [0.6666666666666666, \"#ed7953\"], [0.7777777777777778, \"#fb9f3a\"], [0.8888888888888888, \"#fdca26\"], [1.0, \"#f0f921\"]], \"type\": \"surface\"}], \"table\": [{\"cells\": {\"fill\": {\"color\": \"#EBF0F8\"}, \"line\": {\"color\": \"white\"}}, \"header\": {\"fill\": {\"color\": \"#C8D4E3\"}, \"line\": {\"color\": \"white\"}}, \"type\": \"table\"}]}, \"layout\": {\"annotationdefaults\": {\"arrowcolor\": \"#2a3f5f\", \"arrowhead\": 0, \"arrowwidth\": 1}, \"coloraxis\": {\"colorbar\": {\"outlinewidth\": 0, \"ticks\": \"\"}}, \"colorscale\": {\"diverging\": [[0, \"#8e0152\"], [0.1, \"#c51b7d\"], [0.2, \"#de77ae\"], [0.3, \"#f1b6da\"], [0.4, \"#fde0ef\"], [0.5, \"#f7f7f7\"], [0.6, \"#e6f5d0\"], [0.7, \"#b8e186\"], [0.8, \"#7fbc41\"], [0.9, \"#4d9221\"], [1, \"#276419\"]], \"sequential\": [[0.0, \"#0d0887\"], [0.1111111111111111, \"#46039f\"], [0.2222222222222222, \"#7201a8\"], [0.3333333333333333, \"#9c179e\"], [0.4444444444444444, \"#bd3786\"], [0.5555555555555556, \"#d8576b\"], [0.6666666666666666, \"#ed7953\"], [0.7777777777777778, \"#fb9f3a\"], [0.8888888888888888, \"#fdca26\"], [1.0, \"#f0f921\"]], \"sequentialminus\": [[0.0, \"#0d0887\"], [0.1111111111111111, \"#46039f\"], [0.2222222222222222, \"#7201a8\"], [0.3333333333333333, \"#9c179e\"], [0.4444444444444444, \"#bd3786\"], [0.5555555555555556, \"#d8576b\"], [0.6666666666666666, \"#ed7953\"], [0.7777777777777778, \"#fb9f3a\"], [0.8888888888888888, \"#fdca26\"], [1.0, \"#f0f921\"]]}, \"colorway\": [\"#636efa\", \"#EF553B\", \"#00cc96\", \"#ab63fa\", \"#FFA15A\", \"#19d3f3\", \"#FF6692\", \"#B6E880\", \"#FF97FF\", \"#FECB52\"], \"font\": {\"color\": \"#2a3f5f\"}, \"geo\": {\"bgcolor\": \"white\", \"lakecolor\": \"white\", \"landcolor\": \"#E5ECF6\", \"showlakes\": true, \"showland\": true, \"subunitcolor\": \"white\"}, \"hoverlabel\": {\"align\": \"left\"}, \"hovermode\": \"closest\", \"mapbox\": {\"style\": \"light\"}, \"paper_bgcolor\": \"white\", \"plot_bgcolor\": \"#E5ECF6\", \"polar\": {\"angularaxis\": {\"gridcolor\": \"white\", \"linecolor\": \"white\", \"ticks\": \"\"}, \"bgcolor\": \"#E5ECF6\", \"radialaxis\": {\"gridcolor\": \"white\", \"linecolor\": \"white\", \"ticks\": \"\"}}, \"scene\": {\"xaxis\": {\"backgroundcolor\": \"#E5ECF6\", \"gridcolor\": \"white\", \"gridwidth\": 2, \"linecolor\": \"white\", \"showbackground\": true, \"ticks\": \"\", \"zerolinecolor\": \"white\"}, \"yaxis\": {\"backgroundcolor\": \"#E5ECF6\", \"gridcolor\": \"white\", \"gridwidth\": 2, \"linecolor\": \"white\", \"showbackground\": true, \"ticks\": \"\", \"zerolinecolor\": \"white\"}, \"zaxis\": {\"backgroundcolor\": \"#E5ECF6\", \"gridcolor\": \"white\", \"gridwidth\": 2, \"linecolor\": \"white\", \"showbackground\": true, \"ticks\": \"\", \"zerolinecolor\": \"white\"}}, \"shapedefaults\": {\"line\": {\"color\": \"#2a3f5f\"}}, \"ternary\": {\"aaxis\": {\"gridcolor\": \"white\", \"linecolor\": \"white\", \"ticks\": \"\"}, \"baxis\": {\"gridcolor\": \"white\", \"linecolor\": \"white\", \"ticks\": \"\"}, \"bgcolor\": \"#E5ECF6\", \"caxis\": {\"gridcolor\": \"white\", \"linecolor\": \"white\", \"ticks\": \"\"}}, \"title\": {\"x\": 0.05}, \"xaxis\": {\"automargin\": true, \"gridcolor\": \"white\", \"linecolor\": \"white\", \"ticks\": \"\", \"title\": {\"standoff\": 15}, \"zerolinecolor\": \"white\", \"zerolinewidth\": 2}, \"yaxis\": {\"automargin\": true, \"gridcolor\": \"white\", \"linecolor\": \"white\", \"ticks\": \"\", \"title\": {\"standoff\": 15}, \"zerolinecolor\": \"white\", \"zerolinewidth\": 2}}}, \"title\": {\"text\": \"Sequence plot for A0A087WTH1:\"}, \"xaxis\": {\"range\": [-10, 126], \"tickangle\": 0, \"tickmode\": \"array\", \"ticktext\": [\"M\", \"E\", \"D\", \"E\", \"E\", \"K\", \"A\", \"V\", \"E\", \"I\", \"L\", \"G\", \"N\", \"T\", \"E\", \"A\", \"A\", \"H\", \"P\", \"P\", \"S\", \"P\", \"I\", \"R\", \"C\", \"C\", \"W\", \"L\", \"R\", \"L\", \"R\", \"C\", \"L\", \"A\", \"A\", \"T\", \"S\", \"I\", \"I\", \"C\", \"G\", \"C\", \"S\", \"C\", \"L\", \"G\", \"V\", \"M\", \"A\", \"L\", \"V\", \"F\", \"A\", \"I\", \"K\", \"A\", \"E\", \"E\", \"R\", \"H\", \"K\", \"A\", \"G\", \"R\", \"S\", \"E\", \"E\", \"A\", \"V\", \"R\", \"W\", \"G\", \"A\", \"R\", \"A\", \"R\", \"K\", \"L\", \"I\", \"L\", \"A\", \"S\", \"F\", \"A\", \"V\", \"W\", \"L\", \"A\", \"V\", \"L\", \"I\", \"L\", \"G\", \"P\", \"L\", \"L\", \"L\", \"W\", \"L\", \"L\", \"S\", \"Y\", \"A\", \"I\", \"A\", \"Q\", \"A\", \"P\", \"E\", \"P\", \"T\", \"I\", \"D\", \"E\", \"R\", \"E\"], \"tickvals\": [0, 1, 2, 3, 4, 5, 6, 7, 8, 9, 10, 11, 12, 13, 14, 15, 16, 17, 18, 19, 20, 21, 22, 23, 24, 25, 26, 27, 28, 29, 30, 31, 32, 33, 34, 35, 36, 37, 38, 39, 40, 41, 42, 43, 44, 45, 46, 47, 48, 49, 50, 51, 52, 53, 54, 55, 56, 57, 58, 59, 60, 61, 62, 63, 64, 65, 66, 67, 68, 69, 70, 71, 72, 73, 74, 75, 76, 77, 78, 79, 80, 81, 82, 83, 84, 85, 86, 87, 88, 89, 90, 91, 92, 93, 94, 95, 96, 97, 98, 99, 100, 101, 102, 103, 104, 105, 106, 107, 108, 109, 110, 111, 112, 113, 114, 115], \"title\": {\"text\": \"protein sequence\"}}, \"yaxis\": {\"automargin\": true, \"range\": [-1, 5], \"showticklabels\": true, \"tickmode\": \"array\", \"ticktext\": [\"proteome\", \"Chain\", \"Transmembrane\", \"Secondary structure\"], \"tickvals\": [0, 1, 2, 3], \"title\": {\"text\": \"\"}}},                        {\"toImageButtonOptions\": {\"format\": \"svg\", \"filename\": \"custom_image\", \"height\": 500, \"width\": 1500, \"scale\": 1}, \"responsive\": true}                    ).then(function(){\n",
       "                            \n",
       "var gd = document.getElementById('7dee5f79-edd7-4d68-9270-d9d939fa09f8');\n",
       "var x = new MutationObserver(function (mutations, observer) {{\n",
       "        var display = window.getComputedStyle(gd).display;\n",
       "        if (!display || display === 'none') {{\n",
       "            console.log([gd, 'removed!']);\n",
       "            Plotly.purge(gd);\n",
       "            observer.disconnect();\n",
       "        }}\n",
       "}});\n",
       "\n",
       "// Listen for the removal of the full notebook cells\n",
       "var notebookContainer = gd.closest('#notebook-container');\n",
       "if (notebookContainer) {{\n",
       "    x.observe(notebookContainer, {childList: true});\n",
       "}}\n",
       "\n",
       "// Listen for the clearing of the current output cell\n",
       "var outputEl = gd.closest('.output');\n",
       "if (outputEl) {{\n",
       "    x.observe(outputEl, {childList: true});\n",
       "}}\n",
       "\n",
       "                        })                };                });            </script>        </div>"
      ]
     },
     "metadata": {},
     "output_type": "display_data"
    }
   ],
   "source": [
    "#hide\n",
    "plot_peptide_traces(test_formatted_proteome_data,\n",
    "                  name = 'proteome',\n",
    "                  protein = \"A0A087WTH1\",\n",
    "                  fasta = test_fasta,\n",
    "                   uniprot=uniprot_annotation,\n",
    "                   selected_features=all_annotatins,\n",
    "                    uniprot_feature_dict=uniprot_feature_dict,\n",
    "                    uniprot_color_dict=uniprot_color_dict)"
   ]
  },
  {
   "cell_type": "code",
   "execution_count": 24,
   "metadata": {},
   "outputs": [
    {
     "data": {
      "application/vnd.plotly.v1+json": {
       "config": {
        "plotlyServerURL": "https://plot.ly",
        "toImageButtonOptions": {
         "filename": "custom_image",
         "format": "svg",
         "height": 500,
         "scale": 1,
         "width": 1500
        }
       },
       "data": [
        {
         "hovertemplate": "Peptide: %{meta}<br>Protein IDs: %{text}",
         "marker": {
          "color": [
           "#023e8a",
           "#023e8a",
           "#023e8a",
           "#023e8a",
           "#023e8a",
           "#023e8a",
           "#023e8a",
           "#023e8a",
           "#023e8a",
           "#023e8a",
           "#023e8a",
           "#023e8a",
           "#023e8a",
           "#023e8a",
           "#023e8a",
           "#023e8a",
           "#023e8a"
          ],
          "line": {
           "color": [
            "#023e8a",
            "#023e8a",
            "#023e8a",
            "#023e8a",
            "#023e8a",
            "#023e8a",
            "#023e8a",
            "#023e8a",
            "#023e8a",
            "#023e8a",
            "#023e8a",
            "#023e8a",
            "#023e8a",
            "#023e8a",
            "#023e8a",
            "#023e8a",
            "#023e8a"
           ]
          },
          "opacity": 1,
          "size": [
           6,
           8,
           8,
           8,
           8,
           8,
           8,
           6,
           6,
           8,
           8,
           8,
           8,
           8,
           8,
           8,
           6
          ],
          "symbol": [
           7,
           1,
           1,
           1,
           1,
           1,
           1,
           8,
           7,
           1,
           1,
           1,
           1,
           1,
           1,
           1,
           8
          ]
         },
         "meta": [
          "PEPT[Phospho (STY)]IDER",
          "PEPT[Phospho (STY)]IDER",
          "PEPT[Phospho (STY)]IDER",
          "PEPT[Phospho (STY)]IDER",
          "PEPT[Phospho (STY)]IDER",
          "PEPT[Phospho (STY)]IDER",
          "PEPT[Phospho (STY)]IDER",
          "PEPT[Phospho (STY)]IDER",
          "SEQ[GlyGly (K)]UENCE[GlyGly (K)]R",
          "SEQ[GlyGly (K)]UENCE[GlyGly (K)]R",
          "SEQ[GlyGly (K)]UENCE[GlyGly (K)]R",
          "SEQ[GlyGly (K)]UENCE[GlyGly (K)]R",
          "SEQ[GlyGly (K)]UENCE[GlyGly (K)]R",
          "SEQ[GlyGly (K)]UENCE[GlyGly (K)]R",
          "SEQ[GlyGly (K)]UENCE[GlyGly (K)]R",
          "SEQ[GlyGly (K)]UENCE[GlyGly (K)]R",
          "SEQ[GlyGly (K)]UENCE[GlyGly (K)]R"
         ],
         "mode": "markers",
         "name": "",
         "showlegend": false,
         "text": [
          "A0A024R161;A0A087WT10;A0A087WTH1",
          "A0A024R161;A0A087WT10;A0A087WTH1",
          "A0A024R161;A0A087WT10;A0A087WTH1",
          "A0A024R161;A0A087WT10;A0A087WTH1",
          "A0A024R161;A0A087WT10;A0A087WTH1",
          "A0A024R161;A0A087WT10;A0A087WTH1",
          "A0A024R161;A0A087WT10;A0A087WTH1",
          "A0A024R161;A0A087WT10;A0A087WTH1",
          "A0A024R161;A0A087WT10",
          "A0A024R161;A0A087WT10",
          "A0A024R161;A0A087WT10",
          "A0A024R161;A0A087WT10",
          "A0A024R161;A0A087WT10",
          "A0A024R161;A0A087WT10",
          "A0A024R161;A0A087WT10",
          "A0A024R161;A0A087WT10",
          "A0A024R161;A0A087WT10"
         ],
         "type": "scatter",
         "x": [
          3,
          4,
          5,
          6,
          7,
          8,
          9,
          10,
          95,
          96,
          97,
          98,
          99,
          100,
          101,
          102,
          103
         ],
         "xaxis": "x",
         "y": [
          1,
          1,
          1,
          1,
          1,
          1,
          1,
          1,
          1,
          1,
          1,
          1,
          1,
          1,
          1,
          1,
          1,
          1,
          1,
          1,
          1,
          1,
          1,
          1,
          1,
          1,
          1,
          1,
          1,
          1,
          1,
          1,
          1,
          1,
          1,
          1,
          1,
          1,
          1,
          1,
          1,
          1,
          1,
          1,
          1,
          1,
          1,
          1,
          1,
          1,
          1,
          1,
          1,
          1,
          1,
          1,
          1,
          1,
          1,
          1,
          1,
          1,
          1,
          1,
          1,
          1,
          1,
          1,
          1,
          1,
          1,
          1,
          1,
          1,
          1,
          1,
          1,
          1,
          1,
          1,
          1,
          1,
          1,
          1,
          1,
          1,
          1,
          1,
          1,
          1,
          1,
          1,
          1,
          1,
          1,
          1,
          1,
          1,
          1,
          1,
          1,
          1,
          1,
          1,
          1,
          1,
          1,
          1,
          1,
          1,
          1,
          1,
          1,
          1,
          1,
          1,
          1,
          1,
          1,
          1,
          1,
          1,
          1,
          1,
          1,
          1,
          1,
          1,
          1,
          1,
          1,
          1,
          1,
          1,
          1,
          1,
          1,
          1,
          1,
          1,
          1,
          1,
          1,
          1,
          1,
          1,
          1,
          1,
          1,
          1,
          1,
          1,
          1,
          1,
          1,
          1,
          1,
          1,
          1,
          1,
          1,
          1,
          1,
          1,
          1,
          1,
          1,
          1,
          1,
          1
         ]
        },
        {
         "hoverinfo": "text",
         "hovertext": [
          "[Phospho (STY)]",
          "[GlyGly (K)]",
          "[GlyGly (K)]"
         ],
         "marker": {
          "color": [
           "#023e8a",
           "#023e8a",
           "#023e8a"
          ],
          "line": {
           "color": [
            "#023e8a",
            "#023e8a",
            "#023e8a"
           ]
          },
          "opacity": 1,
          "size": 8,
          "symbol": [
           0,
           2,
           2
          ]
         },
         "mode": "markers",
         "name": "",
         "showlegend": false,
         "type": "scatter",
         "x": [
          6,
          97,
          102
         ],
         "xaxis": "x",
         "y": [
          1.3,
          1.3,
          1.3
         ]
        },
        {
         "hovertemplate": "Peptide: %{meta}<br>Protein IDs: %{text}",
         "marker": {
          "color": [
           "#0096c7",
           "#0096c7",
           "#0096c7",
           "#0096c7",
           "#0096c7",
           "#0096c7",
           "#0096c7",
           "#0096c7",
           "#0096c7",
           "#0096c7",
           "#0096c7",
           "#0096c7",
           "#0096c7",
           "#0096c7",
           "#0096c7",
           "#0096c7",
           "#0096c7"
          ],
          "line": {
           "color": [
            "#0096c7",
            "#0096c7",
            "#0096c7",
            "#0096c7",
            "#0096c7",
            "#0096c7",
            "#0096c7",
            "#0096c7",
            "#0096c7",
            "#0096c7",
            "#0096c7",
            "#0096c7",
            "#0096c7",
            "#0096c7",
            "#0096c7",
            "#0096c7",
            "#0096c7"
           ]
          },
          "opacity": 1,
          "size": [
           6,
           8,
           8,
           8,
           8,
           8,
           8,
           6,
           6,
           8,
           8,
           8,
           8,
           8,
           8,
           8,
           6
          ],
          "symbol": [
           7,
           1,
           1,
           1,
           1,
           1,
           1,
           8,
           7,
           1,
           1,
           1,
           1,
           1,
           1,
           1,
           8
          ]
         },
         "meta": [
          "PEPT[Phospho (STY)]IDER",
          "PEPT[Phospho (STY)]IDER",
          "PEPT[Phospho (STY)]IDER",
          "PEPT[Phospho (STY)]IDER",
          "PEPT[Phospho (STY)]IDER",
          "PEPT[Phospho (STY)]IDER",
          "PEPT[Phospho (STY)]IDER",
          "PEPT[Phospho (STY)]IDER",
          "SEQ[GlyGly (K)]UENCE[GlyGly (K)]R",
          "SEQ[GlyGly (K)]UENCE[GlyGly (K)]R",
          "SEQ[GlyGly (K)]UENCE[GlyGly (K)]R",
          "SEQ[GlyGly (K)]UENCE[GlyGly (K)]R",
          "SEQ[GlyGly (K)]UENCE[GlyGly (K)]R",
          "SEQ[GlyGly (K)]UENCE[GlyGly (K)]R",
          "SEQ[GlyGly (K)]UENCE[GlyGly (K)]R",
          "SEQ[GlyGly (K)]UENCE[GlyGly (K)]R",
          "SEQ[GlyGly (K)]UENCE[GlyGly (K)]R"
         ],
         "mode": "markers",
         "name": "",
         "showlegend": false,
         "text": [
          "A0A024R161;A0A087WT10;A0A087WTH1",
          "A0A024R161;A0A087WT10;A0A087WTH1",
          "A0A024R161;A0A087WT10;A0A087WTH1",
          "A0A024R161;A0A087WT10;A0A087WTH1",
          "A0A024R161;A0A087WT10;A0A087WTH1",
          "A0A024R161;A0A087WT10;A0A087WTH1",
          "A0A024R161;A0A087WT10;A0A087WTH1",
          "A0A024R161;A0A087WT10;A0A087WTH1",
          "A0A024R161;A0A087WT10",
          "A0A024R161;A0A087WT10",
          "A0A024R161;A0A087WT10",
          "A0A024R161;A0A087WT10",
          "A0A024R161;A0A087WT10",
          "A0A024R161;A0A087WT10",
          "A0A024R161;A0A087WT10",
          "A0A024R161;A0A087WT10",
          "A0A024R161;A0A087WT10"
         ],
         "type": "scatter",
         "x": [
          3,
          4,
          5,
          6,
          7,
          8,
          9,
          10,
          95,
          96,
          97,
          98,
          99,
          100,
          101,
          102,
          103
         ],
         "xaxis": "x",
         "y": [
          2,
          2,
          2,
          2,
          2,
          2,
          2,
          2,
          2,
          2,
          2,
          2,
          2,
          2,
          2,
          2,
          2,
          2,
          2,
          2,
          2,
          2,
          2,
          2,
          2,
          2,
          2,
          2,
          2,
          2,
          2,
          2,
          2,
          2,
          2,
          2,
          2,
          2,
          2,
          2,
          2,
          2,
          2,
          2,
          2,
          2,
          2,
          2,
          2,
          2,
          2,
          2,
          2,
          2,
          2,
          2,
          2,
          2,
          2,
          2,
          2,
          2,
          2,
          2,
          2,
          2,
          2,
          2,
          2,
          2,
          2,
          2,
          2,
          2,
          2,
          2,
          2,
          2,
          2,
          2,
          2,
          2,
          2,
          2,
          2,
          2,
          2,
          2,
          2,
          2,
          2,
          2,
          2,
          2,
          2,
          2,
          2,
          2,
          2,
          2,
          2,
          2,
          2,
          2,
          2,
          2,
          2,
          2,
          2,
          2,
          2,
          2,
          2,
          2,
          2,
          2,
          2,
          2,
          2,
          2,
          2,
          2,
          2,
          2,
          2,
          2,
          2,
          2,
          2,
          2,
          2,
          2,
          2,
          2,
          2,
          2,
          2,
          2,
          2,
          2,
          2,
          2,
          2,
          2,
          2,
          2,
          2,
          2,
          2,
          2,
          2,
          2,
          2,
          2,
          2,
          2,
          2,
          2,
          2,
          2,
          2,
          2,
          2,
          2,
          2,
          2,
          2,
          2,
          2,
          2
         ]
        },
        {
         "hoverinfo": "text",
         "hovertext": [
          "[Phospho (STY)]",
          "[GlyGly (K)]",
          "[GlyGly (K)]"
         ],
         "marker": {
          "color": [
           "#0096c7",
           "#0096c7",
           "#0096c7"
          ],
          "line": {
           "color": [
            "#0096c7",
            "#0096c7",
            "#0096c7"
           ]
          },
          "opacity": 1,
          "size": 8,
          "symbol": [
           0,
           2,
           2
          ]
         },
         "mode": "markers",
         "name": "",
         "showlegend": false,
         "type": "scatter",
         "x": [
          6,
          97,
          102
         ],
         "xaxis": "x",
         "y": [
          2.3,
          2.3,
          2.3
         ]
        },
        {
         "hovertemplate": "Peptide: %{meta}<br>Protein IDs: %{text}",
         "marker": {
          "color": [
           "#90e0ef",
           "#90e0ef",
           "#90e0ef",
           "#90e0ef",
           "#90e0ef",
           "#90e0ef",
           "#90e0ef",
           "#90e0ef",
           "#90e0ef",
           "#90e0ef",
           "#90e0ef",
           "#90e0ef",
           "#90e0ef",
           "#90e0ef",
           "#90e0ef",
           "#90e0ef",
           "#90e0ef"
          ],
          "line": {
           "color": [
            "#90e0ef",
            "#90e0ef",
            "#90e0ef",
            "#90e0ef",
            "#90e0ef",
            "#90e0ef",
            "#90e0ef",
            "#90e0ef",
            "#90e0ef",
            "#90e0ef",
            "#90e0ef",
            "#90e0ef",
            "#90e0ef",
            "#90e0ef",
            "#90e0ef",
            "#90e0ef",
            "#90e0ef"
           ]
          },
          "opacity": 1,
          "size": [
           6,
           8,
           8,
           8,
           8,
           8,
           8,
           6,
           6,
           8,
           8,
           8,
           8,
           8,
           8,
           8,
           6
          ],
          "symbol": [
           7,
           1,
           1,
           1,
           1,
           1,
           1,
           8,
           7,
           1,
           1,
           1,
           1,
           1,
           1,
           1,
           8
          ]
         },
         "meta": [
          "PEPT[Phospho (STY)]IDER",
          "PEPT[Phospho (STY)]IDER",
          "PEPT[Phospho (STY)]IDER",
          "PEPT[Phospho (STY)]IDER",
          "PEPT[Phospho (STY)]IDER",
          "PEPT[Phospho (STY)]IDER",
          "PEPT[Phospho (STY)]IDER",
          "PEPT[Phospho (STY)]IDER",
          "SEQ[GlyGly (K)]UENCE[GlyGly (K)]R",
          "SEQ[GlyGly (K)]UENCE[GlyGly (K)]R",
          "SEQ[GlyGly (K)]UENCE[GlyGly (K)]R",
          "SEQ[GlyGly (K)]UENCE[GlyGly (K)]R",
          "SEQ[GlyGly (K)]UENCE[GlyGly (K)]R",
          "SEQ[GlyGly (K)]UENCE[GlyGly (K)]R",
          "SEQ[GlyGly (K)]UENCE[GlyGly (K)]R",
          "SEQ[GlyGly (K)]UENCE[GlyGly (K)]R",
          "SEQ[GlyGly (K)]UENCE[GlyGly (K)]R"
         ],
         "mode": "markers",
         "name": "",
         "showlegend": false,
         "text": [
          "A0A024R161;A0A087WT10;A0A087WTH1",
          "A0A024R161;A0A087WT10;A0A087WTH1",
          "A0A024R161;A0A087WT10;A0A087WTH1",
          "A0A024R161;A0A087WT10;A0A087WTH1",
          "A0A024R161;A0A087WT10;A0A087WTH1",
          "A0A024R161;A0A087WT10;A0A087WTH1",
          "A0A024R161;A0A087WT10;A0A087WTH1",
          "A0A024R161;A0A087WT10;A0A087WTH1",
          "A0A024R161;A0A087WT10",
          "A0A024R161;A0A087WT10",
          "A0A024R161;A0A087WT10",
          "A0A024R161;A0A087WT10",
          "A0A024R161;A0A087WT10",
          "A0A024R161;A0A087WT10",
          "A0A024R161;A0A087WT10",
          "A0A024R161;A0A087WT10",
          "A0A024R161;A0A087WT10"
         ],
         "type": "scatter",
         "x": [
          3,
          4,
          5,
          6,
          7,
          8,
          9,
          10,
          95,
          96,
          97,
          98,
          99,
          100,
          101,
          102,
          103
         ],
         "xaxis": "x",
         "y": [
          3,
          3,
          3,
          3,
          3,
          3,
          3,
          3,
          3,
          3,
          3,
          3,
          3,
          3,
          3,
          3,
          3,
          3,
          3,
          3,
          3,
          3,
          3,
          3,
          3,
          3,
          3,
          3,
          3,
          3,
          3,
          3,
          3,
          3,
          3,
          3,
          3,
          3,
          3,
          3,
          3,
          3,
          3,
          3,
          3,
          3,
          3,
          3,
          3,
          3,
          3,
          3,
          3,
          3,
          3,
          3,
          3,
          3,
          3,
          3,
          3,
          3,
          3,
          3,
          3,
          3,
          3,
          3,
          3,
          3,
          3,
          3,
          3,
          3,
          3,
          3,
          3,
          3,
          3,
          3,
          3,
          3,
          3,
          3,
          3,
          3,
          3,
          3,
          3,
          3,
          3,
          3,
          3,
          3,
          3,
          3,
          3,
          3,
          3,
          3,
          3,
          3,
          3,
          3,
          3,
          3,
          3,
          3,
          3,
          3,
          3,
          3,
          3,
          3,
          3,
          3,
          3,
          3,
          3,
          3,
          3,
          3,
          3,
          3,
          3,
          3,
          3,
          3,
          3,
          3,
          3,
          3,
          3,
          3,
          3,
          3,
          3,
          3,
          3,
          3,
          3,
          3,
          3,
          3,
          3,
          3,
          3,
          3,
          3,
          3,
          3,
          3,
          3,
          3,
          3,
          3,
          3,
          3,
          3,
          3,
          3,
          3,
          3,
          3,
          3,
          3,
          3,
          3,
          3,
          3
         ]
        },
        {
         "hoverinfo": "text",
         "hovertext": [
          "[Phospho (STY)]",
          "[GlyGly (K)]",
          "[GlyGly (K)]"
         ],
         "marker": {
          "color": [
           "#90e0ef",
           "#90e0ef",
           "#90e0ef"
          ],
          "line": {
           "color": [
            "#90e0ef",
            "#90e0ef",
            "#90e0ef"
           ]
          },
          "opacity": 1,
          "size": 8,
          "symbol": [
           0,
           2,
           2
          ]
         },
         "mode": "markers",
         "name": "",
         "showlegend": false,
         "type": "scatter",
         "x": [
          6,
          97,
          102
         ],
         "xaxis": "x",
         "y": [
          3.3,
          3.3,
          3.3
         ]
        },
        {
         "marker": {
          "color": "black",
          "symbol": 2
         },
         "mode": "markers",
         "name": "[GlyGly (K)]",
         "showlegend": true,
         "type": "scatter",
         "y": [
          null
         ]
        },
        {
         "marker": {
          "color": "black",
          "symbol": 0
         },
         "mode": "markers",
         "name": "[Phospho (STY)]",
         "showlegend": true,
         "type": "scatter",
         "y": [
          null
         ]
        },
        {
         "base": [
          3.9,
          3.9,
          3.9,
          3.9,
          3.9,
          3.9,
          3.9,
          3.9,
          3.9,
          3.9,
          3.9,
          3.9,
          3.9,
          3.9,
          3.9,
          3.9,
          3.9,
          3.9,
          3.9,
          3.9,
          3.9,
          3.9,
          3.9,
          3.9,
          3.9,
          3.9,
          3.9,
          3.9,
          3.9,
          3.9,
          3.9,
          3.9,
          3.9,
          3.9,
          3.9,
          3.9,
          3.9,
          3.9,
          3.9,
          3.9,
          3.9,
          3.9,
          3.9,
          3.9,
          3.9,
          3.9,
          3.9,
          3.9,
          3.9,
          3.9,
          3.9,
          3.9,
          3.9,
          3.9,
          3.9,
          3.9,
          3.9,
          3.9,
          3.9,
          3.9,
          3.9,
          3.9,
          3.9,
          3.9,
          3.9,
          3.9,
          3.9,
          3.9,
          3.9,
          3.9,
          3.9,
          3.9,
          3.9,
          3.9,
          3.9,
          3.9,
          3.9,
          3.9,
          3.9,
          3.9,
          3.9,
          3.9,
          3.9,
          3.9,
          3.9,
          3.9,
          3.9,
          3.9,
          3.9,
          3.9,
          3.9,
          3.9,
          3.9,
          3.9,
          3.9,
          3.9,
          3.9,
          3.9,
          3.9,
          3.9,
          3.9,
          3.9,
          3.9,
          3.9,
          3.9,
          3.9,
          3.9,
          3.9,
          3.9,
          3.9,
          3.9,
          3.9,
          3.9,
          3.9
         ],
         "hoverinfo": "text",
         "hovertext": "Guanine nucleotide-binding protein subunit gamma",
         "marker": {
          "color": "#004b23"
         },
         "name": "",
         "opacity": 0.8,
         "showlegend": false,
         "type": "bar",
         "x": [
          38,
          39,
          40,
          41,
          42,
          43,
          44,
          45,
          46,
          47,
          48,
          49,
          50,
          51,
          52,
          53,
          54,
          55,
          56,
          57,
          58,
          59,
          60,
          61,
          62,
          63,
          64,
          65,
          66,
          67,
          68,
          69,
          70,
          71,
          72,
          73,
          74,
          75,
          76,
          77,
          78,
          79,
          80,
          81,
          82,
          83,
          84,
          85,
          86,
          87,
          88,
          89,
          90,
          91,
          92,
          93,
          94,
          95,
          96,
          97,
          98,
          99,
          100,
          101,
          102,
          103,
          104,
          105,
          106,
          107,
          108,
          109,
          110,
          111,
          112,
          113,
          114,
          115,
          116,
          117,
          118,
          119,
          120,
          121,
          122,
          123,
          124,
          125,
          126,
          127,
          128,
          129,
          130,
          131,
          132,
          133,
          134,
          135,
          136,
          137,
          138,
          139,
          140,
          141,
          142,
          143,
          144,
          145,
          146,
          147,
          148,
          149,
          150,
          151
         ],
         "y": [
          0.2,
          0.2,
          0.2,
          0.2,
          0.2,
          0.2,
          0.2,
          0.2,
          0.2,
          0.2,
          0.2,
          0.2,
          0.2,
          0.2,
          0.2,
          0.2,
          0.2,
          0.2,
          0.2,
          0.2,
          0.2,
          0.2,
          0.2,
          0.2,
          0.2,
          0.2,
          0.2,
          0.2,
          0.2,
          0.2,
          0.2,
          0.2,
          0.2,
          0.2,
          0.2,
          0.2,
          0.2,
          0.2,
          0.2,
          0.2,
          0.2,
          0.2,
          0.2,
          0.2,
          0.2,
          0.2,
          0.2,
          0.2,
          0.2,
          0.2,
          0.2,
          0.2,
          0.2,
          0.2,
          0.2,
          0.2,
          0.2,
          0.2,
          0.2,
          0.2,
          0.2,
          0.2,
          0.2,
          0.2,
          0.2,
          0.2,
          0.2,
          0.2,
          0.2,
          0.2,
          0.2,
          0.2,
          0.2,
          0.2,
          0.2,
          0.2,
          0.2,
          0.2,
          0.2,
          0.2,
          0.2,
          0.2,
          0.2,
          0.2,
          0.2,
          0.2,
          0.2,
          0.2,
          0.2,
          0.2,
          0.2,
          0.2,
          0.2,
          0.2,
          0.2,
          0.2,
          0.2,
          0.2,
          0.2,
          0.2,
          0.2,
          0.2,
          0.2,
          0.2,
          0.2,
          0.2,
          0.2,
          0.2,
          0.2,
          0.2,
          0.2,
          0.2,
          0.2,
          0.2
         ]
        },
        {
         "base": [
          4.9,
          4.9,
          4.9,
          4.9,
          4.9,
          4.9,
          4.9,
          4.9,
          4.9,
          4.9,
          4.9,
          4.9,
          4.9,
          4.9,
          4.9,
          4.9,
          4.9,
          4.9,
          4.9,
          4.9,
          4.9,
          4.9,
          4.9,
          4.9,
          4.9,
          4.9,
          4.9,
          4.9,
          4.9,
          4.9,
          4.9,
          4.9,
          4.9,
          4.9,
          4.9,
          4.9,
          4.9
         ],
         "hoverinfo": "text",
         "hovertext": "nan",
         "marker": {
          "color": "#38b000"
         },
         "name": "",
         "opacity": 0.8,
         "showlegend": false,
         "type": "bar",
         "x": [
          0,
          1,
          2,
          3,
          4,
          5,
          6,
          7,
          8,
          9,
          10,
          11,
          12,
          13,
          14,
          15,
          16,
          17,
          18,
          19,
          20,
          21,
          22,
          23,
          24,
          25,
          26,
          27,
          28,
          29,
          30,
          31,
          32,
          33,
          34,
          35,
          36
         ],
         "y": [
          0.2,
          0.2,
          0.2,
          0.2,
          0.2,
          0.2,
          0.2,
          0.2,
          0.2,
          0.2,
          0.2,
          0.2,
          0.2,
          0.2,
          0.2,
          0.2,
          0.2,
          0.2,
          0.2,
          0.2,
          0.2,
          0.2,
          0.2,
          0.2,
          0.2,
          0.2,
          0.2,
          0.2,
          0.2,
          0.2,
          0.2,
          0.2,
          0.2,
          0.2,
          0.2,
          0.2,
          0.2
         ]
        },
        {
         "base": [
          5.9,
          5.9,
          5.9,
          5.9,
          5.9,
          5.9,
          5.9,
          5.9,
          5.9,
          5.9,
          5.9,
          5.9,
          5.9,
          5.9,
          5.9,
          5.9,
          5.9,
          5.9,
          5.9,
          5.9,
          5.9,
          5.9,
          5.9,
          5.9,
          5.9,
          5.9,
          5.9,
          5.9,
          5.9,
          5.9,
          5.9,
          5.9,
          5.9,
          5.9,
          5.9,
          5.9,
          5.9,
          5.9,
          5.9,
          5.9,
          5.9,
          5.9,
          5.9,
          5.9,
          5.9,
          5.9,
          5.9,
          5.9,
          5.9,
          5.9,
          5.9,
          5.9,
          5.9,
          5.9,
          5.9,
          5.9,
          5.9,
          5.9,
          5.9,
          5.9,
          5.9,
          5.9,
          5.9,
          5.9,
          5.9,
          5.9,
          5.9,
          5.9,
          5.9,
          5.9,
          5.9,
          5.9,
          5.9,
          5.9,
          5.9
         ],
         "hoverinfo": "text",
         "hovertext": "J",
         "marker": {
          "color": "#8240c9"
         },
         "name": "",
         "opacity": 0.8,
         "showlegend": false,
         "type": "bar",
         "x": [
          48,
          49,
          50,
          51,
          52,
          53,
          54,
          55,
          56,
          57,
          58,
          59,
          60,
          61,
          62,
          63,
          64,
          65,
          66,
          67,
          68,
          69,
          70,
          71,
          72,
          73,
          74,
          75,
          76,
          77,
          78,
          79,
          80,
          81,
          82,
          83,
          84,
          85,
          86,
          87,
          88,
          89,
          90,
          91,
          92,
          93,
          94,
          95,
          96,
          97,
          98,
          99,
          100,
          101,
          102,
          103,
          104,
          105,
          106,
          107,
          108,
          109,
          110,
          111,
          112,
          113,
          114,
          115,
          116,
          117,
          118,
          119,
          120,
          121,
          122
         ],
         "y": [
          0.2,
          0.2,
          0.2,
          0.2,
          0.2,
          0.2,
          0.2,
          0.2,
          0.2,
          0.2,
          0.2,
          0.2,
          0.2,
          0.2,
          0.2,
          0.2,
          0.2,
          0.2,
          0.2,
          0.2,
          0.2,
          0.2,
          0.2,
          0.2,
          0.2,
          0.2,
          0.2,
          0.2,
          0.2,
          0.2,
          0.2,
          0.2,
          0.2,
          0.2,
          0.2,
          0.2,
          0.2,
          0.2,
          0.2,
          0.2,
          0.2,
          0.2,
          0.2,
          0.2,
          0.2,
          0.2,
          0.2,
          0.2,
          0.2,
          0.2,
          0.2,
          0.2,
          0.2,
          0.2,
          0.2,
          0.2,
          0.2,
          0.2,
          0.2,
          0.2,
          0.2,
          0.2,
          0.2,
          0.2,
          0.2,
          0.2,
          0.2,
          0.2,
          0.2,
          0.2,
          0.2,
          0.2,
          0.2,
          0.2,
          0.2
         ]
        },
        {
         "base": [
          5.9,
          5.9,
          5.9,
          5.9,
          5.9,
          5.9,
          5.9,
          5.9,
          5.9,
          5.9,
          5.9,
          5.9,
          5.9,
          5.9,
          5.9,
          5.9,
          5.9,
          5.9,
          5.9,
          5.9,
          5.9,
          5.9,
          5.9,
          5.9,
          5.9,
          5.9,
          5.9,
          5.9,
          5.9,
          5.9,
          5.9,
          5.9,
          5.9,
          5.9,
          5.9,
          5.9,
          5.9,
          5.9,
          5.9,
          5.9,
          5.9,
          5.9,
          5.9,
          5.9,
          5.9,
          5.9,
          5.9,
          5.9,
          5.9,
          5.9,
          5.9
         ],
         "hoverinfo": "text",
         "hovertext": "G protein gamma",
         "marker": {
          "color": "#8240c9"
         },
         "name": "",
         "opacity": 0.8,
         "showlegend": false,
         "type": "bar",
         "x": [
          101,
          102,
          103,
          104,
          105,
          106,
          107,
          108,
          109,
          110,
          111,
          112,
          113,
          114,
          115,
          116,
          117,
          118,
          119,
          120,
          121,
          122,
          123,
          124,
          125,
          126,
          127,
          128,
          129,
          130,
          131,
          132,
          133,
          134,
          135,
          136,
          137,
          138,
          139,
          140,
          141,
          142,
          143,
          144,
          145,
          146,
          147,
          148,
          149,
          150,
          151
         ],
         "y": [
          0.2,
          0.2,
          0.2,
          0.2,
          0.2,
          0.2,
          0.2,
          0.2,
          0.2,
          0.2,
          0.2,
          0.2,
          0.2,
          0.2,
          0.2,
          0.2,
          0.2,
          0.2,
          0.2,
          0.2,
          0.2,
          0.2,
          0.2,
          0.2,
          0.2,
          0.2,
          0.2,
          0.2,
          0.2,
          0.2,
          0.2,
          0.2,
          0.2,
          0.2,
          0.2,
          0.2,
          0.2,
          0.2,
          0.2,
          0.2,
          0.2,
          0.2,
          0.2,
          0.2,
          0.2,
          0.2,
          0.2,
          0.2,
          0.2,
          0.2,
          0.2
         ]
        }
       ],
       "layout": {
        "bargap": 0,
        "barmode": "stack",
        "hoverdistance": 1,
        "hovermode": "x unified",
        "plot_bgcolor": "rgba(0,0,0,0)",
        "shapes": [
         {
          "line": {
           "color": "#023e8a",
           "width": 1
          },
          "type": "line",
          "x0": 6,
          "x1": 6,
          "y0": 1,
          "y1": 1.3
         },
         {
          "line": {
           "color": "#023e8a",
           "width": 1
          },
          "type": "line",
          "x0": 97,
          "x1": 97,
          "y0": 1,
          "y1": 1.3
         },
         {
          "line": {
           "color": "#023e8a",
           "width": 1
          },
          "type": "line",
          "x0": 102,
          "x1": 102,
          "y0": 1,
          "y1": 1.3
         },
         {
          "line": {
           "color": "#023e8a",
           "width": 1
          },
          "type": "line",
          "x0": 6,
          "x1": 6,
          "y0": 1,
          "y1": 1.3
         },
         {
          "line": {
           "color": "#023e8a",
           "width": 1
          },
          "type": "line",
          "x0": 97,
          "x1": 97,
          "y0": 1,
          "y1": 1.3
         },
         {
          "line": {
           "color": "#023e8a",
           "width": 1
          },
          "type": "line",
          "x0": 102,
          "x1": 102,
          "y0": 1,
          "y1": 1.3
         },
         {
          "line": {
           "color": "#0096c7",
           "width": 1
          },
          "type": "line",
          "x0": 6,
          "x1": 6,
          "y0": 2,
          "y1": 2.3
         },
         {
          "line": {
           "color": "#0096c7",
           "width": 1
          },
          "type": "line",
          "x0": 97,
          "x1": 97,
          "y0": 2,
          "y1": 2.3
         },
         {
          "line": {
           "color": "#0096c7",
           "width": 1
          },
          "type": "line",
          "x0": 102,
          "x1": 102,
          "y0": 2,
          "y1": 2.3
         },
         {
          "line": {
           "color": "#90e0ef",
           "width": 1
          },
          "type": "line",
          "x0": 6,
          "x1": 6,
          "y0": 3,
          "y1": 3.3
         },
         {
          "line": {
           "color": "#90e0ef",
           "width": 1
          },
          "type": "line",
          "x0": 97,
          "x1": 97,
          "y0": 3,
          "y1": 3.3
         },
         {
          "line": {
           "color": "#90e0ef",
           "width": 1
          },
          "type": "line",
          "x0": 102,
          "x1": 102,
          "y0": 3,
          "y1": 3.3
         }
        ],
        "template": {
         "data": {
          "bar": [
           {
            "error_x": {
             "color": "#2a3f5f"
            },
            "error_y": {
             "color": "#2a3f5f"
            },
            "marker": {
             "line": {
              "color": "#E5ECF6",
              "width": 0.5
             }
            },
            "type": "bar"
           }
          ],
          "barpolar": [
           {
            "marker": {
             "line": {
              "color": "#E5ECF6",
              "width": 0.5
             }
            },
            "type": "barpolar"
           }
          ],
          "carpet": [
           {
            "aaxis": {
             "endlinecolor": "#2a3f5f",
             "gridcolor": "white",
             "linecolor": "white",
             "minorgridcolor": "white",
             "startlinecolor": "#2a3f5f"
            },
            "baxis": {
             "endlinecolor": "#2a3f5f",
             "gridcolor": "white",
             "linecolor": "white",
             "minorgridcolor": "white",
             "startlinecolor": "#2a3f5f"
            },
            "type": "carpet"
           }
          ],
          "choropleth": [
           {
            "colorbar": {
             "outlinewidth": 0,
             "ticks": ""
            },
            "type": "choropleth"
           }
          ],
          "contour": [
           {
            "colorbar": {
             "outlinewidth": 0,
             "ticks": ""
            },
            "colorscale": [
             [
              0,
              "#0d0887"
             ],
             [
              0.1111111111111111,
              "#46039f"
             ],
             [
              0.2222222222222222,
              "#7201a8"
             ],
             [
              0.3333333333333333,
              "#9c179e"
             ],
             [
              0.4444444444444444,
              "#bd3786"
             ],
             [
              0.5555555555555556,
              "#d8576b"
             ],
             [
              0.6666666666666666,
              "#ed7953"
             ],
             [
              0.7777777777777778,
              "#fb9f3a"
             ],
             [
              0.8888888888888888,
              "#fdca26"
             ],
             [
              1,
              "#f0f921"
             ]
            ],
            "type": "contour"
           }
          ],
          "contourcarpet": [
           {
            "colorbar": {
             "outlinewidth": 0,
             "ticks": ""
            },
            "type": "contourcarpet"
           }
          ],
          "heatmap": [
           {
            "colorbar": {
             "outlinewidth": 0,
             "ticks": ""
            },
            "colorscale": [
             [
              0,
              "#0d0887"
             ],
             [
              0.1111111111111111,
              "#46039f"
             ],
             [
              0.2222222222222222,
              "#7201a8"
             ],
             [
              0.3333333333333333,
              "#9c179e"
             ],
             [
              0.4444444444444444,
              "#bd3786"
             ],
             [
              0.5555555555555556,
              "#d8576b"
             ],
             [
              0.6666666666666666,
              "#ed7953"
             ],
             [
              0.7777777777777778,
              "#fb9f3a"
             ],
             [
              0.8888888888888888,
              "#fdca26"
             ],
             [
              1,
              "#f0f921"
             ]
            ],
            "type": "heatmap"
           }
          ],
          "heatmapgl": [
           {
            "colorbar": {
             "outlinewidth": 0,
             "ticks": ""
            },
            "colorscale": [
             [
              0,
              "#0d0887"
             ],
             [
              0.1111111111111111,
              "#46039f"
             ],
             [
              0.2222222222222222,
              "#7201a8"
             ],
             [
              0.3333333333333333,
              "#9c179e"
             ],
             [
              0.4444444444444444,
              "#bd3786"
             ],
             [
              0.5555555555555556,
              "#d8576b"
             ],
             [
              0.6666666666666666,
              "#ed7953"
             ],
             [
              0.7777777777777778,
              "#fb9f3a"
             ],
             [
              0.8888888888888888,
              "#fdca26"
             ],
             [
              1,
              "#f0f921"
             ]
            ],
            "type": "heatmapgl"
           }
          ],
          "histogram": [
           {
            "marker": {
             "colorbar": {
              "outlinewidth": 0,
              "ticks": ""
             }
            },
            "type": "histogram"
           }
          ],
          "histogram2d": [
           {
            "colorbar": {
             "outlinewidth": 0,
             "ticks": ""
            },
            "colorscale": [
             [
              0,
              "#0d0887"
             ],
             [
              0.1111111111111111,
              "#46039f"
             ],
             [
              0.2222222222222222,
              "#7201a8"
             ],
             [
              0.3333333333333333,
              "#9c179e"
             ],
             [
              0.4444444444444444,
              "#bd3786"
             ],
             [
              0.5555555555555556,
              "#d8576b"
             ],
             [
              0.6666666666666666,
              "#ed7953"
             ],
             [
              0.7777777777777778,
              "#fb9f3a"
             ],
             [
              0.8888888888888888,
              "#fdca26"
             ],
             [
              1,
              "#f0f921"
             ]
            ],
            "type": "histogram2d"
           }
          ],
          "histogram2dcontour": [
           {
            "colorbar": {
             "outlinewidth": 0,
             "ticks": ""
            },
            "colorscale": [
             [
              0,
              "#0d0887"
             ],
             [
              0.1111111111111111,
              "#46039f"
             ],
             [
              0.2222222222222222,
              "#7201a8"
             ],
             [
              0.3333333333333333,
              "#9c179e"
             ],
             [
              0.4444444444444444,
              "#bd3786"
             ],
             [
              0.5555555555555556,
              "#d8576b"
             ],
             [
              0.6666666666666666,
              "#ed7953"
             ],
             [
              0.7777777777777778,
              "#fb9f3a"
             ],
             [
              0.8888888888888888,
              "#fdca26"
             ],
             [
              1,
              "#f0f921"
             ]
            ],
            "type": "histogram2dcontour"
           }
          ],
          "mesh3d": [
           {
            "colorbar": {
             "outlinewidth": 0,
             "ticks": ""
            },
            "type": "mesh3d"
           }
          ],
          "parcoords": [
           {
            "line": {
             "colorbar": {
              "outlinewidth": 0,
              "ticks": ""
             }
            },
            "type": "parcoords"
           }
          ],
          "pie": [
           {
            "automargin": true,
            "type": "pie"
           }
          ],
          "scatter": [
           {
            "marker": {
             "colorbar": {
              "outlinewidth": 0,
              "ticks": ""
             }
            },
            "type": "scatter"
           }
          ],
          "scatter3d": [
           {
            "line": {
             "colorbar": {
              "outlinewidth": 0,
              "ticks": ""
             }
            },
            "marker": {
             "colorbar": {
              "outlinewidth": 0,
              "ticks": ""
             }
            },
            "type": "scatter3d"
           }
          ],
          "scattercarpet": [
           {
            "marker": {
             "colorbar": {
              "outlinewidth": 0,
              "ticks": ""
             }
            },
            "type": "scattercarpet"
           }
          ],
          "scattergeo": [
           {
            "marker": {
             "colorbar": {
              "outlinewidth": 0,
              "ticks": ""
             }
            },
            "type": "scattergeo"
           }
          ],
          "scattergl": [
           {
            "marker": {
             "colorbar": {
              "outlinewidth": 0,
              "ticks": ""
             }
            },
            "type": "scattergl"
           }
          ],
          "scattermapbox": [
           {
            "marker": {
             "colorbar": {
              "outlinewidth": 0,
              "ticks": ""
             }
            },
            "type": "scattermapbox"
           }
          ],
          "scatterpolar": [
           {
            "marker": {
             "colorbar": {
              "outlinewidth": 0,
              "ticks": ""
             }
            },
            "type": "scatterpolar"
           }
          ],
          "scatterpolargl": [
           {
            "marker": {
             "colorbar": {
              "outlinewidth": 0,
              "ticks": ""
             }
            },
            "type": "scatterpolargl"
           }
          ],
          "scatterternary": [
           {
            "marker": {
             "colorbar": {
              "outlinewidth": 0,
              "ticks": ""
             }
            },
            "type": "scatterternary"
           }
          ],
          "surface": [
           {
            "colorbar": {
             "outlinewidth": 0,
             "ticks": ""
            },
            "colorscale": [
             [
              0,
              "#0d0887"
             ],
             [
              0.1111111111111111,
              "#46039f"
             ],
             [
              0.2222222222222222,
              "#7201a8"
             ],
             [
              0.3333333333333333,
              "#9c179e"
             ],
             [
              0.4444444444444444,
              "#bd3786"
             ],
             [
              0.5555555555555556,
              "#d8576b"
             ],
             [
              0.6666666666666666,
              "#ed7953"
             ],
             [
              0.7777777777777778,
              "#fb9f3a"
             ],
             [
              0.8888888888888888,
              "#fdca26"
             ],
             [
              1,
              "#f0f921"
             ]
            ],
            "type": "surface"
           }
          ],
          "table": [
           {
            "cells": {
             "fill": {
              "color": "#EBF0F8"
             },
             "line": {
              "color": "white"
             }
            },
            "header": {
             "fill": {
              "color": "#C8D4E3"
             },
             "line": {
              "color": "white"
             }
            },
            "type": "table"
           }
          ]
         },
         "layout": {
          "annotationdefaults": {
           "arrowcolor": "#2a3f5f",
           "arrowhead": 0,
           "arrowwidth": 1
          },
          "coloraxis": {
           "colorbar": {
            "outlinewidth": 0,
            "ticks": ""
           }
          },
          "colorscale": {
           "diverging": [
            [
             0,
             "#8e0152"
            ],
            [
             0.1,
             "#c51b7d"
            ],
            [
             0.2,
             "#de77ae"
            ],
            [
             0.3,
             "#f1b6da"
            ],
            [
             0.4,
             "#fde0ef"
            ],
            [
             0.5,
             "#f7f7f7"
            ],
            [
             0.6,
             "#e6f5d0"
            ],
            [
             0.7,
             "#b8e186"
            ],
            [
             0.8,
             "#7fbc41"
            ],
            [
             0.9,
             "#4d9221"
            ],
            [
             1,
             "#276419"
            ]
           ],
           "sequential": [
            [
             0,
             "#0d0887"
            ],
            [
             0.1111111111111111,
             "#46039f"
            ],
            [
             0.2222222222222222,
             "#7201a8"
            ],
            [
             0.3333333333333333,
             "#9c179e"
            ],
            [
             0.4444444444444444,
             "#bd3786"
            ],
            [
             0.5555555555555556,
             "#d8576b"
            ],
            [
             0.6666666666666666,
             "#ed7953"
            ],
            [
             0.7777777777777778,
             "#fb9f3a"
            ],
            [
             0.8888888888888888,
             "#fdca26"
            ],
            [
             1,
             "#f0f921"
            ]
           ],
           "sequentialminus": [
            [
             0,
             "#0d0887"
            ],
            [
             0.1111111111111111,
             "#46039f"
            ],
            [
             0.2222222222222222,
             "#7201a8"
            ],
            [
             0.3333333333333333,
             "#9c179e"
            ],
            [
             0.4444444444444444,
             "#bd3786"
            ],
            [
             0.5555555555555556,
             "#d8576b"
            ],
            [
             0.6666666666666666,
             "#ed7953"
            ],
            [
             0.7777777777777778,
             "#fb9f3a"
            ],
            [
             0.8888888888888888,
             "#fdca26"
            ],
            [
             1,
             "#f0f921"
            ]
           ]
          },
          "colorway": [
           "#636efa",
           "#EF553B",
           "#00cc96",
           "#ab63fa",
           "#FFA15A",
           "#19d3f3",
           "#FF6692",
           "#B6E880",
           "#FF97FF",
           "#FECB52"
          ],
          "font": {
           "color": "#2a3f5f"
          },
          "geo": {
           "bgcolor": "white",
           "lakecolor": "white",
           "landcolor": "#E5ECF6",
           "showlakes": true,
           "showland": true,
           "subunitcolor": "white"
          },
          "hoverlabel": {
           "align": "left"
          },
          "hovermode": "closest",
          "mapbox": {
           "style": "light"
          },
          "paper_bgcolor": "white",
          "plot_bgcolor": "#E5ECF6",
          "polar": {
           "angularaxis": {
            "gridcolor": "white",
            "linecolor": "white",
            "ticks": ""
           },
           "bgcolor": "#E5ECF6",
           "radialaxis": {
            "gridcolor": "white",
            "linecolor": "white",
            "ticks": ""
           }
          },
          "scene": {
           "xaxis": {
            "backgroundcolor": "#E5ECF6",
            "gridcolor": "white",
            "gridwidth": 2,
            "linecolor": "white",
            "showbackground": true,
            "ticks": "",
            "zerolinecolor": "white"
           },
           "yaxis": {
            "backgroundcolor": "#E5ECF6",
            "gridcolor": "white",
            "gridwidth": 2,
            "linecolor": "white",
            "showbackground": true,
            "ticks": "",
            "zerolinecolor": "white"
           },
           "zaxis": {
            "backgroundcolor": "#E5ECF6",
            "gridcolor": "white",
            "gridwidth": 2,
            "linecolor": "white",
            "showbackground": true,
            "ticks": "",
            "zerolinecolor": "white"
           }
          },
          "shapedefaults": {
           "line": {
            "color": "#2a3f5f"
           }
          },
          "ternary": {
           "aaxis": {
            "gridcolor": "white",
            "linecolor": "white",
            "ticks": ""
           },
           "baxis": {
            "gridcolor": "white",
            "linecolor": "white",
            "ticks": ""
           },
           "bgcolor": "#E5ECF6",
           "caxis": {
            "gridcolor": "white",
            "linecolor": "white",
            "ticks": ""
           }
          },
          "title": {
           "x": 0.05
          },
          "xaxis": {
           "automargin": true,
           "gridcolor": "white",
           "linecolor": "white",
           "ticks": "",
           "title": {
            "standoff": 15
           },
           "zerolinecolor": "white",
           "zerolinewidth": 2
          },
          "yaxis": {
           "automargin": true,
           "gridcolor": "white",
           "linecolor": "white",
           "ticks": "",
           "title": {
            "standoff": 15
           },
           "zerolinecolor": "white",
           "zerolinewidth": 2
          }
         }
        },
        "title": {
         "text": "Sequence plot for A0A024R161:"
        },
        "xaxis": {
         "range": [
          -10,
          180
         ],
         "tickangle": 0,
         "tickmode": "array",
         "ticktext": [
          "M",
          "G",
          "A",
          "P",
          "E",
          "P",
          "T",
          "I",
          "D",
          "E",
          "R",
          "P",
          "L",
          "L",
          "S",
          "P",
          "G",
          "W",
          "G",
          "A",
          "G",
          "A",
          "A",
          "G",
          "R",
          "R",
          "W",
          "W",
          "M",
          "L",
          "L",
          "A",
          "P",
          "L",
          "L",
          "P",
          "A",
          "L",
          "L",
          "L",
          "V",
          "R",
          "P",
          "A",
          "G",
          "A",
          "L",
          "V",
          "E",
          "G",
          "L",
          "Y",
          "C",
          "G",
          "T",
          "R",
          "D",
          "C",
          "Y",
          "E",
          "V",
          "L",
          "G",
          "V",
          "S",
          "R",
          "S",
          "A",
          "G",
          "K",
          "A",
          "E",
          "I",
          "A",
          "R",
          "A",
          "Y",
          "R",
          "Q",
          "L",
          "A",
          "R",
          "R",
          "Y",
          "H",
          "P",
          "D",
          "R",
          "Y",
          "R",
          "P",
          "Q",
          "P",
          "G",
          "D",
          "S",
          "E",
          "Q",
          "U",
          "E",
          "N",
          "C",
          "E",
          "R",
          "E",
          "G",
          "P",
          "G",
          "R",
          "T",
          "P",
          "Q",
          "S",
          "A",
          "E",
          "E",
          "A",
          "F",
          "L",
          "L",
          "V",
          "A",
          "T",
          "A",
          "Y",
          "E",
          "T",
          "L",
          "K",
          "V",
          "S",
          "Q",
          "A",
          "A",
          "A",
          "E",
          "L",
          "Q",
          "Q",
          "Y",
          "C",
          "M",
          "Q",
          "N",
          "A",
          "C",
          "K",
          "D",
          "A",
          "L",
          "L",
          "V",
          "G",
          "V",
          "P",
          "A",
          "G",
          "S",
          "N",
          "P",
          "F",
          "R",
          "E",
          "P",
          "R",
          "S",
          "C",
          "A",
          "L",
          "L"
         ],
         "tickvals": [
          0,
          1,
          2,
          3,
          4,
          5,
          6,
          7,
          8,
          9,
          10,
          11,
          12,
          13,
          14,
          15,
          16,
          17,
          18,
          19,
          20,
          21,
          22,
          23,
          24,
          25,
          26,
          27,
          28,
          29,
          30,
          31,
          32,
          33,
          34,
          35,
          36,
          37,
          38,
          39,
          40,
          41,
          42,
          43,
          44,
          45,
          46,
          47,
          48,
          49,
          50,
          51,
          52,
          53,
          54,
          55,
          56,
          57,
          58,
          59,
          60,
          61,
          62,
          63,
          64,
          65,
          66,
          67,
          68,
          69,
          70,
          71,
          72,
          73,
          74,
          75,
          76,
          77,
          78,
          79,
          80,
          81,
          82,
          83,
          84,
          85,
          86,
          87,
          88,
          89,
          90,
          91,
          92,
          93,
          94,
          95,
          96,
          97,
          98,
          99,
          100,
          101,
          102,
          103,
          104,
          105,
          106,
          107,
          108,
          109,
          110,
          111,
          112,
          113,
          114,
          115,
          116,
          117,
          118,
          119,
          120,
          121,
          122,
          123,
          124,
          125,
          126,
          127,
          128,
          129,
          130,
          131,
          132,
          133,
          134,
          135,
          136,
          137,
          138,
          139,
          140,
          141,
          142,
          143,
          144,
          145,
          146,
          147,
          148,
          149,
          150,
          151,
          152,
          153,
          154,
          155,
          156,
          157,
          158,
          159,
          160,
          161,
          162,
          163,
          164,
          165,
          166,
          167,
          168,
          169
         ],
         "title": {
          "text": "protein sequence"
         }
        },
        "yaxis": {
         "automargin": true,
         "range": [
          0,
          7
         ],
         "showticklabels": true,
         "tickmode": "array",
         "ticktext": [
          "proteome 1",
          "proteome 2",
          "proteome 3",
          "Chain",
          "Signal peptide",
          "Domain"
         ],
         "tickvals": [
          1,
          2,
          3,
          4,
          5,
          6
         ],
         "title": {
          "text": ""
         }
        }
       }
      },
      "text/html": [
       "<div>                            <div id=\"eaf36dc1-7086-4850-81bb-d34a5d98324c\" class=\"plotly-graph-div\" style=\"height:525px; width:100%;\"></div>            <script type=\"text/javascript\">                require([\"plotly\"], function(Plotly) {                    window.PLOTLYENV=window.PLOTLYENV || {};                                    if (document.getElementById(\"eaf36dc1-7086-4850-81bb-d34a5d98324c\")) {                    Plotly.newPlot(                        \"eaf36dc1-7086-4850-81bb-d34a5d98324c\",                        [{\"hovertemplate\": \"Peptide: %{meta}<br>Protein IDs: %{text}\", \"marker\": {\"color\": [\"#023e8a\", \"#023e8a\", \"#023e8a\", \"#023e8a\", \"#023e8a\", \"#023e8a\", \"#023e8a\", \"#023e8a\", \"#023e8a\", \"#023e8a\", \"#023e8a\", \"#023e8a\", \"#023e8a\", \"#023e8a\", \"#023e8a\", \"#023e8a\", \"#023e8a\"], \"line\": {\"color\": [\"#023e8a\", \"#023e8a\", \"#023e8a\", \"#023e8a\", \"#023e8a\", \"#023e8a\", \"#023e8a\", \"#023e8a\", \"#023e8a\", \"#023e8a\", \"#023e8a\", \"#023e8a\", \"#023e8a\", \"#023e8a\", \"#023e8a\", \"#023e8a\", \"#023e8a\"]}, \"opacity\": 1, \"size\": [6.0, 8.0, 8.0, 8.0, 8.0, 8.0, 8.0, 6.0, 6.0, 8.0, 8.0, 8.0, 8.0, 8.0, 8.0, 8.0, 6.0], \"symbol\": [7.0, 1.0, 1.0, 1.0, 1.0, 1.0, 1.0, 8.0, 7.0, 1.0, 1.0, 1.0, 1.0, 1.0, 1.0, 1.0, 8.0]}, \"meta\": [\"PEPT[Phospho (STY)]IDER\", \"PEPT[Phospho (STY)]IDER\", \"PEPT[Phospho (STY)]IDER\", \"PEPT[Phospho (STY)]IDER\", \"PEPT[Phospho (STY)]IDER\", \"PEPT[Phospho (STY)]IDER\", \"PEPT[Phospho (STY)]IDER\", \"PEPT[Phospho (STY)]IDER\", \"SEQ[GlyGly (K)]UENCE[GlyGly (K)]R\", \"SEQ[GlyGly (K)]UENCE[GlyGly (K)]R\", \"SEQ[GlyGly (K)]UENCE[GlyGly (K)]R\", \"SEQ[GlyGly (K)]UENCE[GlyGly (K)]R\", \"SEQ[GlyGly (K)]UENCE[GlyGly (K)]R\", \"SEQ[GlyGly (K)]UENCE[GlyGly (K)]R\", \"SEQ[GlyGly (K)]UENCE[GlyGly (K)]R\", \"SEQ[GlyGly (K)]UENCE[GlyGly (K)]R\", \"SEQ[GlyGly (K)]UENCE[GlyGly (K)]R\"], \"mode\": \"markers\", \"name\": \"\", \"showlegend\": false, \"text\": [\"A0A024R161;A0A087WT10;A0A087WTH1\", \"A0A024R161;A0A087WT10;A0A087WTH1\", \"A0A024R161;A0A087WT10;A0A087WTH1\", \"A0A024R161;A0A087WT10;A0A087WTH1\", \"A0A024R161;A0A087WT10;A0A087WTH1\", \"A0A024R161;A0A087WT10;A0A087WTH1\", \"A0A024R161;A0A087WT10;A0A087WTH1\", \"A0A024R161;A0A087WT10;A0A087WTH1\", \"A0A024R161;A0A087WT10\", \"A0A024R161;A0A087WT10\", \"A0A024R161;A0A087WT10\", \"A0A024R161;A0A087WT10\", \"A0A024R161;A0A087WT10\", \"A0A024R161;A0A087WT10\", \"A0A024R161;A0A087WT10\", \"A0A024R161;A0A087WT10\", \"A0A024R161;A0A087WT10\"], \"type\": \"scatter\", \"x\": [3, 4, 5, 6, 7, 8, 9, 10, 95, 96, 97, 98, 99, 100, 101, 102, 103], \"xaxis\": \"x\", \"y\": [1, 1, 1, 1, 1, 1, 1, 1, 1, 1, 1, 1, 1, 1, 1, 1, 1, 1, 1, 1, 1, 1, 1, 1, 1, 1, 1, 1, 1, 1, 1, 1, 1, 1, 1, 1, 1, 1, 1, 1, 1, 1, 1, 1, 1, 1, 1, 1, 1, 1, 1, 1, 1, 1, 1, 1, 1, 1, 1, 1, 1, 1, 1, 1, 1, 1, 1, 1, 1, 1, 1, 1, 1, 1, 1, 1, 1, 1, 1, 1, 1, 1, 1, 1, 1, 1, 1, 1, 1, 1, 1, 1, 1, 1, 1, 1, 1, 1, 1, 1, 1, 1, 1, 1, 1, 1, 1, 1, 1, 1, 1, 1, 1, 1, 1, 1, 1, 1, 1, 1, 1, 1, 1, 1, 1, 1, 1, 1, 1, 1, 1, 1, 1, 1, 1, 1, 1, 1, 1, 1, 1, 1, 1, 1, 1, 1, 1, 1, 1, 1, 1, 1, 1, 1, 1, 1, 1, 1, 1, 1, 1, 1, 1, 1, 1, 1, 1, 1, 1, 1]}, {\"hoverinfo\": \"text\", \"hovertext\": [\"[Phospho (STY)]\", \"[GlyGly (K)]\", \"[GlyGly (K)]\"], \"marker\": {\"color\": [\"#023e8a\", \"#023e8a\", \"#023e8a\"], \"line\": {\"color\": [\"#023e8a\", \"#023e8a\", \"#023e8a\"]}, \"opacity\": 1, \"size\": 8, \"symbol\": [0.0, 2.0, 2.0]}, \"mode\": \"markers\", \"name\": \"\", \"showlegend\": false, \"type\": \"scatter\", \"x\": [6, 97, 102], \"xaxis\": \"x\", \"y\": [1.3, 1.3, 1.3]}, {\"hovertemplate\": \"Peptide: %{meta}<br>Protein IDs: %{text}\", \"marker\": {\"color\": [\"#0096c7\", \"#0096c7\", \"#0096c7\", \"#0096c7\", \"#0096c7\", \"#0096c7\", \"#0096c7\", \"#0096c7\", \"#0096c7\", \"#0096c7\", \"#0096c7\", \"#0096c7\", \"#0096c7\", \"#0096c7\", \"#0096c7\", \"#0096c7\", \"#0096c7\"], \"line\": {\"color\": [\"#0096c7\", \"#0096c7\", \"#0096c7\", \"#0096c7\", \"#0096c7\", \"#0096c7\", \"#0096c7\", \"#0096c7\", \"#0096c7\", \"#0096c7\", \"#0096c7\", \"#0096c7\", \"#0096c7\", \"#0096c7\", \"#0096c7\", \"#0096c7\", \"#0096c7\"]}, \"opacity\": 1, \"size\": [6.0, 8.0, 8.0, 8.0, 8.0, 8.0, 8.0, 6.0, 6.0, 8.0, 8.0, 8.0, 8.0, 8.0, 8.0, 8.0, 6.0], \"symbol\": [7.0, 1.0, 1.0, 1.0, 1.0, 1.0, 1.0, 8.0, 7.0, 1.0, 1.0, 1.0, 1.0, 1.0, 1.0, 1.0, 8.0]}, \"meta\": [\"PEPT[Phospho (STY)]IDER\", \"PEPT[Phospho (STY)]IDER\", \"PEPT[Phospho (STY)]IDER\", \"PEPT[Phospho (STY)]IDER\", \"PEPT[Phospho (STY)]IDER\", \"PEPT[Phospho (STY)]IDER\", \"PEPT[Phospho (STY)]IDER\", \"PEPT[Phospho (STY)]IDER\", \"SEQ[GlyGly (K)]UENCE[GlyGly (K)]R\", \"SEQ[GlyGly (K)]UENCE[GlyGly (K)]R\", \"SEQ[GlyGly (K)]UENCE[GlyGly (K)]R\", \"SEQ[GlyGly (K)]UENCE[GlyGly (K)]R\", \"SEQ[GlyGly (K)]UENCE[GlyGly (K)]R\", \"SEQ[GlyGly (K)]UENCE[GlyGly (K)]R\", \"SEQ[GlyGly (K)]UENCE[GlyGly (K)]R\", \"SEQ[GlyGly (K)]UENCE[GlyGly (K)]R\", \"SEQ[GlyGly (K)]UENCE[GlyGly (K)]R\"], \"mode\": \"markers\", \"name\": \"\", \"showlegend\": false, \"text\": [\"A0A024R161;A0A087WT10;A0A087WTH1\", \"A0A024R161;A0A087WT10;A0A087WTH1\", \"A0A024R161;A0A087WT10;A0A087WTH1\", \"A0A024R161;A0A087WT10;A0A087WTH1\", \"A0A024R161;A0A087WT10;A0A087WTH1\", \"A0A024R161;A0A087WT10;A0A087WTH1\", \"A0A024R161;A0A087WT10;A0A087WTH1\", \"A0A024R161;A0A087WT10;A0A087WTH1\", \"A0A024R161;A0A087WT10\", \"A0A024R161;A0A087WT10\", \"A0A024R161;A0A087WT10\", \"A0A024R161;A0A087WT10\", \"A0A024R161;A0A087WT10\", \"A0A024R161;A0A087WT10\", \"A0A024R161;A0A087WT10\", \"A0A024R161;A0A087WT10\", \"A0A024R161;A0A087WT10\"], \"type\": \"scatter\", \"x\": [3, 4, 5, 6, 7, 8, 9, 10, 95, 96, 97, 98, 99, 100, 101, 102, 103], \"xaxis\": \"x\", \"y\": [2, 2, 2, 2, 2, 2, 2, 2, 2, 2, 2, 2, 2, 2, 2, 2, 2, 2, 2, 2, 2, 2, 2, 2, 2, 2, 2, 2, 2, 2, 2, 2, 2, 2, 2, 2, 2, 2, 2, 2, 2, 2, 2, 2, 2, 2, 2, 2, 2, 2, 2, 2, 2, 2, 2, 2, 2, 2, 2, 2, 2, 2, 2, 2, 2, 2, 2, 2, 2, 2, 2, 2, 2, 2, 2, 2, 2, 2, 2, 2, 2, 2, 2, 2, 2, 2, 2, 2, 2, 2, 2, 2, 2, 2, 2, 2, 2, 2, 2, 2, 2, 2, 2, 2, 2, 2, 2, 2, 2, 2, 2, 2, 2, 2, 2, 2, 2, 2, 2, 2, 2, 2, 2, 2, 2, 2, 2, 2, 2, 2, 2, 2, 2, 2, 2, 2, 2, 2, 2, 2, 2, 2, 2, 2, 2, 2, 2, 2, 2, 2, 2, 2, 2, 2, 2, 2, 2, 2, 2, 2, 2, 2, 2, 2, 2, 2, 2, 2, 2, 2]}, {\"hoverinfo\": \"text\", \"hovertext\": [\"[Phospho (STY)]\", \"[GlyGly (K)]\", \"[GlyGly (K)]\"], \"marker\": {\"color\": [\"#0096c7\", \"#0096c7\", \"#0096c7\"], \"line\": {\"color\": [\"#0096c7\", \"#0096c7\", \"#0096c7\"]}, \"opacity\": 1, \"size\": 8, \"symbol\": [0.0, 2.0, 2.0]}, \"mode\": \"markers\", \"name\": \"\", \"showlegend\": false, \"type\": \"scatter\", \"x\": [6, 97, 102], \"xaxis\": \"x\", \"y\": [2.3, 2.3, 2.3]}, {\"hovertemplate\": \"Peptide: %{meta}<br>Protein IDs: %{text}\", \"marker\": {\"color\": [\"#90e0ef\", \"#90e0ef\", \"#90e0ef\", \"#90e0ef\", \"#90e0ef\", \"#90e0ef\", \"#90e0ef\", \"#90e0ef\", \"#90e0ef\", \"#90e0ef\", \"#90e0ef\", \"#90e0ef\", \"#90e0ef\", \"#90e0ef\", \"#90e0ef\", \"#90e0ef\", \"#90e0ef\"], \"line\": {\"color\": [\"#90e0ef\", \"#90e0ef\", \"#90e0ef\", \"#90e0ef\", \"#90e0ef\", \"#90e0ef\", \"#90e0ef\", \"#90e0ef\", \"#90e0ef\", \"#90e0ef\", \"#90e0ef\", \"#90e0ef\", \"#90e0ef\", \"#90e0ef\", \"#90e0ef\", \"#90e0ef\", \"#90e0ef\"]}, \"opacity\": 1, \"size\": [6.0, 8.0, 8.0, 8.0, 8.0, 8.0, 8.0, 6.0, 6.0, 8.0, 8.0, 8.0, 8.0, 8.0, 8.0, 8.0, 6.0], \"symbol\": [7.0, 1.0, 1.0, 1.0, 1.0, 1.0, 1.0, 8.0, 7.0, 1.0, 1.0, 1.0, 1.0, 1.0, 1.0, 1.0, 8.0]}, \"meta\": [\"PEPT[Phospho (STY)]IDER\", \"PEPT[Phospho (STY)]IDER\", \"PEPT[Phospho (STY)]IDER\", \"PEPT[Phospho (STY)]IDER\", \"PEPT[Phospho (STY)]IDER\", \"PEPT[Phospho (STY)]IDER\", \"PEPT[Phospho (STY)]IDER\", \"PEPT[Phospho (STY)]IDER\", \"SEQ[GlyGly (K)]UENCE[GlyGly (K)]R\", \"SEQ[GlyGly (K)]UENCE[GlyGly (K)]R\", \"SEQ[GlyGly (K)]UENCE[GlyGly (K)]R\", \"SEQ[GlyGly (K)]UENCE[GlyGly (K)]R\", \"SEQ[GlyGly (K)]UENCE[GlyGly (K)]R\", \"SEQ[GlyGly (K)]UENCE[GlyGly (K)]R\", \"SEQ[GlyGly (K)]UENCE[GlyGly (K)]R\", \"SEQ[GlyGly (K)]UENCE[GlyGly (K)]R\", \"SEQ[GlyGly (K)]UENCE[GlyGly (K)]R\"], \"mode\": \"markers\", \"name\": \"\", \"showlegend\": false, \"text\": [\"A0A024R161;A0A087WT10;A0A087WTH1\", \"A0A024R161;A0A087WT10;A0A087WTH1\", \"A0A024R161;A0A087WT10;A0A087WTH1\", \"A0A024R161;A0A087WT10;A0A087WTH1\", \"A0A024R161;A0A087WT10;A0A087WTH1\", \"A0A024R161;A0A087WT10;A0A087WTH1\", \"A0A024R161;A0A087WT10;A0A087WTH1\", \"A0A024R161;A0A087WT10;A0A087WTH1\", \"A0A024R161;A0A087WT10\", \"A0A024R161;A0A087WT10\", \"A0A024R161;A0A087WT10\", \"A0A024R161;A0A087WT10\", \"A0A024R161;A0A087WT10\", \"A0A024R161;A0A087WT10\", \"A0A024R161;A0A087WT10\", \"A0A024R161;A0A087WT10\", \"A0A024R161;A0A087WT10\"], \"type\": \"scatter\", \"x\": [3, 4, 5, 6, 7, 8, 9, 10, 95, 96, 97, 98, 99, 100, 101, 102, 103], \"xaxis\": \"x\", \"y\": [3, 3, 3, 3, 3, 3, 3, 3, 3, 3, 3, 3, 3, 3, 3, 3, 3, 3, 3, 3, 3, 3, 3, 3, 3, 3, 3, 3, 3, 3, 3, 3, 3, 3, 3, 3, 3, 3, 3, 3, 3, 3, 3, 3, 3, 3, 3, 3, 3, 3, 3, 3, 3, 3, 3, 3, 3, 3, 3, 3, 3, 3, 3, 3, 3, 3, 3, 3, 3, 3, 3, 3, 3, 3, 3, 3, 3, 3, 3, 3, 3, 3, 3, 3, 3, 3, 3, 3, 3, 3, 3, 3, 3, 3, 3, 3, 3, 3, 3, 3, 3, 3, 3, 3, 3, 3, 3, 3, 3, 3, 3, 3, 3, 3, 3, 3, 3, 3, 3, 3, 3, 3, 3, 3, 3, 3, 3, 3, 3, 3, 3, 3, 3, 3, 3, 3, 3, 3, 3, 3, 3, 3, 3, 3, 3, 3, 3, 3, 3, 3, 3, 3, 3, 3, 3, 3, 3, 3, 3, 3, 3, 3, 3, 3, 3, 3, 3, 3, 3, 3]}, {\"hoverinfo\": \"text\", \"hovertext\": [\"[Phospho (STY)]\", \"[GlyGly (K)]\", \"[GlyGly (K)]\"], \"marker\": {\"color\": [\"#90e0ef\", \"#90e0ef\", \"#90e0ef\"], \"line\": {\"color\": [\"#90e0ef\", \"#90e0ef\", \"#90e0ef\"]}, \"opacity\": 1, \"size\": 8, \"symbol\": [0.0, 2.0, 2.0]}, \"mode\": \"markers\", \"name\": \"\", \"showlegend\": false, \"type\": \"scatter\", \"x\": [6, 97, 102], \"xaxis\": \"x\", \"y\": [3.3, 3.3, 3.3]}, {\"marker\": {\"color\": \"black\", \"symbol\": 2}, \"mode\": \"markers\", \"name\": \"[GlyGly (K)]\", \"showlegend\": true, \"type\": \"scatter\", \"y\": [null]}, {\"marker\": {\"color\": \"black\", \"symbol\": 0}, \"mode\": \"markers\", \"name\": \"[Phospho (STY)]\", \"showlegend\": true, \"type\": \"scatter\", \"y\": [null]}, {\"base\": [3.9, 3.9, 3.9, 3.9, 3.9, 3.9, 3.9, 3.9, 3.9, 3.9, 3.9, 3.9, 3.9, 3.9, 3.9, 3.9, 3.9, 3.9, 3.9, 3.9, 3.9, 3.9, 3.9, 3.9, 3.9, 3.9, 3.9, 3.9, 3.9, 3.9, 3.9, 3.9, 3.9, 3.9, 3.9, 3.9, 3.9, 3.9, 3.9, 3.9, 3.9, 3.9, 3.9, 3.9, 3.9, 3.9, 3.9, 3.9, 3.9, 3.9, 3.9, 3.9, 3.9, 3.9, 3.9, 3.9, 3.9, 3.9, 3.9, 3.9, 3.9, 3.9, 3.9, 3.9, 3.9, 3.9, 3.9, 3.9, 3.9, 3.9, 3.9, 3.9, 3.9, 3.9, 3.9, 3.9, 3.9, 3.9, 3.9, 3.9, 3.9, 3.9, 3.9, 3.9, 3.9, 3.9, 3.9, 3.9, 3.9, 3.9, 3.9, 3.9, 3.9, 3.9, 3.9, 3.9, 3.9, 3.9, 3.9, 3.9, 3.9, 3.9, 3.9, 3.9, 3.9, 3.9, 3.9, 3.9, 3.9, 3.9, 3.9, 3.9, 3.9, 3.9], \"hoverinfo\": \"text\", \"hovertext\": \"Guanine nucleotide-binding protein subunit gamma\", \"marker\": {\"color\": \"#004b23\"}, \"name\": \"\", \"opacity\": 0.8, \"showlegend\": false, \"type\": \"bar\", \"x\": [38, 39, 40, 41, 42, 43, 44, 45, 46, 47, 48, 49, 50, 51, 52, 53, 54, 55, 56, 57, 58, 59, 60, 61, 62, 63, 64, 65, 66, 67, 68, 69, 70, 71, 72, 73, 74, 75, 76, 77, 78, 79, 80, 81, 82, 83, 84, 85, 86, 87, 88, 89, 90, 91, 92, 93, 94, 95, 96, 97, 98, 99, 100, 101, 102, 103, 104, 105, 106, 107, 108, 109, 110, 111, 112, 113, 114, 115, 116, 117, 118, 119, 120, 121, 122, 123, 124, 125, 126, 127, 128, 129, 130, 131, 132, 133, 134, 135, 136, 137, 138, 139, 140, 141, 142, 143, 144, 145, 146, 147, 148, 149, 150, 151], \"y\": [0.2, 0.2, 0.2, 0.2, 0.2, 0.2, 0.2, 0.2, 0.2, 0.2, 0.2, 0.2, 0.2, 0.2, 0.2, 0.2, 0.2, 0.2, 0.2, 0.2, 0.2, 0.2, 0.2, 0.2, 0.2, 0.2, 0.2, 0.2, 0.2, 0.2, 0.2, 0.2, 0.2, 0.2, 0.2, 0.2, 0.2, 0.2, 0.2, 0.2, 0.2, 0.2, 0.2, 0.2, 0.2, 0.2, 0.2, 0.2, 0.2, 0.2, 0.2, 0.2, 0.2, 0.2, 0.2, 0.2, 0.2, 0.2, 0.2, 0.2, 0.2, 0.2, 0.2, 0.2, 0.2, 0.2, 0.2, 0.2, 0.2, 0.2, 0.2, 0.2, 0.2, 0.2, 0.2, 0.2, 0.2, 0.2, 0.2, 0.2, 0.2, 0.2, 0.2, 0.2, 0.2, 0.2, 0.2, 0.2, 0.2, 0.2, 0.2, 0.2, 0.2, 0.2, 0.2, 0.2, 0.2, 0.2, 0.2, 0.2, 0.2, 0.2, 0.2, 0.2, 0.2, 0.2, 0.2, 0.2, 0.2, 0.2, 0.2, 0.2, 0.2, 0.2]}, {\"base\": [4.9, 4.9, 4.9, 4.9, 4.9, 4.9, 4.9, 4.9, 4.9, 4.9, 4.9, 4.9, 4.9, 4.9, 4.9, 4.9, 4.9, 4.9, 4.9, 4.9, 4.9, 4.9, 4.9, 4.9, 4.9, 4.9, 4.9, 4.9, 4.9, 4.9, 4.9, 4.9, 4.9, 4.9, 4.9, 4.9, 4.9], \"hoverinfo\": \"text\", \"hovertext\": \"nan\", \"marker\": {\"color\": \"#38b000\"}, \"name\": \"\", \"opacity\": 0.8, \"showlegend\": false, \"type\": \"bar\", \"x\": [0, 1, 2, 3, 4, 5, 6, 7, 8, 9, 10, 11, 12, 13, 14, 15, 16, 17, 18, 19, 20, 21, 22, 23, 24, 25, 26, 27, 28, 29, 30, 31, 32, 33, 34, 35, 36], \"y\": [0.2, 0.2, 0.2, 0.2, 0.2, 0.2, 0.2, 0.2, 0.2, 0.2, 0.2, 0.2, 0.2, 0.2, 0.2, 0.2, 0.2, 0.2, 0.2, 0.2, 0.2, 0.2, 0.2, 0.2, 0.2, 0.2, 0.2, 0.2, 0.2, 0.2, 0.2, 0.2, 0.2, 0.2, 0.2, 0.2, 0.2]}, {\"base\": [5.9, 5.9, 5.9, 5.9, 5.9, 5.9, 5.9, 5.9, 5.9, 5.9, 5.9, 5.9, 5.9, 5.9, 5.9, 5.9, 5.9, 5.9, 5.9, 5.9, 5.9, 5.9, 5.9, 5.9, 5.9, 5.9, 5.9, 5.9, 5.9, 5.9, 5.9, 5.9, 5.9, 5.9, 5.9, 5.9, 5.9, 5.9, 5.9, 5.9, 5.9, 5.9, 5.9, 5.9, 5.9, 5.9, 5.9, 5.9, 5.9, 5.9, 5.9, 5.9, 5.9, 5.9, 5.9, 5.9, 5.9, 5.9, 5.9, 5.9, 5.9, 5.9, 5.9, 5.9, 5.9, 5.9, 5.9, 5.9, 5.9, 5.9, 5.9, 5.9, 5.9, 5.9, 5.9], \"hoverinfo\": \"text\", \"hovertext\": \"J\", \"marker\": {\"color\": \"#8240c9\"}, \"name\": \"\", \"opacity\": 0.8, \"showlegend\": false, \"type\": \"bar\", \"x\": [48, 49, 50, 51, 52, 53, 54, 55, 56, 57, 58, 59, 60, 61, 62, 63, 64, 65, 66, 67, 68, 69, 70, 71, 72, 73, 74, 75, 76, 77, 78, 79, 80, 81, 82, 83, 84, 85, 86, 87, 88, 89, 90, 91, 92, 93, 94, 95, 96, 97, 98, 99, 100, 101, 102, 103, 104, 105, 106, 107, 108, 109, 110, 111, 112, 113, 114, 115, 116, 117, 118, 119, 120, 121, 122], \"y\": [0.2, 0.2, 0.2, 0.2, 0.2, 0.2, 0.2, 0.2, 0.2, 0.2, 0.2, 0.2, 0.2, 0.2, 0.2, 0.2, 0.2, 0.2, 0.2, 0.2, 0.2, 0.2, 0.2, 0.2, 0.2, 0.2, 0.2, 0.2, 0.2, 0.2, 0.2, 0.2, 0.2, 0.2, 0.2, 0.2, 0.2, 0.2, 0.2, 0.2, 0.2, 0.2, 0.2, 0.2, 0.2, 0.2, 0.2, 0.2, 0.2, 0.2, 0.2, 0.2, 0.2, 0.2, 0.2, 0.2, 0.2, 0.2, 0.2, 0.2, 0.2, 0.2, 0.2, 0.2, 0.2, 0.2, 0.2, 0.2, 0.2, 0.2, 0.2, 0.2, 0.2, 0.2, 0.2]}, {\"base\": [5.9, 5.9, 5.9, 5.9, 5.9, 5.9, 5.9, 5.9, 5.9, 5.9, 5.9, 5.9, 5.9, 5.9, 5.9, 5.9, 5.9, 5.9, 5.9, 5.9, 5.9, 5.9, 5.9, 5.9, 5.9, 5.9, 5.9, 5.9, 5.9, 5.9, 5.9, 5.9, 5.9, 5.9, 5.9, 5.9, 5.9, 5.9, 5.9, 5.9, 5.9, 5.9, 5.9, 5.9, 5.9, 5.9, 5.9, 5.9, 5.9, 5.9, 5.9], \"hoverinfo\": \"text\", \"hovertext\": \"G protein gamma\", \"marker\": {\"color\": \"#8240c9\"}, \"name\": \"\", \"opacity\": 0.8, \"showlegend\": false, \"type\": \"bar\", \"x\": [101, 102, 103, 104, 105, 106, 107, 108, 109, 110, 111, 112, 113, 114, 115, 116, 117, 118, 119, 120, 121, 122, 123, 124, 125, 126, 127, 128, 129, 130, 131, 132, 133, 134, 135, 136, 137, 138, 139, 140, 141, 142, 143, 144, 145, 146, 147, 148, 149, 150, 151], \"y\": [0.2, 0.2, 0.2, 0.2, 0.2, 0.2, 0.2, 0.2, 0.2, 0.2, 0.2, 0.2, 0.2, 0.2, 0.2, 0.2, 0.2, 0.2, 0.2, 0.2, 0.2, 0.2, 0.2, 0.2, 0.2, 0.2, 0.2, 0.2, 0.2, 0.2, 0.2, 0.2, 0.2, 0.2, 0.2, 0.2, 0.2, 0.2, 0.2, 0.2, 0.2, 0.2, 0.2, 0.2, 0.2, 0.2, 0.2, 0.2, 0.2, 0.2, 0.2]}],                        {\"bargap\": 0, \"barmode\": \"stack\", \"hoverdistance\": 1, \"hovermode\": \"x unified\", \"plot_bgcolor\": \"rgba(0,0,0,0)\", \"shapes\": [{\"line\": {\"color\": \"#023e8a\", \"width\": 1}, \"type\": \"line\", \"x0\": 6, \"x1\": 6, \"y0\": 1, \"y1\": 1.3}, {\"line\": {\"color\": \"#023e8a\", \"width\": 1}, \"type\": \"line\", \"x0\": 97, \"x1\": 97, \"y0\": 1, \"y1\": 1.3}, {\"line\": {\"color\": \"#023e8a\", \"width\": 1}, \"type\": \"line\", \"x0\": 102, \"x1\": 102, \"y0\": 1, \"y1\": 1.3}, {\"line\": {\"color\": \"#023e8a\", \"width\": 1}, \"type\": \"line\", \"x0\": 6, \"x1\": 6, \"y0\": 1, \"y1\": 1.3}, {\"line\": {\"color\": \"#023e8a\", \"width\": 1}, \"type\": \"line\", \"x0\": 97, \"x1\": 97, \"y0\": 1, \"y1\": 1.3}, {\"line\": {\"color\": \"#023e8a\", \"width\": 1}, \"type\": \"line\", \"x0\": 102, \"x1\": 102, \"y0\": 1, \"y1\": 1.3}, {\"line\": {\"color\": \"#0096c7\", \"width\": 1}, \"type\": \"line\", \"x0\": 6, \"x1\": 6, \"y0\": 2, \"y1\": 2.3}, {\"line\": {\"color\": \"#0096c7\", \"width\": 1}, \"type\": \"line\", \"x0\": 97, \"x1\": 97, \"y0\": 2, \"y1\": 2.3}, {\"line\": {\"color\": \"#0096c7\", \"width\": 1}, \"type\": \"line\", \"x0\": 102, \"x1\": 102, \"y0\": 2, \"y1\": 2.3}, {\"line\": {\"color\": \"#90e0ef\", \"width\": 1}, \"type\": \"line\", \"x0\": 6, \"x1\": 6, \"y0\": 3, \"y1\": 3.3}, {\"line\": {\"color\": \"#90e0ef\", \"width\": 1}, \"type\": \"line\", \"x0\": 97, \"x1\": 97, \"y0\": 3, \"y1\": 3.3}, {\"line\": {\"color\": \"#90e0ef\", \"width\": 1}, \"type\": \"line\", \"x0\": 102, \"x1\": 102, \"y0\": 3, \"y1\": 3.3}], \"template\": {\"data\": {\"bar\": [{\"error_x\": {\"color\": \"#2a3f5f\"}, \"error_y\": {\"color\": \"#2a3f5f\"}, \"marker\": {\"line\": {\"color\": \"#E5ECF6\", \"width\": 0.5}}, \"type\": \"bar\"}], \"barpolar\": [{\"marker\": {\"line\": {\"color\": \"#E5ECF6\", \"width\": 0.5}}, \"type\": \"barpolar\"}], \"carpet\": [{\"aaxis\": {\"endlinecolor\": \"#2a3f5f\", \"gridcolor\": \"white\", \"linecolor\": \"white\", \"minorgridcolor\": \"white\", \"startlinecolor\": \"#2a3f5f\"}, \"baxis\": {\"endlinecolor\": \"#2a3f5f\", \"gridcolor\": \"white\", \"linecolor\": \"white\", \"minorgridcolor\": \"white\", \"startlinecolor\": \"#2a3f5f\"}, \"type\": \"carpet\"}], \"choropleth\": [{\"colorbar\": {\"outlinewidth\": 0, \"ticks\": \"\"}, \"type\": \"choropleth\"}], \"contour\": [{\"colorbar\": {\"outlinewidth\": 0, \"ticks\": \"\"}, \"colorscale\": [[0.0, \"#0d0887\"], [0.1111111111111111, \"#46039f\"], [0.2222222222222222, \"#7201a8\"], [0.3333333333333333, \"#9c179e\"], [0.4444444444444444, \"#bd3786\"], [0.5555555555555556, \"#d8576b\"], [0.6666666666666666, \"#ed7953\"], [0.7777777777777778, \"#fb9f3a\"], [0.8888888888888888, \"#fdca26\"], [1.0, \"#f0f921\"]], \"type\": \"contour\"}], \"contourcarpet\": [{\"colorbar\": {\"outlinewidth\": 0, \"ticks\": \"\"}, \"type\": \"contourcarpet\"}], \"heatmap\": [{\"colorbar\": {\"outlinewidth\": 0, \"ticks\": \"\"}, \"colorscale\": [[0.0, \"#0d0887\"], [0.1111111111111111, \"#46039f\"], [0.2222222222222222, \"#7201a8\"], [0.3333333333333333, \"#9c179e\"], [0.4444444444444444, \"#bd3786\"], [0.5555555555555556, \"#d8576b\"], [0.6666666666666666, \"#ed7953\"], [0.7777777777777778, \"#fb9f3a\"], [0.8888888888888888, \"#fdca26\"], [1.0, \"#f0f921\"]], \"type\": \"heatmap\"}], \"heatmapgl\": [{\"colorbar\": {\"outlinewidth\": 0, \"ticks\": \"\"}, \"colorscale\": [[0.0, \"#0d0887\"], [0.1111111111111111, \"#46039f\"], [0.2222222222222222, \"#7201a8\"], [0.3333333333333333, \"#9c179e\"], [0.4444444444444444, \"#bd3786\"], [0.5555555555555556, \"#d8576b\"], [0.6666666666666666, \"#ed7953\"], [0.7777777777777778, \"#fb9f3a\"], [0.8888888888888888, \"#fdca26\"], [1.0, \"#f0f921\"]], \"type\": \"heatmapgl\"}], \"histogram\": [{\"marker\": {\"colorbar\": {\"outlinewidth\": 0, \"ticks\": \"\"}}, \"type\": \"histogram\"}], \"histogram2d\": [{\"colorbar\": {\"outlinewidth\": 0, \"ticks\": \"\"}, \"colorscale\": [[0.0, \"#0d0887\"], [0.1111111111111111, \"#46039f\"], [0.2222222222222222, \"#7201a8\"], [0.3333333333333333, \"#9c179e\"], [0.4444444444444444, \"#bd3786\"], [0.5555555555555556, \"#d8576b\"], [0.6666666666666666, \"#ed7953\"], [0.7777777777777778, \"#fb9f3a\"], [0.8888888888888888, \"#fdca26\"], [1.0, \"#f0f921\"]], \"type\": \"histogram2d\"}], \"histogram2dcontour\": [{\"colorbar\": {\"outlinewidth\": 0, \"ticks\": \"\"}, \"colorscale\": [[0.0, \"#0d0887\"], [0.1111111111111111, \"#46039f\"], [0.2222222222222222, \"#7201a8\"], [0.3333333333333333, \"#9c179e\"], [0.4444444444444444, \"#bd3786\"], [0.5555555555555556, \"#d8576b\"], [0.6666666666666666, \"#ed7953\"], [0.7777777777777778, \"#fb9f3a\"], [0.8888888888888888, \"#fdca26\"], [1.0, \"#f0f921\"]], \"type\": \"histogram2dcontour\"}], \"mesh3d\": [{\"colorbar\": {\"outlinewidth\": 0, \"ticks\": \"\"}, \"type\": \"mesh3d\"}], \"parcoords\": [{\"line\": {\"colorbar\": {\"outlinewidth\": 0, \"ticks\": \"\"}}, \"type\": \"parcoords\"}], \"pie\": [{\"automargin\": true, \"type\": \"pie\"}], \"scatter\": [{\"marker\": {\"colorbar\": {\"outlinewidth\": 0, \"ticks\": \"\"}}, \"type\": \"scatter\"}], \"scatter3d\": [{\"line\": {\"colorbar\": {\"outlinewidth\": 0, \"ticks\": \"\"}}, \"marker\": {\"colorbar\": {\"outlinewidth\": 0, \"ticks\": \"\"}}, \"type\": \"scatter3d\"}], \"scattercarpet\": [{\"marker\": {\"colorbar\": {\"outlinewidth\": 0, \"ticks\": \"\"}}, \"type\": \"scattercarpet\"}], \"scattergeo\": [{\"marker\": {\"colorbar\": {\"outlinewidth\": 0, \"ticks\": \"\"}}, \"type\": \"scattergeo\"}], \"scattergl\": [{\"marker\": {\"colorbar\": {\"outlinewidth\": 0, \"ticks\": \"\"}}, \"type\": \"scattergl\"}], \"scattermapbox\": [{\"marker\": {\"colorbar\": {\"outlinewidth\": 0, \"ticks\": \"\"}}, \"type\": \"scattermapbox\"}], \"scatterpolar\": [{\"marker\": {\"colorbar\": {\"outlinewidth\": 0, \"ticks\": \"\"}}, \"type\": \"scatterpolar\"}], \"scatterpolargl\": [{\"marker\": {\"colorbar\": {\"outlinewidth\": 0, \"ticks\": \"\"}}, \"type\": \"scatterpolargl\"}], \"scatterternary\": [{\"marker\": {\"colorbar\": {\"outlinewidth\": 0, \"ticks\": \"\"}}, \"type\": \"scatterternary\"}], \"surface\": [{\"colorbar\": {\"outlinewidth\": 0, \"ticks\": \"\"}, \"colorscale\": [[0.0, \"#0d0887\"], [0.1111111111111111, \"#46039f\"], [0.2222222222222222, \"#7201a8\"], [0.3333333333333333, \"#9c179e\"], [0.4444444444444444, \"#bd3786\"], [0.5555555555555556, \"#d8576b\"], [0.6666666666666666, \"#ed7953\"], [0.7777777777777778, \"#fb9f3a\"], [0.8888888888888888, \"#fdca26\"], [1.0, \"#f0f921\"]], \"type\": \"surface\"}], \"table\": [{\"cells\": {\"fill\": {\"color\": \"#EBF0F8\"}, \"line\": {\"color\": \"white\"}}, \"header\": {\"fill\": {\"color\": \"#C8D4E3\"}, \"line\": {\"color\": \"white\"}}, \"type\": \"table\"}]}, \"layout\": {\"annotationdefaults\": {\"arrowcolor\": \"#2a3f5f\", \"arrowhead\": 0, \"arrowwidth\": 1}, \"coloraxis\": {\"colorbar\": {\"outlinewidth\": 0, \"ticks\": \"\"}}, \"colorscale\": {\"diverging\": [[0, \"#8e0152\"], [0.1, \"#c51b7d\"], [0.2, \"#de77ae\"], [0.3, \"#f1b6da\"], [0.4, \"#fde0ef\"], [0.5, \"#f7f7f7\"], [0.6, \"#e6f5d0\"], [0.7, \"#b8e186\"], [0.8, \"#7fbc41\"], [0.9, \"#4d9221\"], [1, \"#276419\"]], \"sequential\": [[0.0, \"#0d0887\"], [0.1111111111111111, \"#46039f\"], [0.2222222222222222, \"#7201a8\"], [0.3333333333333333, \"#9c179e\"], [0.4444444444444444, \"#bd3786\"], [0.5555555555555556, \"#d8576b\"], [0.6666666666666666, \"#ed7953\"], [0.7777777777777778, \"#fb9f3a\"], [0.8888888888888888, \"#fdca26\"], [1.0, \"#f0f921\"]], \"sequentialminus\": [[0.0, \"#0d0887\"], [0.1111111111111111, \"#46039f\"], [0.2222222222222222, \"#7201a8\"], [0.3333333333333333, \"#9c179e\"], [0.4444444444444444, \"#bd3786\"], [0.5555555555555556, \"#d8576b\"], [0.6666666666666666, \"#ed7953\"], [0.7777777777777778, \"#fb9f3a\"], [0.8888888888888888, \"#fdca26\"], [1.0, \"#f0f921\"]]}, \"colorway\": [\"#636efa\", \"#EF553B\", \"#00cc96\", \"#ab63fa\", \"#FFA15A\", \"#19d3f3\", \"#FF6692\", \"#B6E880\", \"#FF97FF\", \"#FECB52\"], \"font\": {\"color\": \"#2a3f5f\"}, \"geo\": {\"bgcolor\": \"white\", \"lakecolor\": \"white\", \"landcolor\": \"#E5ECF6\", \"showlakes\": true, \"showland\": true, \"subunitcolor\": \"white\"}, \"hoverlabel\": {\"align\": \"left\"}, \"hovermode\": \"closest\", \"mapbox\": {\"style\": \"light\"}, \"paper_bgcolor\": \"white\", \"plot_bgcolor\": \"#E5ECF6\", \"polar\": {\"angularaxis\": {\"gridcolor\": \"white\", \"linecolor\": \"white\", \"ticks\": \"\"}, \"bgcolor\": \"#E5ECF6\", \"radialaxis\": {\"gridcolor\": \"white\", \"linecolor\": \"white\", \"ticks\": \"\"}}, \"scene\": {\"xaxis\": {\"backgroundcolor\": \"#E5ECF6\", \"gridcolor\": \"white\", \"gridwidth\": 2, \"linecolor\": \"white\", \"showbackground\": true, \"ticks\": \"\", \"zerolinecolor\": \"white\"}, \"yaxis\": {\"backgroundcolor\": \"#E5ECF6\", \"gridcolor\": \"white\", \"gridwidth\": 2, \"linecolor\": \"white\", \"showbackground\": true, \"ticks\": \"\", \"zerolinecolor\": \"white\"}, \"zaxis\": {\"backgroundcolor\": \"#E5ECF6\", \"gridcolor\": \"white\", \"gridwidth\": 2, \"linecolor\": \"white\", \"showbackground\": true, \"ticks\": \"\", \"zerolinecolor\": \"white\"}}, \"shapedefaults\": {\"line\": {\"color\": \"#2a3f5f\"}}, \"ternary\": {\"aaxis\": {\"gridcolor\": \"white\", \"linecolor\": \"white\", \"ticks\": \"\"}, \"baxis\": {\"gridcolor\": \"white\", \"linecolor\": \"white\", \"ticks\": \"\"}, \"bgcolor\": \"#E5ECF6\", \"caxis\": {\"gridcolor\": \"white\", \"linecolor\": \"white\", \"ticks\": \"\"}}, \"title\": {\"x\": 0.05}, \"xaxis\": {\"automargin\": true, \"gridcolor\": \"white\", \"linecolor\": \"white\", \"ticks\": \"\", \"title\": {\"standoff\": 15}, \"zerolinecolor\": \"white\", \"zerolinewidth\": 2}, \"yaxis\": {\"automargin\": true, \"gridcolor\": \"white\", \"linecolor\": \"white\", \"ticks\": \"\", \"title\": {\"standoff\": 15}, \"zerolinecolor\": \"white\", \"zerolinewidth\": 2}}}, \"title\": {\"text\": \"Sequence plot for A0A024R161:\"}, \"xaxis\": {\"range\": [-10, 180], \"tickangle\": 0, \"tickmode\": \"array\", \"ticktext\": [\"M\", \"G\", \"A\", \"P\", \"E\", \"P\", \"T\", \"I\", \"D\", \"E\", \"R\", \"P\", \"L\", \"L\", \"S\", \"P\", \"G\", \"W\", \"G\", \"A\", \"G\", \"A\", \"A\", \"G\", \"R\", \"R\", \"W\", \"W\", \"M\", \"L\", \"L\", \"A\", \"P\", \"L\", \"L\", \"P\", \"A\", \"L\", \"L\", \"L\", \"V\", \"R\", \"P\", \"A\", \"G\", \"A\", \"L\", \"V\", \"E\", \"G\", \"L\", \"Y\", \"C\", \"G\", \"T\", \"R\", \"D\", \"C\", \"Y\", \"E\", \"V\", \"L\", \"G\", \"V\", \"S\", \"R\", \"S\", \"A\", \"G\", \"K\", \"A\", \"E\", \"I\", \"A\", \"R\", \"A\", \"Y\", \"R\", \"Q\", \"L\", \"A\", \"R\", \"R\", \"Y\", \"H\", \"P\", \"D\", \"R\", \"Y\", \"R\", \"P\", \"Q\", \"P\", \"G\", \"D\", \"S\", \"E\", \"Q\", \"U\", \"E\", \"N\", \"C\", \"E\", \"R\", \"E\", \"G\", \"P\", \"G\", \"R\", \"T\", \"P\", \"Q\", \"S\", \"A\", \"E\", \"E\", \"A\", \"F\", \"L\", \"L\", \"V\", \"A\", \"T\", \"A\", \"Y\", \"E\", \"T\", \"L\", \"K\", \"V\", \"S\", \"Q\", \"A\", \"A\", \"A\", \"E\", \"L\", \"Q\", \"Q\", \"Y\", \"C\", \"M\", \"Q\", \"N\", \"A\", \"C\", \"K\", \"D\", \"A\", \"L\", \"L\", \"V\", \"G\", \"V\", \"P\", \"A\", \"G\", \"S\", \"N\", \"P\", \"F\", \"R\", \"E\", \"P\", \"R\", \"S\", \"C\", \"A\", \"L\", \"L\"], \"tickvals\": [0, 1, 2, 3, 4, 5, 6, 7, 8, 9, 10, 11, 12, 13, 14, 15, 16, 17, 18, 19, 20, 21, 22, 23, 24, 25, 26, 27, 28, 29, 30, 31, 32, 33, 34, 35, 36, 37, 38, 39, 40, 41, 42, 43, 44, 45, 46, 47, 48, 49, 50, 51, 52, 53, 54, 55, 56, 57, 58, 59, 60, 61, 62, 63, 64, 65, 66, 67, 68, 69, 70, 71, 72, 73, 74, 75, 76, 77, 78, 79, 80, 81, 82, 83, 84, 85, 86, 87, 88, 89, 90, 91, 92, 93, 94, 95, 96, 97, 98, 99, 100, 101, 102, 103, 104, 105, 106, 107, 108, 109, 110, 111, 112, 113, 114, 115, 116, 117, 118, 119, 120, 121, 122, 123, 124, 125, 126, 127, 128, 129, 130, 131, 132, 133, 134, 135, 136, 137, 138, 139, 140, 141, 142, 143, 144, 145, 146, 147, 148, 149, 150, 151, 152, 153, 154, 155, 156, 157, 158, 159, 160, 161, 162, 163, 164, 165, 166, 167, 168, 169], \"title\": {\"text\": \"protein sequence\"}}, \"yaxis\": {\"automargin\": true, \"range\": [0, 7], \"showticklabels\": true, \"tickmode\": \"array\", \"ticktext\": [\"proteome 1\", \"proteome 2\", \"proteome 3\", \"Chain\", \"Signal peptide\", \"Domain\"], \"tickvals\": [1, 2, 3, 4, 5, 6], \"title\": {\"text\": \"\"}}},                        {\"toImageButtonOptions\": {\"format\": \"svg\", \"filename\": \"custom_image\", \"height\": 500, \"width\": 1500, \"scale\": 1}, \"responsive\": true}                    ).then(function(){\n",
       "                            \n",
       "var gd = document.getElementById('eaf36dc1-7086-4850-81bb-d34a5d98324c');\n",
       "var x = new MutationObserver(function (mutations, observer) {{\n",
       "        var display = window.getComputedStyle(gd).display;\n",
       "        if (!display || display === 'none') {{\n",
       "            console.log([gd, 'removed!']);\n",
       "            Plotly.purge(gd);\n",
       "            observer.disconnect();\n",
       "        }}\n",
       "}});\n",
       "\n",
       "// Listen for the removal of the full notebook cells\n",
       "var notebookContainer = gd.closest('#notebook-container');\n",
       "if (notebookContainer) {{\n",
       "    x.observe(notebookContainer, {childList: true});\n",
       "}}\n",
       "\n",
       "// Listen for the clearing of the current output cell\n",
       "var outputEl = gd.closest('.output');\n",
       "if (outputEl) {{\n",
       "    x.observe(outputEl, {childList: true});\n",
       "}}\n",
       "\n",
       "                        })                };                });            </script>        </div>"
      ]
     },
     "metadata": {},
     "output_type": "display_data"
    }
   ],
   "source": [
    "#hide\n",
    "plot_peptide_traces([test_formatted_proteome_data,test_formatted_proteome_data,test_formatted_proteome_data],\n",
    "                  name = ['proteome 1','proteome 2','proteome 3'],\n",
    "                  protein = \"A0A024R161\",\n",
    "                  fasta = test_fasta,\n",
    "                    uniprot=uniprot_annotation,\n",
    "                   selected_features=all_annotatins,\n",
    "                    uniprot_feature_dict=uniprot_feature_dict,\n",
    "                    uniprot_color_dict=uniprot_color_dict)"
   ]
  },
  {
   "cell_type": "code",
   "execution_count": 17,
   "metadata": {},
   "outputs": [],
   "source": [
    "## Export notebook to script"
   ]
  },
  {
   "cell_type": "code",
   "execution_count": 18,
   "metadata": {},
   "outputs": [],
   "source": [
    "#hide\n",
    "from nbdev.showdoc import *"
   ]
  },
  {
   "cell_type": "code",
   "execution_count": 19,
   "metadata": {},
   "outputs": [
    {
     "name": "stdout",
     "output_type": "stream",
     "text": [
      "Converted Importing.ipynb.\n",
      "Converted Preprocessing.ipynb.\n",
      "Converted SequencePlot.ipynb.\n",
      "Converted Uniprot_integration.ipynb.\n",
      "Converted index.ipynb.\n"
     ]
    }
   ],
   "source": [
    "#hide\n",
    "from nbdev.export import *\n",
    "notebook2script()"
   ]
  },
  {
   "cell_type": "code",
   "execution_count": null,
   "metadata": {},
   "outputs": [],
   "source": []
  }
 ],
 "metadata": {
  "kernelspec": {
   "display_name": "Python [conda env:pepmap]",
   "language": "python",
   "name": "conda-env-pepmap-py"
  },
  "language_info": {
   "codemirror_mode": {
    "name": "ipython",
    "version": 3
   },
   "file_extension": ".py",
   "mimetype": "text/x-python",
   "name": "python",
   "nbconvert_exporter": "python",
   "pygments_lexer": "ipython3",
   "version": "3.7.9"
  }
 },
 "nbformat": 4,
 "nbformat_minor": 2
}
