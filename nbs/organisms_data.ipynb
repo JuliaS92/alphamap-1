{
 "cells": [
  {
   "cell_type": "code",
   "execution_count": null,
   "metadata": {},
   "outputs": [],
   "source": [
    "# default_exp organisms_data"
   ]
  },
  {
   "cell_type": "markdown",
   "metadata": {},
   "source": [
    "## Dictionary with data about all available organisms"
   ]
  },
  {
   "cell_type": "code",
   "execution_count": null,
   "metadata": {},
   "outputs": [],
   "source": [
    "#export\n",
    "all_organisms = {\n",
    "    'Human': {'fasta_name': 'human.fasta',\n",
    "               'uniprot_name': 'preprocessed_uniprot_human.csv'\n",
    "              }, \n",
    "    'Mouse': {'fasta_name': 'mouse.fasta',\n",
    "               'uniprot_name': 'preprocessed_uniprot_mouse.csv'\n",
    "              }, \n",
    "    'Rat': {'fasta_name': 'rat_[10116].fasta',\n",
    "               'uniprot_name': 'preprocessed_uniprot_rat.csv'\n",
    "              }, \n",
    "    'Cow': {'fasta_name': 'bovine_[9913].fasta',\n",
    "               'uniprot_name': 'preprocessed_uniprot_bovine.csv'\n",
    "              }, \n",
    "    'Zebrafish': {'fasta_name': 'zebrafish_[7955].fasta',\n",
    "               'uniprot_name': 'preprocessed_uniprot_zebrafish.csv'\n",
    "              }, \n",
    "    'Drosophila': {'fasta_name': 'drosophila_[7227].fasta',\n",
    "               'uniprot_name': 'preprocessed_uniprot_drosophila.csv'\n",
    "              }, \n",
    "    'Caenorhabditis elegans': {'fasta_name': 'celegans_[6239].fasta',\n",
    "               'uniprot_name': 'preprocessed_uniprot_human.csv'\n",
    "              }, \n",
    "    'Slime mold': {'fasta_name': 'slimemold_[44689].fasta',\n",
    "               'uniprot_name': 'preprocessed_uniprot_slimemold.csv'\n",
    "              }, \n",
    "    'Arabidopsis thaliana': {'fasta_name': 'arabidopsis_thaliana.fasta',\n",
    "               'uniprot_name': 'preprocessed_uniprot_arabidopsis.csv'\n",
    "              }, \n",
    "    'Rice': {'fasta_name': 'rice_[39947].fasta',\n",
    "               'uniprot_name': 'preprocessed_uniprot_rice.csv'\n",
    "              }, \n",
    "    'Escherichia coli': {'fasta_name': 'ecoli_[83333].fasta',\n",
    "               'uniprot_name': 'preprocessed_uniprot_ecoli.csv'\n",
    "              }, \n",
    "    'Bacillus subtilis': {'fasta_name': 'bsubtilis_[224308].fasta',\n",
    "               'uniprot_name': 'preprocessed_uniprot_bsubtilis.csv'\n",
    "              }, \n",
    "    'Saccharomyces cerevisiae': {'fasta_name': 'yeast_[559292].fasta',\n",
    "               'uniprot_name': 'preprocessed_uniprot_yeast.csv'\n",
    "              }\n",
    "}"
   ]
  },
  {
   "cell_type": "markdown",
   "metadata": {},
   "source": [
    "## Export notebook to script"
   ]
  },
  {
   "cell_type": "code",
   "execution_count": null,
   "metadata": {},
   "outputs": [],
   "source": [
    "#hide\n",
    "from nbdev.showdoc import *"
   ]
  },
  {
   "cell_type": "code",
   "execution_count": null,
   "metadata": {},
   "outputs": [
    {
     "name": "stdout",
     "output_type": "stream",
     "text": [
      "Converted Importing.ipynb.\n",
      "Converted Preprocessing.ipynb.\n",
      "Converted SequencePlot.ipynb.\n",
      "Converted Uniprot_integration.ipynb.\n",
      "Converted index.ipynb.\n",
      "Converted organisms_data.ipynb.\n",
      "Converted proteolytic_cleavage.ipynb.\n"
     ]
    }
   ],
   "source": [
    "#hide\n",
    "from nbdev.export import *\n",
    "notebook2script()"
   ]
  }
 ],
 "metadata": {
  "kernelspec": {
   "display_name": "Python [conda env:alphamap]",
   "language": "python",
   "name": "conda-env-alphamap-py"
  }
 },
 "nbformat": 4,
 "nbformat_minor": 4
}
