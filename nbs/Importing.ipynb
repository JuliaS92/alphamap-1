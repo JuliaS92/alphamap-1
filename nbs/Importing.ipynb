{
 "cells": [
  {
   "cell_type": "code",
   "execution_count": null,
   "metadata": {},
   "outputs": [],
   "source": [
    "# default_exp importing"
   ]
  },
  {
   "cell_type": "markdown",
   "metadata": {},
   "source": [
    "# This notebook provides a function to import peptide level data from Spectronaut or MaxQuant\n",
    "\n",
    "The preprocessed data is stored in a pandas dataframe with following columns:\n",
    "* all_protein_ids: all UniProt IDs the peptide map to separated by ';'\n",
    "* modified_sequence: the peptide sequence with all modifications included in square brackets\n",
    "* naked_sequence: the naked peptide sequence\n",
    "\n",
    "It is possible to further select one or more specific samples for import. A single sample can be provided as character string. Multiple samples can be provided as list of character strings. The raw MS filename should match corresponding entries in the \"R.FileName\" or \"Raw file\" column of the Spectronaut and MaxQuant analysis respectively."
   ]
  },
  {
   "cell_type": "markdown",
   "metadata": {},
   "source": [
    "## Import Spectronaut data"
   ]
  },
  {
   "cell_type": "code",
   "execution_count": null,
   "metadata": {},
   "outputs": [],
   "source": [
    "#export\n",
    "import pandas as pd\n",
    "import re\n",
    "\n",
    "def import_spectronaut_data(file, sample=None):\n",
    "    \"\"\"\n",
    "    Function to import peptide level data from Spectronaut returning a dataframe containing information about:\n",
    "        - all_protein_ids (str)\n",
    "        - modified_sequence (str)\n",
    "        - naked_sequence (str)\n",
    "    \"\"\"\n",
    "    spectronaut_columns = [\"PEP.AllOccurringProteinAccessions\",\"EG.ModifiedSequence\",\"R.FileName\"]\n",
    "    data = pd.read_csv(file, sep=None, engine='python', usecols=spectronaut_columns)\n",
    "    \n",
    "    if sample:\n",
    "        if isinstance(sample, list):\n",
    "            data_sub = data[data[\"R.FileName\"].isin(sample)]\n",
    "            data_sub = data_sub[[\"PEP.AllOccurringProteinAccessions\",\"EG.ModifiedSequence\"]]\n",
    "        elif isinstance(sample, str):\n",
    "            data_sub = data[data[\"R.FileName\"] == sample]\n",
    "            data_sub = data_sub[[\"PEP.AllOccurringProteinAccessions\",\"EG.ModifiedSequence\"]]\n",
    "    else:\n",
    "        data_sub = data[[\"PEP.AllOccurringProteinAccessions\",\"EG.ModifiedSequence\"]]\n",
    "\n",
    "    # get modified sequence\n",
    "    mod_seq = data_sub.apply(lambda row: re.sub('_','',row[\"EG.ModifiedSequence\"]), axis=1)\n",
    "    data_sub = data_sub.assign(modified_sequence=mod_seq.values)\n",
    "    # get naked sequence\n",
    "    nak_seq = data_sub.apply(lambda row: re.sub(r'\\[.*?\\]','',row[\"modified_sequence\"]), axis=1)\n",
    "    data_sub = data_sub.assign(naked_sequence=nak_seq.values)\n",
    "    data_sub = data_sub.rename(columns={\"PEP.AllOccurringProteinAccessions\": \"all_protein_ids\"})\n",
    "    input_data = data_sub[[\"all_protein_ids\",\"modified_sequence\",\"naked_sequence\"]]\n",
    "    input_data = input_data.dropna()\n",
    "    input_data = input_data.drop_duplicates().reset_index(drop=True)\n",
    "    return input_data"
   ]
  },
  {
   "cell_type": "code",
   "execution_count": null,
   "metadata": {},
   "outputs": [],
   "source": [
    "#hide\n",
    "\n",
    "def test_import_spectronaut_data():\n",
    "    # test entire input test data\n",
    "    data = import_spectronaut_data(\"../testdata/test_spectronaut_input.csv\")\n",
    "    #print(data.shape[0])\n",
    "    assert data.shape[0] == 40\n",
    "    data_t = import_spectronaut_data(\"../testdata/test_spectronaut_input.tsv\")\n",
    "    #print(data_t.shape[0])\n",
    "    pd.testing.assert_frame_equal(data, data_t)\n",
    "    test = pd.read_csv('../testdata/test_spectronaut_imported.csv', sep=',') \n",
    "    #print(test.shape[0])\n",
    "    pd.testing.assert_frame_equal(data, test)\n",
    "    \n",
    "    # test single sample\n",
    "    data = import_spectronaut_data(\"../testdata/test_spectronaut_input.csv\", \n",
    "                                   sample=\"raw_01\")\n",
    "    #print(data.shape[0])\n",
    "    assert data.shape[0] == 40\n",
    "    data = import_spectronaut_data(\"../testdata/test_spectronaut_input.csv\", \n",
    "                                   sample=\"raw_02\")\n",
    "    #print(data.shape[0])\n",
    "    assert data.shape[0] == 20\n",
    "    \n",
    "    # test multiple samples\n",
    "    data = import_spectronaut_data(\"../testdata/test_spectronaut_input.csv\", \n",
    "                                   sample=[\"raw_01\",\"raw_02\"])\n",
    "    #print(data.shape[0])\n",
    "    assert data.shape[0] == 40\n",
    "\n",
    "test_import_spectronaut_data()"
   ]
  },
  {
   "cell_type": "markdown",
   "metadata": {},
   "source": [
    "## Import MaxQuant data"
   ]
  },
  {
   "cell_type": "code",
   "execution_count": null,
   "metadata": {},
   "outputs": [],
   "source": [
    "#export\n",
    "import pandas as pd\n",
    "import re\n",
    "\n",
    "def import_maxquant_data(file, sample=None):\n",
    "    \"\"\"\n",
    "    Function to import peptide level data from MaxQuant returning a dataframe containing information about:\n",
    "        - all_protein_ids (str)\n",
    "        - modified_sequence (str)\n",
    "        - naked_sequence (str)\n",
    "    \"\"\"\n",
    "    mq_columns = [\"Proteins\",\"Modified sequence\",\"Raw file\"]\n",
    "    data = pd.read_csv(file, sep='\\t', usecols=mq_columns)\n",
    "    \n",
    "    if sample:\n",
    "        if isinstance(sample, list):\n",
    "            data_sub = data[data[\"Raw file\"].isin(sample)]\n",
    "            data_sub = data_sub[[\"Proteins\",\"Modified sequence\"]]\n",
    "        elif isinstance(sample, str):\n",
    "            data_sub = data[data[\"Raw file\"] == sample]\n",
    "            data_sub = data_sub[[\"Proteins\",\"Modified sequence\"]]\n",
    "    else:\n",
    "        data_sub = data[[\"Proteins\",\"Modified sequence\"]]\n",
    "    # get modified sequence\n",
    "    mod_seq = data_sub.apply(lambda row: re.sub('_','',row[\"Modified sequence\"]), axis=1)\n",
    "    data_sub = data_sub.assign(modified_sequence=mod_seq.values)\n",
    "    \n",
    "    # replace outer () with []\n",
    "    mod_seq_replaced = data_sub.apply(lambda row: re.sub(r'\\((.*?\\(.*?\\))\\)',r'[\\1]',row[\"modified_sequence\"]), axis=1)\n",
    "    data_sub = data_sub.assign(modified_sequence=mod_seq_replaced.values)\n",
    "    \n",
    "    # get naked sequence\n",
    "    nak_seq = data_sub.apply(lambda row: re.sub(r'\\[.*?\\]','',row[\"modified_sequence\"]), axis=1)\n",
    "    data_sub = data_sub.assign(naked_sequence=nak_seq.values)\n",
    "    data_sub = data_sub.rename(columns={\"Proteins\": \"all_protein_ids\"})\n",
    "    input_data = data_sub[[\"all_protein_ids\",\"modified_sequence\",\"naked_sequence\"]]\n",
    "    input_data = input_data.dropna() # remove missing values\n",
    "    input_data = input_data.drop_duplicates().reset_index(drop=True)\n",
    "    return input_data"
   ]
  },
  {
   "cell_type": "code",
   "execution_count": null,
   "metadata": {},
   "outputs": [],
   "source": [
    "#hide\n",
    "\n",
    "def test_import_maxquant_data():\n",
    "    data = import_maxquant_data(\"../testdata/test_maxquant_input.txt\")\n",
    "    test = pd.read_csv('../testdata/test_maxquant_imported.csv', sep=',') \n",
    "    pd.testing.assert_frame_equal(data, test)\n",
    "    \n",
    "    data_s = import_maxquant_data(\"../testdata/test_maxquant_input.txt\", \n",
    "                                  sample = \"raw_1\")\n",
    "    assert data_s.shape[0] == 85\n",
    "    \n",
    "    data_s = import_maxquant_data(\"../testdata/test_maxquant_input.txt\", \n",
    "                                  sample = \"raw_2\")\n",
    "    assert data_s.shape[0] == 77\n",
    "    \n",
    "    data_s = import_maxquant_data(\"../testdata/test_maxquant_input.txt\", \n",
    "                                  sample = [\"raw_1\", \"raw_2\"])\n",
    "    assert data_s.shape[0] == 136\n",
    "\n",
    "test_import_maxquant_data()"
   ]
  },
  {
   "cell_type": "markdown",
   "metadata": {},
   "source": [
    "## Aggregated import function"
   ]
  },
  {
   "cell_type": "code",
   "execution_count": null,
   "metadata": {},
   "outputs": [],
   "source": [
    "#export\n",
    "import pandas as pd\n",
    "import re\n",
    "from io import StringIO\n",
    "\n",
    "def import_data(file, sample=None, verbose=True, dashboard=False):\n",
    "    \"\"\"\n",
    "    Function to import peptide level data. Depending on available columns in the provided file, \n",
    "    the function calls import_maxquant_data or import_spectronaut_data, finally returning a \n",
    "    dataframe containing information about:\n",
    "        - all_protein_ids (str)\n",
    "        - modified_sequence (str)\n",
    "        - naked_sequence (str)\n",
    "    \"\"\"\n",
    "    if dashboard:\n",
    "        uploaded_data_columns = set(pd.read_csv(StringIO(str(file, \"utf-8\")), nrows=0, sep=None, engine='python').columns)\n",
    "        input_info = StringIO(str(file, \"utf-8\"))\n",
    "    else:\n",
    "        uploaded_data_columns = set(pd.read_csv(file, nrows=0, sep=None, engine='python').columns)\n",
    "        input_info = file\n",
    "    if set([\"Proteins\",\"Modified sequence\",\"Raw file\"]).issubset(uploaded_data_columns):\n",
    "        if verbose:\n",
    "            print(\"Import MaxQuant input\")\n",
    "        data = import_maxquant_data(input_info, sample=sample)\n",
    "    elif set([\"PEP.AllOccurringProteinAccessions\",\"EG.ModifiedSequence\",\"R.FileName\"]).issubset(uploaded_data_columns):\n",
    "        if verbose:\n",
    "            print(\"Import Spectronaut input\")\n",
    "        data = import_spectronaut_data(input_info, sample=sample)\n",
    "    else: \n",
    "        raise TypeError(f'Input data format for {file} not known.')\n",
    "    return data"
   ]
  },
  {
   "cell_type": "code",
   "execution_count": null,
   "metadata": {},
   "outputs": [],
   "source": [
    "#hide\n",
    "import sys\n",
    "\n",
    "def test_import_data():\n",
    "    data_MQ = import_data(\"../testdata/test_maxquant_input.txt\", verbose=False)\n",
    "    test = pd.read_csv('../testdata/test_maxquant_imported.csv', sep=',') \n",
    "    pd.testing.assert_frame_equal(data_MQ, test)\n",
    "    \n",
    "    data_S_csv = import_data(\"../testdata/test_spectronaut_input.csv\", verbose=False)\n",
    "    data_S_tsv = import_data(\"../testdata/test_spectronaut_input.tsv\", verbose=False)\n",
    "    pd.testing.assert_frame_equal(data_S_csv, data_S_tsv)\n",
    "    test = pd.read_csv('../testdata/test_spectronaut_imported.csv', sep=',') \n",
    "    pd.testing.assert_frame_equal(data_S_csv, test)\n",
    "    \n",
    "    data_S_sub = import_data(\"../testdata/test_spectronaut_input.csv\", \n",
    "                             sample = \"raw_01\", \n",
    "                             verbose=False)\n",
    "    assert data_S_sub.shape[0] == 40\n",
    "    \n",
    "    try:\n",
    "        out = import_data(\"../testdata/test_uniprot_df.csv\")\n",
    "    except TypeError as e:\n",
    "        out = e\n",
    "    assert str(out) == \"Input data format for ../testdata/test_uniprot_df.csv not known.\"    \n",
    "\n",
    "test_import_data()"
   ]
  },
  {
   "cell_type": "markdown",
   "metadata": {},
   "source": [
    "## Export notebook to script"
   ]
  },
  {
   "cell_type": "code",
   "execution_count": null,
   "metadata": {},
   "outputs": [],
   "source": [
    "#hide\n",
    "from nbdev.showdoc import *"
   ]
  },
  {
   "cell_type": "code",
   "execution_count": null,
   "metadata": {},
   "outputs": [
    {
     "name": "stdout",
     "output_type": "stream",
     "text": [
      "Converted Importing.ipynb.\n",
      "Converted Preprocessing.ipynb.\n",
      "Converted SequencePlot.ipynb.\n",
      "Converted Uniprot_integration.ipynb.\n",
      "Converted index.ipynb.\n",
      "Converted proteolytic_cleavage.ipynb.\n"
     ]
    }
   ],
   "source": [
    "#hide\n",
    "from nbdev.export import *\n",
    "notebook2script()"
   ]
  }
 ],
 "metadata": {
  "kernelspec": {
   "display_name": "Python [conda env:alphamap]",
   "language": "python",
   "name": "conda-env-alphamap-py"
  }
 },
 "nbformat": 4,
 "nbformat_minor": 2
}
