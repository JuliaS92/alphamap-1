{
 "cells": [
  {
   "cell_type": "code",
   "execution_count": null,
   "metadata": {},
   "outputs": [],
   "source": [
    "# default_exp importing"
   ]
  },
  {
   "cell_type": "markdown",
   "metadata": {},
   "source": [
    "# This notebook provides a function to import peptide level data from Spectronaut or MaxQuant\n",
    "\n",
    "The preprocessed data is stored in a pandas dataframe with following columns:\n",
    "* all_protein_ids: all UniProt IDs the peptide map to separated by ';'\n",
    "* modified_sequence: the peptide sequence with all modifications included in square brackets\n",
    "* naked_sequence: the naked peptide sequence"
   ]
  },
  {
   "cell_type": "markdown",
   "metadata": {},
   "source": [
    "## Import Spectronaut data"
   ]
  },
  {
   "cell_type": "code",
   "execution_count": null,
   "metadata": {},
   "outputs": [],
   "source": [
    "#export\n",
    "import pandas as pd\n",
    "import re\n",
    "\n",
    "def import_spectronaut_data(file, sample=None):\n",
    "    \"\"\"\n",
    "    Function to import peptide level data from Spectronaut\n",
    "    \"\"\"\n",
    "    data = pd.read_csv(file, sep=',') \n",
    "    if sample:\n",
    "        if isinstance(sample, list):\n",
    "            raise NotImplementedError(\"Import not available for sample lists at this moment.\")\n",
    "        elif isinstance(sample, str):\n",
    "            qval_col = sample + \".EG.Qvalue\"\n",
    "            data_sub = data[[\"PEP.AllOccurringProteinAccessions\",\"EG.ModifiedSequence\",qval_col]]\n",
    "            data_sub = data_sub[data_sub[qval_col] != 'Filtered']\n",
    "            data_sub = data_sub[[\"PEP.AllOccurringProteinAccessions\",\"EG.ModifiedSequence\"]]\n",
    "    else:\n",
    "        data_sub = data[[\"PEP.AllOccurringProteinAccessions\",\"EG.ModifiedSequence\"]]\n",
    "\n",
    "    # get modified sequence\n",
    "    mod_seq = data_sub.apply(lambda row: re.sub('_','',row[\"EG.ModifiedSequence\"]), axis=1)\n",
    "    data_sub = data_sub.assign(modified_sequence=mod_seq.values)\n",
    "    # get naked sequence\n",
    "    nak_seq = data_sub.apply(lambda row: re.sub(r'\\[.*?\\]','',row[\"modified_sequence\"]), axis=1)\n",
    "    data_sub = data_sub.assign(naked_sequence=nak_seq.values)\n",
    "    data_sub = data_sub.rename(columns={\"PEP.AllOccurringProteinAccessions\": \"all_protein_ids\"})\n",
    "    input_data = data_sub[[\"all_protein_ids\",\"modified_sequence\",\"naked_sequence\"]]\n",
    "    input_data = input_data.drop_duplicates().reset_index(drop=True)\n",
    "    return input_data"
   ]
  },
  {
   "cell_type": "code",
   "execution_count": null,
   "metadata": {},
   "outputs": [],
   "source": [
    "#hide\n",
    "\n",
    "def test_import_spectronaut_data():\n",
    "    # test entire input test data\n",
    "    data = import_spectronaut_data(\"../testdata/test_spectronaut_input.csv\")\n",
    "    test = pd.read_csv('../testdata/test_spectronaut_imported.csv', sep=',') \n",
    "    pd.testing.assert_frame_equal(data, test)\n",
    "    \n",
    "    # test single sample\n",
    "    data = import_spectronaut_data(\"../testdata/test_spectronaut_input.csv\", \n",
    "                                   sample=\"proteome_1.raw\")\n",
    "    assert data.shape[0] == 2\n",
    "    data = import_spectronaut_data(\"../testdata/test_spectronaut_input.csv\", \n",
    "                                   sample=\"proteome_14.raw\")\n",
    "    assert data.shape[0] == 3\n",
    "    \n",
    "    # test list of samples\n",
    "    try:\n",
    "        out = import_spectronaut_data(\"../testdata/test_spectronaut_input.csv\", \n",
    "                                      sample=[\"proteome_1.raw\",\"proteome_14.raw\"])\n",
    "    except NotImplementedError as e:\n",
    "        out = e\n",
    "    assert str(out) == \"Import not available for sample lists at this moment.\"\n",
    "\n",
    "test_import_spectronaut_data()"
   ]
  },
  {
   "cell_type": "markdown",
   "metadata": {},
   "source": [
    "## Import MaxQuant data"
   ]
  },
  {
   "cell_type": "code",
   "execution_count": null,
   "metadata": {},
   "outputs": [],
   "source": [
    "#export\n",
    "import pandas as pd\n",
    "import re\n",
    "\n",
    "def import_maxquant_data(file, sample=None):\n",
    "    \"\"\"\n",
    "    Function to import peptide level data from MaxQuant\n",
    "    \"\"\"\n",
    "    data = pd.read_csv(file, sep='\\t') \n",
    "    \n",
    "    if sample:\n",
    "        if isinstance(sample, list):\n",
    "            raise NotImplementedError(\"Import not available for sample lists at this moment.\")\n",
    "        elif isinstance(sample, str):\n",
    "            raise NotImplementedError(\"Import not available for single samples at this moment.\")\n",
    "            #data_sub = data[[\"Proteins\",\"Modified sequence\",\"Experiment\"]]\n",
    "            #data_sub = data_sub[data_sub[\"Experiment\"] == sample]\n",
    "            #data_sub = data_sub[[\"Proteins\",\"Modified sequence\"]]\n",
    "    else:\n",
    "        data_sub = data[[\"Proteins\",\"Modified sequence\"]]\n",
    "    \n",
    "    # get modified sequence\n",
    "    mod_seq = data_sub.apply(lambda row: re.sub('_','',row[\"Modified sequence\"]), axis=1)\n",
    "    data_sub = data_sub.assign(modified_sequence=mod_seq.values)\n",
    "    \n",
    "    # replace outer () with []\n",
    "    mod_seq_replaced = data_sub.apply(lambda row: re.sub(r'\\((.*?\\(.*?\\))\\)',r'[\\1]',row[\"modified_sequence\"]), axis=1)\n",
    "    data_sub = data_sub.assign(modified_sequence=mod_seq_replaced.values)\n",
    "    \n",
    "    # get naked sequence\n",
    "    nak_seq = data_sub.apply(lambda row: re.sub(r'\\[.*?\\]','',row[\"modified_sequence\"]), axis=1)\n",
    "    data_sub = data_sub.assign(naked_sequence=nak_seq.values)\n",
    "    data_sub = data_sub.rename(columns={\"Proteins\": \"all_protein_ids\"})\n",
    "    input_data = data_sub[[\"all_protein_ids\",\"modified_sequence\",\"naked_sequence\"]]\n",
    "    input_data = input_data.drop_duplicates().reset_index(drop=True)\n",
    "    return input_data"
   ]
  },
  {
   "cell_type": "code",
   "execution_count": null,
   "metadata": {},
   "outputs": [],
   "source": [
    "#hide\n",
    "\n",
    "def test_import_maxquant_data():\n",
    "    data = import_maxquant_data(\"../testdata/test_maxquant_input.txt\")\n",
    "    test = pd.read_csv('../testdata/test_maxquant_imported.csv', sep=',') \n",
    "    pd.testing.assert_frame_equal(data, test)\n",
    "\n",
    "test_import_maxquant_data()"
   ]
  },
  {
   "cell_type": "markdown",
   "metadata": {},
   "source": [
    "## Aggregated import function"
   ]
  },
  {
   "cell_type": "code",
   "execution_count": null,
   "metadata": {},
   "outputs": [],
   "source": [
    "#export\n",
    "import pandas as pd\n",
    "import re\n",
    "\n",
    "def import_data(file, sample = None, verbose=True):\n",
    "    tab_cols = pd.read_csv(file,index_col=0,nrows=0, sep='\\t').columns\n",
    "    csv_cols = pd.read_csv(file,index_col=0,nrows=0, sep=',').columns\n",
    "    if len(csv_cols) > len(tab_cols):\n",
    "        cols = csv_cols \n",
    "    else:\n",
    "        cols = tab_cols \n",
    "    if set([\"Proteins\",\"Modified sequence\"]).issubset(set(cols)):\n",
    "        if verbose:\n",
    "            print(\"Import MaxQuant input\")\n",
    "        data = import_maxquant_data(file)\n",
    "    elif set([\"PEP.AllOccurringProteinAccessions\",\"EG.ModifiedSequence\"]).issubset(set(cols)):\n",
    "        if verbose:\n",
    "            print(\"Import Spectronaut input\")\n",
    "        data = import_spectronaut_data(file, sample = sample)\n",
    "    else:\n",
    "        raise TypeError(f'Input data format for {file} not known.')\n",
    "    return data"
   ]
  },
  {
   "cell_type": "code",
   "execution_count": null,
   "metadata": {},
   "outputs": [],
   "source": [
    "#hide\n",
    "import sys\n",
    "\n",
    "def test_import_data():\n",
    "    data_MQ = import_data(\"../testdata/test_maxquant_input.txt\", verbose=False)\n",
    "    test = pd.read_csv('../testdata/test_maxquant_imported.csv', sep=',') \n",
    "    pd.testing.assert_frame_equal(data_MQ, test)\n",
    "    \n",
    "    data_S = import_data(\"../testdata/test_spectronaut_input.csv\", verbose=False)\n",
    "    test = pd.read_csv('../testdata/test_spectronaut_imported.csv', sep=',') \n",
    "    pd.testing.assert_frame_equal(data_S, test)\n",
    "    \n",
    "    data_S_sub = import_data(\"../testdata/test_spectronaut_input.csv\", \n",
    "                             sample = \"proteome_1.raw\", \n",
    "                             verbose=False)\n",
    "    assert data_S_sub.shape[0] == 2\n",
    "    \n",
    "    try:\n",
    "        out = import_data(\"../testdata/test_uniprot_df.csv\")\n",
    "    except TypeError as e:\n",
    "        out = e\n",
    "    assert str(out) == \"Input data format for ../testdata/test_uniprot_df.csv not known.\"\n",
    "    \n",
    "\n",
    "test_import_data()"
   ]
  },
  {
   "cell_type": "markdown",
   "metadata": {},
   "source": [
    "## Export notebook to script"
   ]
  },
  {
   "cell_type": "code",
   "execution_count": null,
   "metadata": {},
   "outputs": [],
   "source": [
    "#hide\n",
    "from nbdev.showdoc import *"
   ]
  },
  {
   "cell_type": "code",
   "execution_count": null,
   "metadata": {},
   "outputs": [
    {
     "name": "stdout",
     "output_type": "stream",
     "text": [
      "Converted Importing.ipynb.\n",
      "Converted Preprocessing.ipynb.\n",
      "Converted SequencePlot.ipynb.\n",
      "Converted Uniprot_integration.ipynb.\n",
      "Converted index.ipynb.\n"
     ]
    }
   ],
   "source": [
    "#hide\n",
    "from nbdev.export import *\n",
    "notebook2script()"
   ]
  },
  {
   "cell_type": "code",
   "execution_count": null,
   "metadata": {},
   "outputs": [],
   "source": []
  },
  {
   "cell_type": "code",
   "execution_count": null,
   "metadata": {},
   "outputs": [],
   "source": []
  }
 ],
 "metadata": {
  "kernelspec": {
   "display_name": "Python (alphapept)",
   "language": "python",
   "name": "alphapept"
  }
 },
 "nbformat": 4,
 "nbformat_minor": 2
}
