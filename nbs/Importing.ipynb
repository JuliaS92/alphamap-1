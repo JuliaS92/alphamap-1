{
 "cells": [
  {
   "cell_type": "code",
   "execution_count": 1,
   "metadata": {},
   "outputs": [],
   "source": [
    "# default_exp importing"
   ]
  },
  {
   "cell_type": "markdown",
   "metadata": {},
   "source": [
    "## Read input data for testing"
   ]
  },
  {
   "cell_type": "code",
   "execution_count": 2,
   "metadata": {},
   "outputs": [],
   "source": [
    "#hide\n",
    "#pd.read_csv(\"../testdata/proteome_to try.csv\", sep=',')\n",
    "#test_df.columns = [re.sub('^(.*_DIA_)(.*)','\\\\2',c) for c in test_df.columns]\n",
    "#test_df.columns = [re.sub('_20200819155832',\"\",c) for c in test_df.columns]\n",
    "#test_df.to_csv('../testdata/test_spectronaut_input.csv',index=False)\n",
    "\n",
    "#data = importSpectronautData(\"../testdata/test_spectronaut_input.csv\")\n",
    "#data.to_csv('../testdata/test_spectronaut_imported.csv',index=False)"
   ]
  },
  {
   "cell_type": "code",
   "execution_count": 3,
   "metadata": {},
   "outputs": [],
   "source": [
    "#export\n",
    "import pandas as pd\n",
    "import re\n",
    "\n",
    "def importSpectronautData(file):\n",
    "    data = pd.read_csv(file, sep=',') \n",
    "    data_sub = data[[\"PEP.AllOccurringProteinAccessions\",\"EG.ModifiedSequence\"]]\n",
    "    data_sub[\"modified_sequence\"] = data_sub.apply(lambda row: re.sub('_','',row[\"EG.ModifiedSequence\"]), axis=1)\n",
    "    data_sub[\"naked_sequence\"] = data_sub.apply(lambda row: re.sub(r'\\[.*?\\]','',row[\"modified_sequence\"]), axis=1)\n",
    "    data_sub = data_sub.rename(columns={\"PEP.AllOccurringProteinAccessions\": \"all_protein_ids\"})\n",
    "    input_data = data_sub[[\"all_protein_ids\",\"modified_sequence\",\"naked_sequence\"]]\n",
    "    input_data = input_data.drop_duplicates().reset_index(drop=True)\n",
    "    return input_data"
   ]
  },
  {
   "cell_type": "code",
   "execution_count": 4,
   "metadata": {},
   "outputs": [
    {
     "name": "stderr",
     "output_type": "stream",
     "text": [
      "/opt/anaconda3/envs/alphapept/lib/python3.7/site-packages/ipykernel_launcher.py:8: SettingWithCopyWarning: \n",
      "A value is trying to be set on a copy of a slice from a DataFrame.\n",
      "Try using .loc[row_indexer,col_indexer] = value instead\n",
      "\n",
      "See the caveats in the documentation: https://pandas.pydata.org/pandas-docs/stable/user_guide/indexing.html#returning-a-view-versus-a-copy\n",
      "  \n",
      "/opt/anaconda3/envs/alphapept/lib/python3.7/site-packages/ipykernel_launcher.py:9: SettingWithCopyWarning: \n",
      "A value is trying to be set on a copy of a slice from a DataFrame.\n",
      "Try using .loc[row_indexer,col_indexer] = value instead\n",
      "\n",
      "See the caveats in the documentation: https://pandas.pydata.org/pandas-docs/stable/user_guide/indexing.html#returning-a-view-versus-a-copy\n",
      "  if __name__ == '__main__':\n"
     ]
    }
   ],
   "source": [
    "#hide\n",
    "\n",
    "def test_importSpectronautData():\n",
    "    data = importSpectronautData(\"../testdata/test_spectronaut_input.csv\")\n",
    "    test = pd.read_csv('../testdata/test_spectronaut_imported.csv', sep=',') \n",
    "    pd.testing.assert_frame_equal(data, test)\n",
    "\n",
    "test_importSpectronautData()"
   ]
  },
  {
   "cell_type": "markdown",
   "metadata": {},
   "source": [
    "## Export notebook to script"
   ]
  },
  {
   "cell_type": "code",
   "execution_count": 5,
   "metadata": {},
   "outputs": [],
   "source": [
    "#hide\n",
    "from nbdev.showdoc import *"
   ]
  },
  {
   "cell_type": "code",
   "execution_count": 6,
   "metadata": {},
   "outputs": [
    {
     "name": "stdout",
     "output_type": "stream",
     "text": [
      "Converted Importing.ipynb.\n",
      "Converted Preprocessing.ipynb.\n",
      "Converted index.ipynb.\n"
     ]
    }
   ],
   "source": [
    "#hide\n",
    "from nbdev.export import *\n",
    "notebook2script()"
   ]
  },
  {
   "cell_type": "code",
   "execution_count": null,
   "metadata": {},
   "outputs": [],
   "source": []
  },
  {
   "cell_type": "code",
   "execution_count": null,
   "metadata": {},
   "outputs": [],
   "source": []
  }
 ],
 "metadata": {
  "kernelspec": {
   "display_name": "Python (alphapept)",
   "language": "python",
   "name": "alphapept"
  },
  "language_info": {
   "codemirror_mode": {
    "name": "ipython",
    "version": 3
   },
   "file_extension": ".py",
   "mimetype": "text/x-python",
   "name": "python",
   "nbconvert_exporter": "python",
   "pygments_lexer": "ipython3",
   "version": "3.7.7"
  }
 },
 "nbformat": 4,
 "nbformat_minor": 2
}
