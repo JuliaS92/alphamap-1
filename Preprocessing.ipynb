{
 "cells": [
  {
   "cell_type": "code",
   "execution_count": null,
   "metadata": {},
   "outputs": [],
   "source": [
    "# default_exp preprocessing"
   ]
  },
  {
   "cell_type": "code",
   "execution_count": null,
   "metadata": {},
   "outputs": [],
   "source": [
    "#hide\n",
    "import pandas as pd\n",
    "import numpy as np\n",
    "import re"
   ]
  },
  {
   "cell_type": "markdown",
   "metadata": {},
   "source": [
    "## Generate input data for testing"
   ]
  },
  {
   "cell_type": "code",
   "execution_count": null,
   "metadata": {},
   "outputs": [],
   "source": [
    "#hide\n",
    "\n",
    "test_df = pd.DataFrame(data={'all_protein_ids': [\"A0A024R161;A0A087WT10;A0A087WTH1\", \n",
    "                                                 \"A0A024R161;A0A087WT10\", \n",
    "                                                 \"A0A087WTH5\",\"A0A087WTH5\",\n",
    "                                                 \"Nonsense\"], \n",
    "                        'modified_sequence': [\"PEPT[Phospho (STY)]IDER\", \n",
    "                                              \"SEQ[GlyGly (K)]UENCE[GlyGly (K)]R\", \n",
    "                                              \"VIEWER\",\"NONSEQ\",\n",
    "                                              \"NONSENSE\"],\n",
    "                        'naked_sequence': [\"PEPTIDER\", \n",
    "                                           \"SEQUENCER\", \n",
    "                                           \"VIEWER\",\"NONSEQ\",\n",
    "                                           \"NONSENSE\"]})"
   ]
  },
  {
   "cell_type": "code",
   "execution_count": null,
   "metadata": {},
   "outputs": [],
   "source": [
    "#hide\n",
    "\n",
    "test_df_expanded = pd.DataFrame(data={'unique_protein_id': [\"A0A024R161\", \"A0A087WT10\", \"A0A087WTH1\", \n",
    "                                                            \"A0A024R161\", \"A0A087WT10\", \n",
    "                                                            \"A0A087WTH5\",\"A0A087WTH5\",\n",
    "                                                            \"Nonsense\"], \n",
    "                                      'modified_sequence': [\"PEPT[Phospho (STY)]IDER\", \"PEPT[Phospho (STY)]IDER\", \"PEPT[Phospho (STY)]IDER\",\n",
    "                                                            \"SEQ[GlyGly (K)]UENCE[GlyGly (K)]R\", \"SEQ[GlyGly (K)]UENCE[GlyGly (K)]R\", \n",
    "                                                            \"VIEWER\",\"NONSEQ\",\n",
    "                                                            \"NONSENSE\"],\n",
    "                                      'naked_sequence': [\"PEPTIDER\", \"PEPTIDER\", \"PEPTIDER\", \n",
    "                                                         \"SEQUENCER\", \"SEQUENCER\", \n",
    "                                                         \"VIEWER\",\"NONSEQ\",\n",
    "                                                         \"NONSENSE\"]})"
   ]
  },
  {
   "cell_type": "code",
   "execution_count": null,
   "metadata": {},
   "outputs": [],
   "source": [
    "#hide\n",
    "\n",
    "test_df_expanded_peptide_position = pd.DataFrame(data={'unique_protein_id': [\"A0A024R161\", \"A0A087WT10\", \"A0A087WTH1\", \n",
    "                                                                             \"A0A024R161\", \"A0A087WT10\", \n",
    "                                                                             \"A0A087WTH5\"], \n",
    "                                                       'modified_sequence': [\"PEPT[Phospho (STY)]IDER\", \"PEPT[Phospho (STY)]IDER\", \"PEPT[Phospho (STY)]IDER\",\n",
    "                                                                             \"SEQ[GlyGly (K)]UENCE[GlyGly (K)]R\", \"SEQ[GlyGly (K)]UENCE[GlyGly (K)]R\", \n",
    "                                                                             \"VIEWER\"],\n",
    "                                                       'naked_sequence': [\"PEPTIDER\", \"PEPTIDER\", \"PEPTIDER\", \n",
    "                                                                          \"SEQUENCER\", \"SEQUENCER\", \n",
    "                                                                          \"VIEWER\"],\n",
    "                                                       'start':[3,28,107,95,150,1],\n",
    "                                                       'end':[10,35,114,103,158,6]})"
   ]
  },
  {
   "cell_type": "code",
   "execution_count": null,
   "metadata": {},
   "outputs": [],
   "source": [
    "#hide\n",
    "\n",
    "test_df_modifications = pd.DataFrame(data={'unique_protein_id': [\"A0A024R161\", \"A0A087WT10\", \"A0A087WTH1\", \n",
    "                                                                             \"A0A024R161\", \"A0A087WT10\", \n",
    "                                                                             \"A0A087WTH5\"], \n",
    "                                                       'modified_sequence': [\"PEPT[Phospho (STY)]IDER\", \"PEPT[Phospho (STY)]IDER\", \"PEPT[Phospho (STY)]IDER\",\n",
    "                                                                             \"SEQ[GlyGly (K)]UENCE[GlyGly (K)]R\", \"SEQ[GlyGly (K)]UENCE[GlyGly (K)]R\", \n",
    "                                                                             \"VIEWER\"],\n",
    "                                                       'naked_sequence': [\"PEPTIDER\", \"PEPTIDER\", \"PEPTIDER\", \n",
    "                                                                          \"SEQUENCER\", \"SEQUENCER\", \n",
    "                                                                          \"VIEWER\"],\n",
    "                                                       'start':[3,28,107,95,150,1],\n",
    "                                                       'end':[10,35,114,103,158,6], \n",
    "                                           'PTMsites':[[3],[3],[3],[2,7],[2,7],[]],\n",
    "                                           'PTMtypes':[[\"[Phospho (STY)]\"],[\"[Phospho (STY)]\"],[\"[Phospho (STY)]\"],[\"[GlyGly (K)]\",\"[GlyGly (K)]\"],[\"[GlyGly (K)]\",\"[GlyGly (K)]\"],[]]})\n"
   ]
  },
  {
   "cell_type": "markdown",
   "metadata": {},
   "source": [
    "@ToDO: Maybe write .fasta import function to remove dependency for pyteomics"
   ]
  },
  {
   "cell_type": "code",
   "execution_count": null,
   "metadata": {},
   "outputs": [],
   "source": [
    "from pyteomics import fasta\n",
    "test_fasta = fasta.IndexedUniProt(\"testdata/test.fasta\")"
   ]
  },
  {
   "cell_type": "markdown",
   "metadata": {},
   "source": [
    "## Expand shared protein ids to unique"
   ]
  },
  {
   "cell_type": "code",
   "execution_count": null,
   "metadata": {},
   "outputs": [],
   "source": [
    "#hide \n",
    "\n",
    "def expandProteinIds(df):\n",
    "    df = df.copy(deep=True)\n",
    "    df.all_protein_ids = df.all_protein_ids.str.split(';')\n",
    "    res = pd.DataFrame([(d, tup.modified_sequence, tup.naked_sequence) for tup in df.itertuples() for d in tup.all_protein_ids])\n",
    "    res.columns = ['unique_protein_id','modified_sequence','naked_sequence']\n",
    "    return res\n",
    "\n",
    "def test_expandProteinIds():\n",
    "    res = expandProteinIds(test_df)\n",
    "    pd.testing.assert_frame_equal(res,test_df_expanded)\n",
    "    \n",
    "test_expandProteinIds()"
   ]
  },
  {
   "cell_type": "markdown",
   "metadata": {},
   "source": [
    "## Annotate peptides with start and end position"
   ]
  },
  {
   "cell_type": "code",
   "execution_count": null,
   "metadata": {},
   "outputs": [],
   "source": [
    "#hide \n",
    "\n",
    "def fastaError(prot,fasta):\n",
    "    try:\n",
    "        fasta[prot]\n",
    "        return False\n",
    "    except Exception:\n",
    "        return True\n",
    "\n",
    "def pepPositionHelper(seq,prot,fasta):\n",
    "    if fastaError(prot,fasta):\n",
    "        start, end = np.NaN, np.NaN \n",
    "        warnings.warn(f'No matching entry for {prot} in the selected fasta.')\n",
    "    else:\n",
    "        search_res = re.search(seq,fasta[prot].sequence)\n",
    "        if search_res is None:\n",
    "            start, end = np.NaN, np.NaN\n",
    "            warnings.warn(f'Peptide sequence {seq} could not be mached to {prot} in the selected fasta.')\n",
    "        else:\n",
    "            start, end = search_res.span()\n",
    "    return start, end-1\n",
    "\n",
    "def test_pepPositionHelper():\n",
    "    start, end = pepPositionHelper(\"PEPTIDER\",\"A0A024R161\",test_fasta)\n",
    "    np.testing.assert_equal([start, end], [3,10])\n",
    "\n",
    "test_pepPositionHelper()"
   ]
  },
  {
   "cell_type": "code",
   "execution_count": null,
   "metadata": {},
   "outputs": [],
   "source": [
    "#hide \n",
    "\n",
    "import warnings\n",
    "\n",
    "def getPeptidePosition(df, fasta):\n",
    "    res = df.copy(deep=True)\n",
    "    res[['start','end']] = res.apply(lambda row: pepPositionHelper(row['naked_sequence'], \n",
    "                                                                   row['unique_protein_id'], \n",
    "                                                                   fasta), \n",
    "                                     axis=1, result_type='expand')\n",
    "    \n",
    "    res_na = res[res.isnull().any(1)]\n",
    "    prots_na = res_na.unique_protein_id.unique()\n",
    "    \n",
    "    res = res.dropna()\n",
    "    res['start'] = res['start'].astype(int)\n",
    "    res['end'] = res['end'].astype(int)\n",
    "    return res\n",
    "\n",
    "def test_getPeptidePosition():\n",
    "    with warnings.catch_warnings(record=True) as w:\n",
    "        res = getPeptidePosition(test_df_expanded, test_fasta)\n",
    "        assert len(w) == 2\n",
    "        assert \"Peptide sequence NONSEQ could not be mached\" in str(w[0].message)\n",
    "        assert \"No matching entry for Nonsense\" in str(w[1].message)\n",
    "    pd.testing.assert_frame_equal(res,test_df_expanded_peptide_position)\n",
    "    \n",
    "test_getPeptidePosition()"
   ]
  },
  {
   "cell_type": "markdown",
   "metadata": {},
   "source": [
    "## Grep all modifications"
   ]
  },
  {
   "cell_type": "code",
   "execution_count": null,
   "metadata": {},
   "outputs": [],
   "source": [
    "#hide \n",
    "\n",
    "def getPTMsites(peptide, modification_reg):\n",
    "    r = re.compile(modification_reg)\n",
    "    starts=[]\n",
    "    ends=[]\n",
    "    for m in r.finditer(peptide):\n",
    "        starts.append(m.start())\n",
    "        ends.append(m.end())\n",
    "    PTM_sites = np.zeros(len(starts))\n",
    "    for idx in range(0,len(starts)):\n",
    "        if idx > 0:\n",
    "            previous_len=previous_len+(ends[idx-1]-starts[idx-1])\n",
    "        else:\n",
    "            previous_len=0\n",
    "        PTM_sites[idx] = starts[idx] - previous_len - 1\n",
    "    return [int(i) for i in PTM_sites]\n",
    "\n",
    "def test_getPTMsites():\n",
    "    myPep = \"PEPT[Phospho]IDE[GlyGly (K)]R\"\n",
    "    res = getPTMsites(myPep, modification_reg=r'\\[.*?\\]')\n",
    "    np.testing.assert_equal(res, [3,6])\n",
    "    \n",
    "test_getPTMsites()"
   ]
  },
  {
   "cell_type": "code",
   "execution_count": null,
   "metadata": {},
   "outputs": [],
   "source": [
    "#hide\n",
    "\n",
    "def getModifications(df, mod_reg):\n",
    "    res = df.copy(deep=True)\n",
    "    res['PTMsites'] = res.apply(lambda row: getPTMsites(row['modified_sequence'], \n",
    "                                                        modification_reg=mod_reg), axis=1)\n",
    "    res['PTMtypes'] = res.apply(lambda row: re.findall(mod_reg, row['modified_sequence']), axis=1)\n",
    "    return res\n",
    "\n",
    "def test_getModifications():\n",
    "    res = getModifications(test_df_expanded_peptide_position, mod_reg = r'\\[.*?\\]')\n",
    "    pd.testing.assert_frame_equal(res, test_df_modifications)\n",
    "    \n",
    "test_getModifications()"
   ]
  },
  {
   "cell_type": "markdown",
   "metadata": {},
   "source": [
    "## Preprocessing wrapper"
   ]
  },
  {
   "cell_type": "code",
   "execution_count": null,
   "metadata": {},
   "outputs": [],
   "source": [
    "#export\n",
    "\n",
    "def formatInputData(df, fasta, modification_exp):\n",
    "    res = df.copy(deep=True)\n",
    "    res = expandProteinIds(res)\n",
    "    res = getPeptidePosition(res, fasta = fasta)\n",
    "    res = getModifications(res, mod_reg = modification_exp)\n",
    "    return res"
   ]
  },
  {
   "cell_type": "code",
   "execution_count": null,
   "metadata": {},
   "outputs": [],
   "source": [
    "#hide\n",
    "\n",
    "def test_formatInputData():\n",
    "    with warnings.catch_warnings(record=True) as w:\n",
    "        res = formatInputData(df=test_df, fasta = test_fasta, modification_exp = r'\\[.*?\\]')\n",
    "        assert len(w) == 2\n",
    "        assert \"Peptide sequence NONSEQ could not be mached\" in str(w[0].message)\n",
    "        assert \"No matching entry for Nonsense\" in str(w[1].message)   \n",
    "    pd.testing.assert_frame_equal(res, test_df_modifications)\n",
    "\n",
    "test_formatInputData()"
   ]
  },
  {
   "cell_type": "markdown",
   "metadata": {},
   "source": [
    "## Export notebook to script"
   ]
  },
  {
   "cell_type": "code",
   "execution_count": null,
   "metadata": {},
   "outputs": [],
   "source": [
    "#hide\n",
    "from nbdev.showdoc import *"
   ]
  },
  {
   "cell_type": "code",
   "execution_count": null,
   "metadata": {},
   "outputs": [
    {
     "name": "stdout",
     "output_type": "stream",
     "text": [
      "Converted Preprocessing.ipynb.\n",
      "Converted index.ipynb.\n"
     ]
    }
   ],
   "source": [
    "#hide\n",
    "from nbdev.export import *\n",
    "notebook2script()"
   ]
  },
  {
   "cell_type": "code",
   "execution_count": null,
   "metadata": {},
   "outputs": [],
   "source": []
  },
  {
   "cell_type": "code",
   "execution_count": null,
   "metadata": {},
   "outputs": [],
   "source": []
  }
 ],
 "metadata": {
  "kernelspec": {
   "display_name": "Python (alphapept)",
   "language": "python",
   "name": "alphapept"
  }
 },
 "nbformat": 4,
 "nbformat_minor": 2
}
