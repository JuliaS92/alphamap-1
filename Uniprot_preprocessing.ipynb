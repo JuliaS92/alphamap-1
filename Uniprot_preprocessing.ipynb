{
 "cells": [
  {
   "cell_type": "markdown",
   "metadata": {},
   "source": [
    "# This notebook shows how to load and format a UniProt annotation file"
   ]
  },
  {
   "cell_type": "markdown",
   "metadata": {},
   "source": [
    "### Instructions on how to download a UniProt annotation file\n",
    "\n",
    "1. Go to the Uniprot website(https://www.uniprot.org/uniprot/), select the organism of interest in the \"Popular organisms\" section and click on it.\n",
    "2. Click the \"Download\" button and select \"Text\" format.\n",
    "3. Select the \"Compressed\" radio button and click \"Go\".\n",
    "4. Unzip the downloaded file and specify the path to this file."
   ]
  },
  {
   "cell_type": "code",
   "execution_count": 1,
   "metadata": {},
   "outputs": [],
   "source": [
    "path_downloaded_uniprot = '../UniprotAnnotations/uniprot_human_111120.txt'"
   ]
  },
  {
   "cell_type": "markdown",
   "metadata": {},
   "source": [
    "### Import and process the uniprot annotation file"
   ]
  },
  {
   "cell_type": "code",
   "execution_count": 2,
   "metadata": {},
   "outputs": [],
   "source": [
    "from pepmap.uniprot_integration import preprocess_uniprot"
   ]
  },
  {
   "cell_type": "code",
   "execution_count": 3,
   "metadata": {},
   "outputs": [],
   "source": [
    "uniprot_df = preprocess_uniprot(path_downloaded_uniprot)"
   ]
  },
  {
   "cell_type": "code",
   "execution_count": 4,
   "metadata": {},
   "outputs": [
    {
     "name": "stdout",
     "output_type": "stream",
     "text": [
      "<class 'pandas.core.frame.DataFrame'>\n",
      "RangeIndex: 1319984 entries, 0 to 1319983\n",
      "Data columns (total 6 columns):\n",
      " #   Column      Non-Null Count    Dtype   \n",
      "---  ------      --------------    -----   \n",
      " 0   protein_id  1319984 non-null  object  \n",
      " 1   feature     1319984 non-null  category\n",
      " 2   isoform_id  1319984 non-null  object  \n",
      " 3   start       1319984 non-null  float64 \n",
      " 4   end         908352 non-null   float64 \n",
      " 5   note        1319984 non-null  object  \n",
      "dtypes: category(1), float64(2), object(3)\n",
      "memory usage: 51.6+ MB\n"
     ]
    }
   ],
   "source": [
    "uniprot_df.info()"
   ]
  },
  {
   "cell_type": "code",
   "execution_count": 5,
   "metadata": {},
   "outputs": [
    {
     "data": {
      "text/html": [
       "<div>\n",
       "<style scoped>\n",
       "    .dataframe tbody tr th:only-of-type {\n",
       "        vertical-align: middle;\n",
       "    }\n",
       "\n",
       "    .dataframe tbody tr th {\n",
       "        vertical-align: top;\n",
       "    }\n",
       "\n",
       "    .dataframe thead th {\n",
       "        text-align: right;\n",
       "    }\n",
       "</style>\n",
       "<table border=\"1\" class=\"dataframe\">\n",
       "  <thead>\n",
       "    <tr style=\"text-align: right;\">\n",
       "      <th></th>\n",
       "      <th>protein_id</th>\n",
       "      <th>feature</th>\n",
       "      <th>isoform_id</th>\n",
       "      <th>start</th>\n",
       "      <th>end</th>\n",
       "      <th>note</th>\n",
       "    </tr>\n",
       "  </thead>\n",
       "  <tbody>\n",
       "    <tr>\n",
       "      <th>0</th>\n",
       "      <td>Q8N7X0</td>\n",
       "      <td>CHAIN</td>\n",
       "      <td></td>\n",
       "      <td>1.0</td>\n",
       "      <td>1667.0</td>\n",
       "      <td>Androglobin</td>\n",
       "    </tr>\n",
       "    <tr>\n",
       "      <th>1</th>\n",
       "      <td>Q8N7X0</td>\n",
       "      <td>DOMAIN</td>\n",
       "      <td></td>\n",
       "      <td>70.0</td>\n",
       "      <td>411.0</td>\n",
       "      <td>Calpain catalytic</td>\n",
       "    </tr>\n",
       "    <tr>\n",
       "      <th>2</th>\n",
       "      <td>Q8N7X0</td>\n",
       "      <td>DOMAIN</td>\n",
       "      <td></td>\n",
       "      <td>906.0</td>\n",
       "      <td>935.0</td>\n",
       "      <td>IQ</td>\n",
       "    </tr>\n",
       "    <tr>\n",
       "      <th>3</th>\n",
       "      <td>Q8N7X0</td>\n",
       "      <td>COILED</td>\n",
       "      <td></td>\n",
       "      <td>1588.0</td>\n",
       "      <td>1629.0</td>\n",
       "      <td></td>\n",
       "    </tr>\n",
       "    <tr>\n",
       "      <th>4</th>\n",
       "      <td>Q8N7X0</td>\n",
       "      <td>VAR_SEQ</td>\n",
       "      <td></td>\n",
       "      <td>1.0</td>\n",
       "      <td>951.0</td>\n",
       "      <td>Missing (in isoform 2)</td>\n",
       "    </tr>\n",
       "  </tbody>\n",
       "</table>\n",
       "</div>"
      ],
      "text/plain": [
       "  protein_id  feature isoform_id   start     end                    note\n",
       "0     Q8N7X0    CHAIN                1.0  1667.0             Androglobin\n",
       "1     Q8N7X0   DOMAIN               70.0   411.0       Calpain catalytic\n",
       "2     Q8N7X0   DOMAIN              906.0   935.0                      IQ\n",
       "3     Q8N7X0   COILED             1588.0  1629.0                        \n",
       "4     Q8N7X0  VAR_SEQ                1.0   951.0  Missing (in isoform 2)"
      ]
     },
     "execution_count": 5,
     "metadata": {},
     "output_type": "execute_result"
    }
   ],
   "source": [
    "uniprot_df[0:5]"
   ]
  },
  {
   "cell_type": "markdown",
   "metadata": {},
   "source": [
    "### Save the preprocessed UniProt data to the desired location"
   ]
  },
  {
   "cell_type": "code",
   "execution_count": 6,
   "metadata": {},
   "outputs": [],
   "source": [
    "uniprot_df.to_csv('../UniprotAnnotations/preprocessed_uniprot_human.csv', index=False)"
   ]
  },
  {
   "cell_type": "code",
   "execution_count": null,
   "metadata": {},
   "outputs": [],
   "source": []
  }
 ],
 "metadata": {
  "kernelspec": {
   "display_name": "Python [conda env:pepmap]",
   "language": "python",
   "name": "conda-env-pepmap-py"
  },
  "language_info": {
   "codemirror_mode": {
    "name": "ipython",
    "version": 3
   },
   "file_extension": ".py",
   "mimetype": "text/x-python",
   "name": "python",
   "nbconvert_exporter": "python",
   "pygments_lexer": "ipython3",
   "version": "3.7.9"
  }
 },
 "nbformat": 4,
 "nbformat_minor": 2
}
